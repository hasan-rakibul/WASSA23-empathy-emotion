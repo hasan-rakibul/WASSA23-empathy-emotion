{
 "cells": [
  {
   "cell_type": "code",
   "execution_count": 1,
   "metadata": {},
   "outputs": [],
   "source": [
    "import pandas as pd\n",
    "import numpy as np\n",
    "import matplotlib.pyplot as plt"
   ]
  },
  {
   "attachments": {},
   "cell_type": "markdown",
   "metadata": {},
   "source": [
    "# Prediction model"
   ]
  },
  {
   "cell_type": "code",
   "execution_count": 27,
   "metadata": {},
   "outputs": [],
   "source": [
    "empathy_fasttext = pd.read_csv('./empathy_fasttext.csv', index_col=0)"
   ]
  },
  {
   "cell_type": "code",
   "execution_count": 28,
   "metadata": {},
   "outputs": [
    {
     "data": {
      "text/html": [
       "<div>\n",
       "<style scoped>\n",
       "    .dataframe tbody tr th:only-of-type {\n",
       "        vertical-align: middle;\n",
       "    }\n",
       "\n",
       "    .dataframe tbody tr th {\n",
       "        vertical-align: top;\n",
       "    }\n",
       "\n",
       "    .dataframe thead th {\n",
       "        text-align: right;\n",
       "    }\n",
       "</style>\n",
       "<table border=\"1\" class=\"dataframe\">\n",
       "  <thead>\n",
       "    <tr style=\"text-align: right;\">\n",
       "      <th></th>\n",
       "      <th>emotion</th>\n",
       "      <th>conversation_id</th>\n",
       "      <th>article_id</th>\n",
       "      <th>empathy</th>\n",
       "      <th>distress</th>\n",
       "      <th>gender</th>\n",
       "      <th>education</th>\n",
       "      <th>race</th>\n",
       "      <th>age</th>\n",
       "      <th>income</th>\n",
       "      <th>...</th>\n",
       "      <th>fasttext_290</th>\n",
       "      <th>fasttext_291</th>\n",
       "      <th>fasttext_292</th>\n",
       "      <th>fasttext_293</th>\n",
       "      <th>fasttext_294</th>\n",
       "      <th>fasttext_295</th>\n",
       "      <th>fasttext_296</th>\n",
       "      <th>fasttext_297</th>\n",
       "      <th>fasttext_298</th>\n",
       "      <th>fasttext_299</th>\n",
       "    </tr>\n",
       "  </thead>\n",
       "  <tbody>\n",
       "    <tr>\n",
       "      <th>0</th>\n",
       "      <td>20</td>\n",
       "      <td>2</td>\n",
       "      <td>35</td>\n",
       "      <td>6.714286</td>\n",
       "      <td>6.714286</td>\n",
       "      <td>1.0</td>\n",
       "      <td>6.0</td>\n",
       "      <td>3.0</td>\n",
       "      <td>37.0</td>\n",
       "      <td>40000.0</td>\n",
       "      <td>...</td>\n",
       "      <td>0.031908</td>\n",
       "      <td>0.008618</td>\n",
       "      <td>-0.084222</td>\n",
       "      <td>0.009917</td>\n",
       "      <td>-0.015905</td>\n",
       "      <td>0.013034</td>\n",
       "      <td>0.009217</td>\n",
       "      <td>0.101176</td>\n",
       "      <td>-0.013040</td>\n",
       "      <td>0.002871</td>\n",
       "    </tr>\n",
       "    <tr>\n",
       "      <th>1</th>\n",
       "      <td>0</td>\n",
       "      <td>3</td>\n",
       "      <td>35</td>\n",
       "      <td>5.857143</td>\n",
       "      <td>6.000000</td>\n",
       "      <td>1.0</td>\n",
       "      <td>6.0</td>\n",
       "      <td>2.0</td>\n",
       "      <td>32.0</td>\n",
       "      <td>35000.0</td>\n",
       "      <td>...</td>\n",
       "      <td>0.036240</td>\n",
       "      <td>0.009713</td>\n",
       "      <td>-0.074727</td>\n",
       "      <td>-0.008554</td>\n",
       "      <td>-0.012608</td>\n",
       "      <td>0.013154</td>\n",
       "      <td>0.003391</td>\n",
       "      <td>0.072847</td>\n",
       "      <td>-0.003598</td>\n",
       "      <td>-0.001064</td>\n",
       "    </tr>\n",
       "    <tr>\n",
       "      <th>2</th>\n",
       "      <td>27</td>\n",
       "      <td>5</td>\n",
       "      <td>35</td>\n",
       "      <td>1.000000</td>\n",
       "      <td>1.428571</td>\n",
       "      <td>1.0</td>\n",
       "      <td>6.0</td>\n",
       "      <td>1.0</td>\n",
       "      <td>29.0</td>\n",
       "      <td>85000.0</td>\n",
       "      <td>...</td>\n",
       "      <td>0.029181</td>\n",
       "      <td>0.004013</td>\n",
       "      <td>-0.071510</td>\n",
       "      <td>-0.003602</td>\n",
       "      <td>-0.014522</td>\n",
       "      <td>0.005235</td>\n",
       "      <td>-0.002368</td>\n",
       "      <td>0.090139</td>\n",
       "      <td>-0.004795</td>\n",
       "      <td>0.012187</td>\n",
       "    </tr>\n",
       "    <tr>\n",
       "      <th>3</th>\n",
       "      <td>27</td>\n",
       "      <td>6</td>\n",
       "      <td>213</td>\n",
       "      <td>6.000000</td>\n",
       "      <td>6.857143</td>\n",
       "      <td>2.0</td>\n",
       "      <td>5.0</td>\n",
       "      <td>1.0</td>\n",
       "      <td>28.0</td>\n",
       "      <td>50000.0</td>\n",
       "      <td>...</td>\n",
       "      <td>0.033555</td>\n",
       "      <td>0.014324</td>\n",
       "      <td>-0.072501</td>\n",
       "      <td>0.023933</td>\n",
       "      <td>-0.021073</td>\n",
       "      <td>0.010637</td>\n",
       "      <td>-0.005696</td>\n",
       "      <td>0.088332</td>\n",
       "      <td>-0.022485</td>\n",
       "      <td>0.023060</td>\n",
       "    </tr>\n",
       "    <tr>\n",
       "      <th>4</th>\n",
       "      <td>24</td>\n",
       "      <td>8</td>\n",
       "      <td>213</td>\n",
       "      <td>6.000000</td>\n",
       "      <td>1.000000</td>\n",
       "      <td>1.0</td>\n",
       "      <td>6.0</td>\n",
       "      <td>3.0</td>\n",
       "      <td>37.0</td>\n",
       "      <td>40000.0</td>\n",
       "      <td>...</td>\n",
       "      <td>0.028484</td>\n",
       "      <td>-0.005003</td>\n",
       "      <td>-0.073540</td>\n",
       "      <td>0.002448</td>\n",
       "      <td>-0.019296</td>\n",
       "      <td>0.008079</td>\n",
       "      <td>0.011888</td>\n",
       "      <td>0.088122</td>\n",
       "      <td>-0.007650</td>\n",
       "      <td>-0.003173</td>\n",
       "    </tr>\n",
       "    <tr>\n",
       "      <th>...</th>\n",
       "      <td>...</td>\n",
       "      <td>...</td>\n",
       "      <td>...</td>\n",
       "      <td>...</td>\n",
       "      <td>...</td>\n",
       "      <td>...</td>\n",
       "      <td>...</td>\n",
       "      <td>...</td>\n",
       "      <td>...</td>\n",
       "      <td>...</td>\n",
       "      <td>...</td>\n",
       "      <td>...</td>\n",
       "      <td>...</td>\n",
       "      <td>...</td>\n",
       "      <td>...</td>\n",
       "      <td>...</td>\n",
       "      <td>...</td>\n",
       "      <td>...</td>\n",
       "      <td>...</td>\n",
       "      <td>...</td>\n",
       "      <td>...</td>\n",
       "    </tr>\n",
       "    <tr>\n",
       "      <th>787</th>\n",
       "      <td>24</td>\n",
       "      <td>495</td>\n",
       "      <td>218</td>\n",
       "      <td>6.571429</td>\n",
       "      <td>6.714286</td>\n",
       "      <td>1.0</td>\n",
       "      <td>6.0</td>\n",
       "      <td>3.0</td>\n",
       "      <td>37.0</td>\n",
       "      <td>40000.0</td>\n",
       "      <td>...</td>\n",
       "      <td>0.016001</td>\n",
       "      <td>-0.012279</td>\n",
       "      <td>-0.068207</td>\n",
       "      <td>0.004699</td>\n",
       "      <td>-0.006312</td>\n",
       "      <td>-0.000172</td>\n",
       "      <td>0.004574</td>\n",
       "      <td>0.092242</td>\n",
       "      <td>-0.002821</td>\n",
       "      <td>0.023676</td>\n",
       "    </tr>\n",
       "    <tr>\n",
       "      <th>788</th>\n",
       "      <td>24</td>\n",
       "      <td>496</td>\n",
       "      <td>103</td>\n",
       "      <td>3.571429</td>\n",
       "      <td>6.428571</td>\n",
       "      <td>2.0</td>\n",
       "      <td>5.0</td>\n",
       "      <td>1.0</td>\n",
       "      <td>28.0</td>\n",
       "      <td>50000.0</td>\n",
       "      <td>...</td>\n",
       "      <td>0.044965</td>\n",
       "      <td>0.000671</td>\n",
       "      <td>-0.071815</td>\n",
       "      <td>0.007341</td>\n",
       "      <td>-0.009898</td>\n",
       "      <td>0.017540</td>\n",
       "      <td>0.007518</td>\n",
       "      <td>0.066064</td>\n",
       "      <td>-0.006650</td>\n",
       "      <td>0.003420</td>\n",
       "    </tr>\n",
       "    <tr>\n",
       "      <th>789</th>\n",
       "      <td>24</td>\n",
       "      <td>498</td>\n",
       "      <td>103</td>\n",
       "      <td>5.428571</td>\n",
       "      <td>2.000000</td>\n",
       "      <td>2.0</td>\n",
       "      <td>6.0</td>\n",
       "      <td>1.0</td>\n",
       "      <td>33.0</td>\n",
       "      <td>110000.0</td>\n",
       "      <td>...</td>\n",
       "      <td>0.016542</td>\n",
       "      <td>0.000684</td>\n",
       "      <td>-0.024153</td>\n",
       "      <td>0.012848</td>\n",
       "      <td>-0.005384</td>\n",
       "      <td>-0.005280</td>\n",
       "      <td>-0.023967</td>\n",
       "      <td>0.063515</td>\n",
       "      <td>0.011698</td>\n",
       "      <td>-0.004720</td>\n",
       "    </tr>\n",
       "    <tr>\n",
       "      <th>790</th>\n",
       "      <td>14</td>\n",
       "      <td>499</td>\n",
       "      <td>103</td>\n",
       "      <td>6.000000</td>\n",
       "      <td>6.000000</td>\n",
       "      <td>2.0</td>\n",
       "      <td>3.0</td>\n",
       "      <td>1.0</td>\n",
       "      <td>27.0</td>\n",
       "      <td>25000.0</td>\n",
       "      <td>...</td>\n",
       "      <td>0.038192</td>\n",
       "      <td>-0.000660</td>\n",
       "      <td>-0.081046</td>\n",
       "      <td>-0.002569</td>\n",
       "      <td>-0.011361</td>\n",
       "      <td>0.006441</td>\n",
       "      <td>0.008258</td>\n",
       "      <td>0.089426</td>\n",
       "      <td>-0.011913</td>\n",
       "      <td>0.003074</td>\n",
       "    </tr>\n",
       "    <tr>\n",
       "      <th>791</th>\n",
       "      <td>27</td>\n",
       "      <td>500</td>\n",
       "      <td>103</td>\n",
       "      <td>1.428571</td>\n",
       "      <td>5.428571</td>\n",
       "      <td>1.0</td>\n",
       "      <td>6.0</td>\n",
       "      <td>3.0</td>\n",
       "      <td>37.0</td>\n",
       "      <td>40000.0</td>\n",
       "      <td>...</td>\n",
       "      <td>0.025557</td>\n",
       "      <td>-0.012720</td>\n",
       "      <td>-0.076780</td>\n",
       "      <td>0.003712</td>\n",
       "      <td>-0.005916</td>\n",
       "      <td>0.011752</td>\n",
       "      <td>0.003682</td>\n",
       "      <td>0.068625</td>\n",
       "      <td>-0.005581</td>\n",
       "      <td>0.012416</td>\n",
       "    </tr>\n",
       "  </tbody>\n",
       "</table>\n",
       "<p>779 rows × 320 columns</p>\n",
       "</div>"
      ],
      "text/plain": [
       "     emotion  conversation_id  article_id   empathy  distress  gender  \\\n",
       "0         20                2          35  6.714286  6.714286     1.0   \n",
       "1          0                3          35  5.857143  6.000000     1.0   \n",
       "2         27                5          35  1.000000  1.428571     1.0   \n",
       "3         27                6         213  6.000000  6.857143     2.0   \n",
       "4         24                8         213  6.000000  1.000000     1.0   \n",
       "..       ...              ...         ...       ...       ...     ...   \n",
       "787       24              495         218  6.571429  6.714286     1.0   \n",
       "788       24              496         103  3.571429  6.428571     2.0   \n",
       "789       24              498         103  5.428571  2.000000     2.0   \n",
       "790       14              499         103  6.000000  6.000000     2.0   \n",
       "791       27              500         103  1.428571  5.428571     1.0   \n",
       "\n",
       "     education  race   age    income  ...  fasttext_290  fasttext_291  \\\n",
       "0          6.0   3.0  37.0   40000.0  ...      0.031908      0.008618   \n",
       "1          6.0   2.0  32.0   35000.0  ...      0.036240      0.009713   \n",
       "2          6.0   1.0  29.0   85000.0  ...      0.029181      0.004013   \n",
       "3          5.0   1.0  28.0   50000.0  ...      0.033555      0.014324   \n",
       "4          6.0   3.0  37.0   40000.0  ...      0.028484     -0.005003   \n",
       "..         ...   ...   ...       ...  ...           ...           ...   \n",
       "787        6.0   3.0  37.0   40000.0  ...      0.016001     -0.012279   \n",
       "788        5.0   1.0  28.0   50000.0  ...      0.044965      0.000671   \n",
       "789        6.0   1.0  33.0  110000.0  ...      0.016542      0.000684   \n",
       "790        3.0   1.0  27.0   25000.0  ...      0.038192     -0.000660   \n",
       "791        6.0   3.0  37.0   40000.0  ...      0.025557     -0.012720   \n",
       "\n",
       "     fasttext_292  fasttext_293  fasttext_294  fasttext_295  fasttext_296  \\\n",
       "0       -0.084222      0.009917     -0.015905      0.013034      0.009217   \n",
       "1       -0.074727     -0.008554     -0.012608      0.013154      0.003391   \n",
       "2       -0.071510     -0.003602     -0.014522      0.005235     -0.002368   \n",
       "3       -0.072501      0.023933     -0.021073      0.010637     -0.005696   \n",
       "4       -0.073540      0.002448     -0.019296      0.008079      0.011888   \n",
       "..            ...           ...           ...           ...           ...   \n",
       "787     -0.068207      0.004699     -0.006312     -0.000172      0.004574   \n",
       "788     -0.071815      0.007341     -0.009898      0.017540      0.007518   \n",
       "789     -0.024153      0.012848     -0.005384     -0.005280     -0.023967   \n",
       "790     -0.081046     -0.002569     -0.011361      0.006441      0.008258   \n",
       "791     -0.076780      0.003712     -0.005916      0.011752      0.003682   \n",
       "\n",
       "     fasttext_297  fasttext_298  fasttext_299  \n",
       "0        0.101176     -0.013040      0.002871  \n",
       "1        0.072847     -0.003598     -0.001064  \n",
       "2        0.090139     -0.004795      0.012187  \n",
       "3        0.088332     -0.022485      0.023060  \n",
       "4        0.088122     -0.007650     -0.003173  \n",
       "..            ...           ...           ...  \n",
       "787      0.092242     -0.002821      0.023676  \n",
       "788      0.066064     -0.006650      0.003420  \n",
       "789      0.063515      0.011698     -0.004720  \n",
       "790      0.089426     -0.011913      0.003074  \n",
       "791      0.068625     -0.005581      0.012416  \n",
       "\n",
       "[779 rows x 320 columns]"
      ]
     },
     "execution_count": 28,
     "metadata": {},
     "output_type": "execute_result"
    }
   ],
   "source": [
    "empathy_fasttext"
   ]
  },
  {
   "attachments": {},
   "cell_type": "markdown",
   "metadata": {},
   "source": [
    "## MLP"
   ]
  },
  {
   "cell_type": "code",
   "execution_count": 27,
   "metadata": {},
   "outputs": [
    {
     "name": "stderr",
     "output_type": "stream",
     "text": [
      "2023-04-06 09:49:43.486491: I tensorflow/core/platform/cpu_feature_guard.cc:193] This TensorFlow binary is optimized with oneAPI Deep Neural Network Library (oneDNN) to use the following CPU instructions in performance-critical operations:  SSE4.1 SSE4.2 AVX AVX2 AVX512F AVX512_VNNI FMA\n",
      "To enable them in other operations, rebuild TensorFlow with the appropriate compiler flags.\n"
     ]
    }
   ],
   "source": [
    "import tensorflow as tf\n",
    "from scipy import stats as st"
   ]
  },
  {
   "cell_type": "code",
   "execution_count": 28,
   "metadata": {},
   "outputs": [],
   "source": [
    "X = empathy_fasttext.drop(columns=['empathy', 'distress']).values\n",
    "y = empathy_fasttext[['empathy', 'distress']].values"
   ]
  },
  {
   "cell_type": "code",
   "execution_count": 29,
   "metadata": {},
   "outputs": [
    {
     "data": {
      "text/plain": [
       "array([[ 2.00000000e+01,  2.00000000e+00,  3.50000000e+01, ...,\n",
       "         1.01176105e-01, -1.30398022e-02,  2.87130382e-03],\n",
       "       [ 0.00000000e+00,  3.00000000e+00,  3.50000000e+01, ...,\n",
       "         7.28467032e-02, -3.59782809e-03, -1.06365152e-03],\n",
       "       [ 2.70000000e+01,  5.00000000e+00,  3.50000000e+01, ...,\n",
       "         9.01388749e-02, -4.79496131e-03,  1.21865291e-02],\n",
       "       ...,\n",
       "       [ 2.40000000e+01,  4.98000000e+02,  1.03000000e+02, ...,\n",
       "         6.35147393e-02,  1.16981110e-02, -4.71971324e-03],\n",
       "       [ 1.40000000e+01,  4.99000000e+02,  1.03000000e+02, ...,\n",
       "         8.94262865e-02, -1.19128861e-02,  3.07365879e-03],\n",
       "       [ 2.70000000e+01,  5.00000000e+02,  1.03000000e+02, ...,\n",
       "         6.86254874e-02, -5.58114378e-03,  1.24159250e-02]])"
      ]
     },
     "execution_count": 29,
     "metadata": {},
     "output_type": "execute_result"
    }
   ],
   "source": [
    "X"
   ]
  },
  {
   "cell_type": "code",
   "execution_count": 30,
   "metadata": {},
   "outputs": [
    {
     "data": {
      "text/plain": [
       "array([[6.71428571, 6.71428571],\n",
       "       [5.85714286, 6.        ],\n",
       "       [1.        , 1.42857143],\n",
       "       ...,\n",
       "       [5.42857143, 2.        ],\n",
       "       [6.        , 6.        ],\n",
       "       [1.42857143, 5.42857143]])"
      ]
     },
     "execution_count": 30,
     "metadata": {},
     "output_type": "execute_result"
    }
   ],
   "source": [
    "y"
   ]
  },
  {
   "cell_type": "code",
   "execution_count": 61,
   "metadata": {},
   "outputs": [],
   "source": [
    "def pearson_r(y_true, y_pred):\n",
    "    y_pred = y_pred.flatten()\n",
    "    corr = st.pearsonr(y_true,y_pred)\n",
    "    return corr[0]"
   ]
  },
  {
   "cell_type": "code",
   "execution_count": 31,
   "metadata": {},
   "outputs": [],
   "source": [
    "mlp = tf.keras.Sequential([\n",
    "    tf.keras.layers.Dense(512, activation='relu', input_dim=X.shape[1]),\n",
    "    tf.keras.layers.Dense(128, activation='relu'),\n",
    "    tf.keras.layers.Dense(64, activation='relu'),\n",
    "    tf.keras.layers.Dense(2)\n",
    "])"
   ]
  },
  {
   "cell_type": "code",
   "execution_count": 32,
   "metadata": {},
   "outputs": [],
   "source": [
    "mlp.compile(optimizer=tf.keras.optimizers.Adam(), loss='mean_squared_error', metrics=['mae'])"
   ]
  },
  {
   "cell_type": "code",
   "execution_count": 33,
   "metadata": {},
   "outputs": [
    {
     "name": "stdout",
     "output_type": "stream",
     "text": [
      "Epoch 1/50\n",
      "20/20 [==============================] - 2s 71ms/step - loss: 567987.3125 - mae: 489.5900 - val_loss: 17187.1191 - val_mae: 104.2123\n",
      "Epoch 2/50\n",
      "20/20 [==============================] - 1s 61ms/step - loss: 57306.0977 - mae: 170.6395 - val_loss: 22823.2500 - val_mae: 128.0663\n",
      "Epoch 3/50\n",
      "20/20 [==============================] - 2s 104ms/step - loss: 13128.7188 - mae: 78.1480 - val_loss: 1299.1219 - val_mae: 26.5190\n",
      "Epoch 4/50\n",
      "20/20 [==============================] - 1s 63ms/step - loss: 1091.4108 - mae: 23.2836 - val_loss: 357.9757 - val_mae: 15.9225\n",
      "Epoch 5/50\n",
      "20/20 [==============================] - 1s 51ms/step - loss: 223.7249 - mae: 10.6386 - val_loss: 71.2789 - val_mae: 6.4234\n",
      "Epoch 6/50\n",
      "20/20 [==============================] - 1s 41ms/step - loss: 106.5735 - mae: 7.6778 - val_loss: 166.8725 - val_mae: 12.2188\n",
      "Epoch 7/50\n",
      "20/20 [==============================] - 1s 49ms/step - loss: 45.9295 - mae: 5.1086 - val_loss: 30.8351 - val_mae: 4.4703\n",
      "Epoch 8/50\n",
      "20/20 [==============================] - 1s 36ms/step - loss: 39.7583 - mae: 4.7893 - val_loss: 100.2446 - val_mae: 9.2426\n",
      "Epoch 9/50\n",
      "20/20 [==============================] - 1s 57ms/step - loss: 31.8065 - mae: 4.2515 - val_loss: 49.4769 - val_mae: 5.7696\n",
      "Epoch 10/50\n",
      "20/20 [==============================] - 1s 43ms/step - loss: 19.9050 - mae: 3.4243 - val_loss: 51.7420 - val_mae: 5.9272\n",
      "Epoch 11/50\n",
      "20/20 [==============================] - 1s 48ms/step - loss: 23.9342 - mae: 3.6944 - val_loss: 26.0832 - val_mae: 4.4231\n",
      "Epoch 12/50\n",
      "20/20 [==============================] - 1s 44ms/step - loss: 16.2140 - mae: 3.1480 - val_loss: 25.2305 - val_mae: 4.1205\n",
      "Epoch 13/50\n",
      "20/20 [==============================] - 2s 93ms/step - loss: 13.7435 - mae: 2.8568 - val_loss: 23.4702 - val_mae: 4.0674\n",
      "Epoch 14/50\n",
      "20/20 [==============================] - 1s 70ms/step - loss: 12.2616 - mae: 2.7440 - val_loss: 10.7036 - val_mae: 2.6285\n",
      "Epoch 15/50\n",
      "20/20 [==============================] - 3s 128ms/step - loss: 11.2928 - mae: 2.6321 - val_loss: 21.7003 - val_mae: 3.7899\n",
      "Epoch 16/50\n",
      "20/20 [==============================] - 2s 97ms/step - loss: 10.6731 - mae: 2.5357 - val_loss: 11.2266 - val_mae: 2.6992\n",
      "Epoch 17/50\n",
      "20/20 [==============================] - 1s 50ms/step - loss: 9.5879 - mae: 2.4564 - val_loss: 17.5552 - val_mae: 3.4426\n",
      "Epoch 18/50\n",
      "20/20 [==============================] - 2s 91ms/step - loss: 9.2699 - mae: 2.4092 - val_loss: 19.0983 - val_mae: 3.6254\n",
      "Epoch 19/50\n",
      "20/20 [==============================] - 1s 59ms/step - loss: 9.9502 - mae: 2.4827 - val_loss: 21.8166 - val_mae: 3.7838\n",
      "Epoch 20/50\n",
      "20/20 [==============================] - 1s 57ms/step - loss: 10.2863 - mae: 2.5446 - val_loss: 20.5870 - val_mae: 3.5542\n",
      "Epoch 21/50\n",
      "20/20 [==============================] - 1s 46ms/step - loss: 12.9575 - mae: 2.8184 - val_loss: 8.7342 - val_mae: 2.3658\n",
      "Epoch 22/50\n",
      "20/20 [==============================] - 2s 88ms/step - loss: 15.7404 - mae: 3.0991 - val_loss: 9.3829 - val_mae: 2.3631\n",
      "Epoch 23/50\n",
      "20/20 [==============================] - 2s 123ms/step - loss: 29.1281 - mae: 4.2193 - val_loss: 13.4698 - val_mae: 2.9139\n",
      "Epoch 24/50\n",
      "20/20 [==============================] - 1s 60ms/step - loss: 21.5733 - mae: 3.4183 - val_loss: 9.3858 - val_mae: 2.5089\n",
      "Epoch 25/50\n",
      "20/20 [==============================] - 2s 91ms/step - loss: 14.5789 - mae: 2.9673 - val_loss: 5.6117 - val_mae: 1.8702\n",
      "Epoch 26/50\n",
      "20/20 [==============================] - 2s 78ms/step - loss: 19.5715 - mae: 3.4298 - val_loss: 14.7785 - val_mae: 2.9963\n",
      "Epoch 27/50\n",
      "20/20 [==============================] - 2s 82ms/step - loss: 404.2297 - mae: 15.4992 - val_loss: 26.4228 - val_mae: 4.1776\n",
      "Epoch 28/50\n",
      "20/20 [==============================] - 2s 116ms/step - loss: 152.0091 - mae: 7.6479 - val_loss: 8.0400 - val_mae: 2.2336\n",
      "Epoch 29/50\n",
      "20/20 [==============================] - 4s 228ms/step - loss: 23.1316 - mae: 3.6216 - val_loss: 79.5890 - val_mae: 7.2031\n",
      "Epoch 30/50\n",
      "20/20 [==============================] - 3s 158ms/step - loss: 428.5618 - mae: 14.9168 - val_loss: 227.6563 - val_mae: 12.7361\n",
      "Epoch 31/50\n",
      "20/20 [==============================] - 1s 61ms/step - loss: 511.0600 - mae: 16.7526 - val_loss: 859.4979 - val_mae: 25.5914\n",
      "Epoch 32/50\n",
      "20/20 [==============================] - 1s 64ms/step - loss: 333.7692 - mae: 13.7598 - val_loss: 397.1066 - val_mae: 17.1952\n",
      "Epoch 33/50\n",
      "20/20 [==============================] - 2s 81ms/step - loss: 510.1678 - mae: 16.8367 - val_loss: 1038.5544 - val_mae: 27.7534\n",
      "Epoch 34/50\n",
      "20/20 [==============================] - 4s 202ms/step - loss: 788.0584 - mae: 19.6526 - val_loss: 4347.7339 - val_mae: 57.0338\n",
      "Epoch 35/50\n",
      "20/20 [==============================] - 2s 74ms/step - loss: 68864.3516 - mae: 198.1030 - val_loss: 18251.3145 - val_mae: 114.1711\n",
      "Epoch 36/50\n",
      "20/20 [==============================] - 2s 85ms/step - loss: 4614.6206 - mae: 46.7148 - val_loss: 1316.1903 - val_mae: 23.6152\n",
      "Epoch 37/50\n",
      "20/20 [==============================] - 1s 47ms/step - loss: 949.4514 - mae: 21.8023 - val_loss: 616.8998 - val_mae: 21.0790\n",
      "Epoch 38/50\n",
      "20/20 [==============================] - 2s 107ms/step - loss: 804.8913 - mae: 21.0522 - val_loss: 198.7580 - val_mae: 12.0142\n",
      "Epoch 39/50\n",
      "20/20 [==============================] - 2s 85ms/step - loss: 590.9230 - mae: 16.7320 - val_loss: 185.7000 - val_mae: 11.5020\n",
      "Epoch 40/50\n",
      "20/20 [==============================] - 1s 58ms/step - loss: 296.9182 - mae: 12.9874 - val_loss: 270.5009 - val_mae: 14.1959\n",
      "Epoch 41/50\n",
      "20/20 [==============================] - 1s 64ms/step - loss: 92.5969 - mae: 6.4264 - val_loss: 27.1538 - val_mae: 4.2962\n",
      "Epoch 42/50\n",
      "20/20 [==============================] - 1s 62ms/step - loss: 39.2785 - mae: 4.8034 - val_loss: 25.9682 - val_mae: 4.0576\n",
      "Epoch 43/50\n",
      "20/20 [==============================] - 3s 172ms/step - loss: 118.6570 - mae: 8.3141 - val_loss: 60.5359 - val_mae: 6.6983\n",
      "Epoch 44/50\n",
      "20/20 [==============================] - 2s 115ms/step - loss: 113.9160 - mae: 8.1390 - val_loss: 35.0816 - val_mae: 4.4105\n",
      "Epoch 45/50\n",
      "20/20 [==============================] - 2s 115ms/step - loss: 42.2127 - mae: 4.6115 - val_loss: 13.6975 - val_mae: 2.8331\n",
      "Epoch 46/50\n",
      "20/20 [==============================] - 2s 125ms/step - loss: 8.4824 - mae: 2.3734 - val_loss: 7.0963 - val_mae: 2.1551\n",
      "Epoch 47/50\n",
      "20/20 [==============================] - 4s 227ms/step - loss: 7.5684 - mae: 2.2621 - val_loss: 5.1456 - val_mae: 1.9279\n",
      "Epoch 48/50\n",
      "20/20 [==============================] - 2s 98ms/step - loss: 10.9743 - mae: 2.5890 - val_loss: 4.8196 - val_mae: 1.8718\n",
      "Epoch 49/50\n",
      "20/20 [==============================] - 3s 131ms/step - loss: 14.0794 - mae: 2.8712 - val_loss: 80.5523 - val_mae: 7.1512\n",
      "Epoch 50/50\n",
      "20/20 [==============================] - 4s 186ms/step - loss: 38.3922 - mae: 4.8641 - val_loss: 37.2675 - val_mae: 4.6490\n"
     ]
    }
   ],
   "source": [
    "mlp_history = mlp.fit(X, y, epochs=50, validation_split=0.2)"
   ]
  },
  {
   "cell_type": "code",
   "execution_count": 34,
   "metadata": {},
   "outputs": [],
   "source": [
    "train_loss = mlp_history.history[\"loss\"]\n",
    "val_loss = mlp_history.history[\"val_loss\"]\n",
    "train_mae = mlp_history.history[\"mae\"]\n",
    "val_mae = mlp_history.history[\"val_mae\"]\n",
    "\n",
    "epochs = range(1, len(train_loss)+1)"
   ]
  },
  {
   "cell_type": "code",
   "execution_count": 38,
   "metadata": {},
   "outputs": [
    {
     "data": {
      "text/plain": [
       "<matplotlib.legend.Legend at 0x7f774ace2620>"
      ]
     },
     "execution_count": 38,
     "metadata": {},
     "output_type": "execute_result"
    },
    {
     "data": {
      "image/png": "[encoded data removed]",
      "text/plain": [
       "<Figure size 640x480 with 1 Axes>"
      ]
     },
     "metadata": {},
     "output_type": "display_data"
    }
   ],
   "source": [
    "plt.plot(epochs, train_loss, 'r--', label=\"Training loss\")\n",
    "plt.plot(epochs, val_loss, 'r', label=\"Validation loss\")\n",
    "# plt.plot(epochs, train_mae, 'b--', label=\"Training MAE\")\n",
    "# plt.plot(epochs, val_mae, 'b', label=\"Validation MAE\")\n",
    "plt.xlabel('Epochs')\n",
    "plt.legend()"
   ]
  },
  {
   "attachments": {},
   "cell_type": "markdown",
   "metadata": {},
   "source": [
    "### MLP with KerasTuner"
   ]
  },
  {
   "cell_type": "code",
   "execution_count": 2,
   "metadata": {},
   "outputs": [],
   "source": [
    "from keras_tuner.tuners import RandomSearch"
   ]
  },
  {
   "cell_type": "code",
   "execution_count": 63,
   "metadata": {},
   "outputs": [],
   "source": [
    "def build_model(hp):\n",
    "    model = tf.keras.Sequential()\n",
    "\n",
    "    # Tune the number of units in the first Dense layer\n",
    "    # Choose an optimal value between min_value and max_value\n",
    "    model.add(tf.keras.layers.Dense(units=hp.Int('input_units', min_value=10, max_value=100, step=30),\n",
    "                                    input_dim=X.shape[1], activation='relu'))\n",
    "    \n",
    "    # add hidden layers with number of layers and neurons per layer tuned by the Keras Tuner\n",
    "    for i in range(hp.Int('hidden_layers', min_value=1, max_value=8)):\n",
    "        model.add(tf.keras.layers.Dense(units=hp.Int(f'hidden_units{i}', min_value=10, max_value=100, step=30),\n",
    "                                        activation='relu'))\n",
    "    \n",
    "    # add output layer with fixed number of neurons\n",
    "    model.add(tf.keras.layers.Dense(2))\n",
    "\n",
    "    # compile the model with fixed optimizer, loss, and metric\n",
    "    # tune the learning rate\n",
    "    hp_learning_rate = hp.Choice('learning_rate', values=[1e-2, 1e-3])\n",
    "    model.compile(optimizer=tf.keras.optimizers.Adam(learning_rate=hp_learning_rate), loss='mean_squared_error', metrics=[pearson_r])\n",
    "\n",
    "    return model"
   ]
  },
  {
   "cell_type": "code",
   "execution_count": 64,
   "metadata": {},
   "outputs": [],
   "source": [
    "# define the Keras Tuner object with the search strategy and search parameters\n",
    "tuner = RandomSearch(\n",
    "    build_model,\n",
    "    objective='val_loss',\n",
    "    overwrite=True,\n",
    "    max_trials=10,\n",
    "    executions_per_trial=3\n",
    ")"
   ]
  },
  {
   "cell_type": "code",
   "execution_count": null,
   "metadata": {},
   "outputs": [],
   "source": [
    "# search for the best model architecture\n",
    "tuner.search(x=X,\n",
    "             y=y,\n",
    "             epochs=50,\n",
    "             batch_size=32,\n",
    "             validation_split=0.2)"
   ]
  },
  {
   "cell_type": "code",
   "execution_count": 53,
   "metadata": {},
   "outputs": [
    {
     "name": "stdout",
     "output_type": "stream",
     "text": [
      "WARNING:tensorflow:Detecting that an object or model or tf.train.Checkpoint is being deleted with unrestored values. See the following logs for the specific values in question. To silence these warnings, use `status.expect_partial()`. See https://www.tensorflow.org/api_docs/python/tf/train/Checkpoint#restorefor details about the status object returned by the restore function.\n"
     ]
    },
    {
     "name": "stderr",
     "output_type": "stream",
     "text": [
      "WARNING:tensorflow:Detecting that an object or model or tf.train.Checkpoint is being deleted with unrestored values. See the following logs for the specific values in question. To silence these warnings, use `status.expect_partial()`. See https://www.tensorflow.org/api_docs/python/tf/train/Checkpoint#restorefor details about the status object returned by the restore function.\n"
     ]
    },
    {
     "name": "stdout",
     "output_type": "stream",
     "text": [
      "WARNING:tensorflow:Value in checkpoint could not be found in the restored object: (root).optimizer._variables.1\n"
     ]
    },
    {
     "name": "stderr",
     "output_type": "stream",
     "text": [
      "WARNING:tensorflow:Value in checkpoint could not be found in the restored object: (root).optimizer._variables.1\n"
     ]
    },
    {
     "name": "stdout",
     "output_type": "stream",
     "text": [
      "WARNING:tensorflow:Value in checkpoint could not be found in the restored object: (root).optimizer._variables.2\n"
     ]
    },
    {
     "name": "stderr",
     "output_type": "stream",
     "text": [
      "WARNING:tensorflow:Value in checkpoint could not be found in the restored object: (root).optimizer._variables.2\n"
     ]
    },
    {
     "name": "stdout",
     "output_type": "stream",
     "text": [
      "WARNING:tensorflow:Value in checkpoint could not be found in the restored object: (root).optimizer._variables.3\n"
     ]
    },
    {
     "name": "stderr",
     "output_type": "stream",
     "text": [
      "WARNING:tensorflow:Value in checkpoint could not be found in the restored object: (root).optimizer._variables.3\n"
     ]
    },
    {
     "name": "stdout",
     "output_type": "stream",
     "text": [
      "WARNING:tensorflow:Value in checkpoint could not be found in the restored object: (root).optimizer._variables.4\n"
     ]
    },
    {
     "name": "stderr",
     "output_type": "stream",
     "text": [
      "WARNING:tensorflow:Value in checkpoint could not be found in the restored object: (root).optimizer._variables.4\n"
     ]
    },
    {
     "name": "stdout",
     "output_type": "stream",
     "text": [
      "WARNING:tensorflow:Value in checkpoint could not be found in the restored object: (root).optimizer._variables.5\n"
     ]
    },
    {
     "name": "stderr",
     "output_type": "stream",
     "text": [
      "WARNING:tensorflow:Value in checkpoint could not be found in the restored object: (root).optimizer._variables.5\n"
     ]
    },
    {
     "name": "stdout",
     "output_type": "stream",
     "text": [
      "WARNING:tensorflow:Value in checkpoint could not be found in the restored object: (root).optimizer._variables.6\n"
     ]
    },
    {
     "name": "stderr",
     "output_type": "stream",
     "text": [
      "WARNING:tensorflow:Value in checkpoint could not be found in the restored object: (root).optimizer._variables.6\n"
     ]
    },
    {
     "name": "stdout",
     "output_type": "stream",
     "text": [
      "WARNING:tensorflow:Value in checkpoint could not be found in the restored object: (root).optimizer._variables.7\n"
     ]
    },
    {
     "name": "stderr",
     "output_type": "stream",
     "text": [
      "WARNING:tensorflow:Value in checkpoint could not be found in the restored object: (root).optimizer._variables.7\n"
     ]
    },
    {
     "name": "stdout",
     "output_type": "stream",
     "text": [
      "WARNING:tensorflow:Value in checkpoint could not be found in the restored object: (root).optimizer._variables.8\n"
     ]
    },
    {
     "name": "stderr",
     "output_type": "stream",
     "text": [
      "WARNING:tensorflow:Value in checkpoint could not be found in the restored object: (root).optimizer._variables.8\n"
     ]
    },
    {
     "name": "stdout",
     "output_type": "stream",
     "text": [
      "WARNING:tensorflow:Value in checkpoint could not be found in the restored object: (root).optimizer._variables.9\n"
     ]
    },
    {
     "name": "stderr",
     "output_type": "stream",
     "text": [
      "WARNING:tensorflow:Value in checkpoint could not be found in the restored object: (root).optimizer._variables.9\n"
     ]
    },
    {
     "name": "stdout",
     "output_type": "stream",
     "text": [
      "WARNING:tensorflow:Value in checkpoint could not be found in the restored object: (root).optimizer._variables.10\n"
     ]
    },
    {
     "name": "stderr",
     "output_type": "stream",
     "text": [
      "WARNING:tensorflow:Value in checkpoint could not be found in the restored object: (root).optimizer._variables.10\n"
     ]
    },
    {
     "name": "stdout",
     "output_type": "stream",
     "text": [
      "WARNING:tensorflow:Value in checkpoint could not be found in the restored object: (root).optimizer._variables.11\n"
     ]
    },
    {
     "name": "stderr",
     "output_type": "stream",
     "text": [
      "WARNING:tensorflow:Value in checkpoint could not be found in the restored object: (root).optimizer._variables.11\n"
     ]
    },
    {
     "name": "stdout",
     "output_type": "stream",
     "text": [
      "WARNING:tensorflow:Value in checkpoint could not be found in the restored object: (root).optimizer._variables.12\n"
     ]
    },
    {
     "name": "stderr",
     "output_type": "stream",
     "text": [
      "WARNING:tensorflow:Value in checkpoint could not be found in the restored object: (root).optimizer._variables.12\n"
     ]
    },
    {
     "name": "stdout",
     "output_type": "stream",
     "text": [
      "WARNING:tensorflow:Value in checkpoint could not be found in the restored object: (root).optimizer._variables.13\n"
     ]
    },
    {
     "name": "stderr",
     "output_type": "stream",
     "text": [
      "WARNING:tensorflow:Value in checkpoint could not be found in the restored object: (root).optimizer._variables.13\n"
     ]
    },
    {
     "name": "stdout",
     "output_type": "stream",
     "text": [
      "WARNING:tensorflow:Value in checkpoint could not be found in the restored object: (root).optimizer._variables.14\n"
     ]
    },
    {
     "name": "stderr",
     "output_type": "stream",
     "text": [
      "WARNING:tensorflow:Value in checkpoint could not be found in the restored object: (root).optimizer._variables.14\n"
     ]
    },
    {
     "name": "stdout",
     "output_type": "stream",
     "text": [
      "WARNING:tensorflow:Value in checkpoint could not be found in the restored object: (root).optimizer._variables.15\n"
     ]
    },
    {
     "name": "stderr",
     "output_type": "stream",
     "text": [
      "WARNING:tensorflow:Value in checkpoint could not be found in the restored object: (root).optimizer._variables.15\n"
     ]
    },
    {
     "name": "stdout",
     "output_type": "stream",
     "text": [
      "WARNING:tensorflow:Value in checkpoint could not be found in the restored object: (root).optimizer._variables.16\n"
     ]
    },
    {
     "name": "stderr",
     "output_type": "stream",
     "text": [
      "WARNING:tensorflow:Value in checkpoint could not be found in the restored object: (root).optimizer._variables.16\n"
     ]
    },
    {
     "name": "stdout",
     "output_type": "stream",
     "text": [
      "WARNING:tensorflow:Value in checkpoint could not be found in the restored object: (root).optimizer._variables.17\n"
     ]
    },
    {
     "name": "stderr",
     "output_type": "stream",
     "text": [
      "WARNING:tensorflow:Value in checkpoint could not be found in the restored object: (root).optimizer._variables.17\n"
     ]
    },
    {
     "name": "stdout",
     "output_type": "stream",
     "text": [
      "WARNING:tensorflow:Value in checkpoint could not be found in the restored object: (root).optimizer._variables.18\n"
     ]
    },
    {
     "name": "stderr",
     "output_type": "stream",
     "text": [
      "WARNING:tensorflow:Value in checkpoint could not be found in the restored object: (root).optimizer._variables.18\n"
     ]
    },
    {
     "name": "stdout",
     "output_type": "stream",
     "text": [
      "WARNING:tensorflow:Value in checkpoint could not be found in the restored object: (root).optimizer._variables.19\n"
     ]
    },
    {
     "name": "stderr",
     "output_type": "stream",
     "text": [
      "WARNING:tensorflow:Value in checkpoint could not be found in the restored object: (root).optimizer._variables.19\n"
     ]
    },
    {
     "name": "stdout",
     "output_type": "stream",
     "text": [
      "WARNING:tensorflow:Value in checkpoint could not be found in the restored object: (root).optimizer._variables.20\n"
     ]
    },
    {
     "name": "stderr",
     "output_type": "stream",
     "text": [
      "WARNING:tensorflow:Value in checkpoint could not be found in the restored object: (root).optimizer._variables.20\n"
     ]
    },
    {
     "name": "stdout",
     "output_type": "stream",
     "text": [
      "WARNING:tensorflow:Value in checkpoint could not be found in the restored object: (root).optimizer._variables.21\n"
     ]
    },
    {
     "name": "stderr",
     "output_type": "stream",
     "text": [
      "WARNING:tensorflow:Value in checkpoint could not be found in the restored object: (root).optimizer._variables.21\n"
     ]
    },
    {
     "name": "stdout",
     "output_type": "stream",
     "text": [
      "WARNING:tensorflow:Value in checkpoint could not be found in the restored object: (root).optimizer._variables.22\n"
     ]
    },
    {
     "name": "stderr",
     "output_type": "stream",
     "text": [
      "WARNING:tensorflow:Value in checkpoint could not be found in the restored object: (root).optimizer._variables.22\n"
     ]
    },
    {
     "name": "stdout",
     "output_type": "stream",
     "text": [
      "WARNING:tensorflow:Value in checkpoint could not be found in the restored object: (root).optimizer._variables.23\n"
     ]
    },
    {
     "name": "stderr",
     "output_type": "stream",
     "text": [
      "WARNING:tensorflow:Value in checkpoint could not be found in the restored object: (root).optimizer._variables.23\n"
     ]
    },
    {
     "name": "stdout",
     "output_type": "stream",
     "text": [
      "WARNING:tensorflow:Value in checkpoint could not be found in the restored object: (root).optimizer._variables.24\n"
     ]
    },
    {
     "name": "stderr",
     "output_type": "stream",
     "text": [
      "WARNING:tensorflow:Value in checkpoint could not be found in the restored object: (root).optimizer._variables.24\n"
     ]
    }
   ],
   "source": [
    "best_model = tuner.get_best_models()[0]"
   ]
  },
  {
   "cell_type": "code",
   "execution_count": 54,
   "metadata": {},
   "outputs": [
    {
     "name": "stdout",
     "output_type": "stream",
     "text": [
      "Model: \"sequential\"\n",
      "_________________________________________________________________\n",
      " Layer (type)                Output Shape              Param #   \n",
      "=================================================================\n",
      " dense (Dense)               (None, 40)                12760     \n",
      "                                                                 \n",
      " dense_1 (Dense)             (None, 30)                1230      \n",
      "                                                                 \n",
      " dense_2 (Dense)             (None, 90)                2790      \n",
      "                                                                 \n",
      " dense_3 (Dense)             (None, 20)                1820      \n",
      "                                                                 \n",
      " dense_4 (Dense)             (None, 40)                840       \n",
      "                                                                 \n",
      " dense_5 (Dense)             (None, 20)                820       \n",
      "                                                                 \n",
      " dense_6 (Dense)             (None, 10)                210       \n",
      "                                                                 \n",
      " dense_7 (Dense)             (None, 10)                110       \n",
      "                                                                 \n",
      " dense_8 (Dense)             (None, 2)                 22        \n",
      "                                                                 \n",
      "=================================================================\n",
      "Total params: 20,602\n",
      "Trainable params: 20,602\n",
      "Non-trainable params: 0\n",
      "_________________________________________________________________\n"
     ]
    }
   ],
   "source": [
    "best_model.summary()"
   ]
  },
  {
   "cell_type": "code",
   "execution_count": 55,
   "metadata": {},
   "outputs": [
    {
     "name": "stdout",
     "output_type": "stream",
     "text": [
      "Epoch 1/50\n",
      "20/20 [==============================] - 2s 29ms/step - loss: 4.0173 - pearson_corr: 1.0135e-09 - val_loss: 3.8279 - val_pearson_corr: -8.9986e-09\n",
      "Epoch 2/50\n",
      "20/20 [==============================] - 1s 32ms/step - loss: 4.0076 - pearson_corr: 7.7384e-09 - val_loss: 3.8470 - val_pearson_corr: 2.8794e-09\n",
      "Epoch 3/50\n",
      "20/20 [==============================] - 1s 32ms/step - loss: 4.0074 - pearson_corr: nan - val_loss: 3.8164 - val_pearson_corr: 7.4264e-08\n",
      "Epoch 4/50\n",
      "20/20 [==============================] - 0s 15ms/step - loss: 4.0060 - pearson_corr: 3.2269e-09 - val_loss: 3.8228 - val_pearson_corr: -6.0309e-08\n",
      "Epoch 5/50\n",
      "20/20 [==============================] - 0s 12ms/step - loss: 4.0122 - pearson_corr: -4.8232e-09 - val_loss: 3.8544 - val_pearson_corr: 8.1617e-08\n",
      "Epoch 6/50\n",
      "20/20 [==============================] - 0s 14ms/step - loss: 4.0227 - pearson_corr: -6.3308e-09 - val_loss: 3.8369 - val_pearson_corr: -2.0322e-08\n",
      "Epoch 7/50\n",
      "20/20 [==============================] - 0s 19ms/step - loss: 4.0045 - pearson_corr: nan - val_loss: 3.8394 - val_pearson_corr: -2.0322e-08\n",
      "Epoch 8/50\n",
      "20/20 [==============================] - 0s 14ms/step - loss: 3.9990 - pearson_corr: 2.8442e-08 - val_loss: 3.8352 - val_pearson_corr: 7.3050e-08\n",
      "Epoch 9/50\n",
      "20/20 [==============================] - 0s 9ms/step - loss: 4.0045 - pearson_corr: nan - val_loss: 3.8585 - val_pearson_corr: 6.8109e-08\n",
      "Epoch 10/50\n",
      "20/20 [==============================] - 0s 9ms/step - loss: 4.0253 - pearson_corr: 3.2126e-08 - val_loss: 3.8296 - val_pearson_corr: -7.5465e-09\n",
      "Epoch 11/50\n",
      "20/20 [==============================] - 0s 10ms/step - loss: 4.0583 - pearson_corr: 2.1438e-08 - val_loss: 3.8519 - val_pearson_corr: 6.0309e-08\n",
      "Epoch 12/50\n",
      "20/20 [==============================] - 0s 11ms/step - loss: 4.0095 - pearson_corr: -1.6341e-08 - val_loss: 3.8448 - val_pearson_corr: -7.8822e-08\n",
      "Epoch 13/50\n",
      "20/20 [==============================] - 0s 11ms/step - loss: 4.0139 - pearson_corr: nan - val_loss: 3.8517 - val_pearson_corr: -2.0830e-08\n",
      "Epoch 14/50\n",
      "20/20 [==============================] - 0s 11ms/step - loss: 4.0185 - pearson_corr: nan - val_loss: 3.8708 - val_pearson_corr: 5.6754e-08\n",
      "Epoch 15/50\n",
      "20/20 [==============================] - 0s 11ms/step - loss: 4.0088 - pearson_corr: nan - val_loss: 3.8218 - val_pearson_corr: 5.3295e-08\n",
      "Epoch 16/50\n",
      "20/20 [==============================] - 0s 19ms/step - loss: 4.0098 - pearson_corr: 1.7894e-08 - val_loss: 3.8543 - val_pearson_corr: 7.5477e-08\n",
      "Epoch 17/50\n",
      "20/20 [==============================] - 0s 20ms/step - loss: 4.0073 - pearson_corr: nan - val_loss: 3.8368 - val_pearson_corr: 5.9571e-08\n",
      "Epoch 18/50\n",
      "20/20 [==============================] - 1s 29ms/step - loss: 4.0020 - pearson_corr: nan - val_loss: 3.8408 - val_pearson_corr: -7.9079e-08\n",
      "Epoch 19/50\n",
      "20/20 [==============================] - 0s 19ms/step - loss: 4.0084 - pearson_corr: 1.4627e-08 - val_loss: 3.8269 - val_pearson_corr: -6.0309e-08\n",
      "Epoch 20/50\n",
      "20/20 [==============================] - 0s 15ms/step - loss: 4.0841 - pearson_corr: nan - val_loss: 4.0548 - val_pearson_corr: 5.8300e-09\n",
      "Epoch 21/50\n",
      "20/20 [==============================] - 0s 16ms/step - loss: 3.9961 - pearson_corr: nan - val_loss: 3.8195 - val_pearson_corr: 8.2417e-08\n",
      "Epoch 22/50\n",
      "20/20 [==============================] - 0s 12ms/step - loss: 4.0254 - pearson_corr: nan - val_loss: 3.8780 - val_pearson_corr: 3.3991e-08\n",
      "Epoch 23/50\n",
      "20/20 [==============================] - 0s 9ms/step - loss: 4.0320 - pearson_corr: nan - val_loss: 3.8128 - val_pearson_corr: -7.5954e-08\n",
      "Epoch 24/50\n",
      "20/20 [==============================] - 0s 10ms/step - loss: 4.0201 - pearson_corr: 2.3724e-08 - val_loss: 3.8454 - val_pearson_corr: 6.0309e-08\n",
      "Epoch 25/50\n",
      "20/20 [==============================] - 0s 11ms/step - loss: 4.0123 - pearson_corr: -8.6631e-09 - val_loss: 3.8510 - val_pearson_corr: -2.1585e-08\n",
      "Epoch 26/50\n",
      "20/20 [==============================] - 0s 10ms/step - loss: 4.0111 - pearson_corr: 4.9853e-08 - val_loss: 3.8610 - val_pearson_corr: -8.0443e-08\n",
      "Epoch 27/50\n",
      "20/20 [==============================] - 0s 11ms/step - loss: 4.0218 - pearson_corr: -1.6153e-08 - val_loss: 3.8305 - val_pearson_corr: 8.0945e-08\n",
      "Epoch 28/50\n",
      "20/20 [==============================] - 0s 8ms/step - loss: 4.0263 - pearson_corr: 1.2192e-08 - val_loss: 3.8194 - val_pearson_corr: 2.0322e-08\n",
      "Epoch 29/50\n",
      "20/20 [==============================] - 0s 9ms/step - loss: 4.0500 - pearson_corr: nan - val_loss: 3.9180 - val_pearson_corr: -9.5564e-09\n",
      "Epoch 30/50\n",
      "20/20 [==============================] - 0s 12ms/step - loss: 4.0663 - pearson_corr: -1.5476e-09 - val_loss: 3.8018 - val_pearson_corr: 5.8685e-08\n",
      "Epoch 31/50\n",
      "20/20 [==============================] - 0s 11ms/step - loss: 4.0415 - pearson_corr: 1.3779e-08 - val_loss: 3.8464 - val_pearson_corr: 8.3850e-08\n",
      "Epoch 32/50\n",
      "20/20 [==============================] - 0s 12ms/step - loss: 4.0367 - pearson_corr: nan - val_loss: 3.8231 - val_pearson_corr: -2.7054e-08\n",
      "Epoch 33/50\n",
      "20/20 [==============================] - 0s 11ms/step - loss: 4.0010 - pearson_corr: nan - val_loss: 3.8425 - val_pearson_corr: 5.6754e-08\n",
      "Epoch 34/50\n",
      "20/20 [==============================] - 0s 10ms/step - loss: 3.9977 - pearson_corr: 1.7917e-08 - val_loss: 3.8170 - val_pearson_corr: -5.6754e-08\n",
      "Epoch 35/50\n",
      "20/20 [==============================] - 0s 15ms/step - loss: 4.0035 - pearson_corr: nan - val_loss: 3.8321 - val_pearson_corr: -5.6754e-08\n",
      "Epoch 36/50\n",
      "20/20 [==============================] - 0s 15ms/step - loss: 4.0014 - pearson_corr: nan - val_loss: 3.8268 - val_pearson_corr: -8.1417e-08\n",
      "Epoch 37/50\n",
      "20/20 [==============================] - 0s 10ms/step - loss: 4.0085 - pearson_corr: -3.5159e-08 - val_loss: 3.8195 - val_pearson_corr: -7.4067e-08\n",
      "Epoch 38/50\n",
      "20/20 [==============================] - 0s 11ms/step - loss: 4.0264 - pearson_corr: -2.4683e-08 - val_loss: 3.9075 - val_pearson_corr: 7.4589e-09\n",
      "Epoch 39/50\n",
      "20/20 [==============================] - 0s 18ms/step - loss: 3.9988 - pearson_corr: 2.3724e-08 - val_loss: 3.8481 - val_pearson_corr: 5.5731e-08\n",
      "Epoch 40/50\n",
      "20/20 [==============================] - 0s 11ms/step - loss: 4.0080 - pearson_corr: 4.7177e-08 - val_loss: 3.8270 - val_pearson_corr: -4.0602e-08\n",
      "Epoch 41/50\n",
      "20/20 [==============================] - 0s 10ms/step - loss: 4.0138 - pearson_corr: -5.9377e-09 - val_loss: 3.8400 - val_pearson_corr: 7.9743e-08\n",
      "Epoch 42/50\n",
      "20/20 [==============================] - 0s 16ms/step - loss: 4.0077 - pearson_corr: nan - val_loss: 3.9156 - val_pearson_corr: -7.6096e-08\n",
      "Epoch 43/50\n",
      "20/20 [==============================] - 0s 10ms/step - loss: 4.0308 - pearson_corr: nan - val_loss: 3.8175 - val_pearson_corr: 7.8465e-08\n",
      "Epoch 44/50\n",
      "20/20 [==============================] - 0s 13ms/step - loss: 4.0153 - pearson_corr: nan - val_loss: 3.8373 - val_pearson_corr: -8.2599e-08\n",
      "Epoch 45/50\n",
      "20/20 [==============================] - 0s 9ms/step - loss: 4.0262 - pearson_corr: -9.4481e-10 - val_loss: 3.8520 - val_pearson_corr: 7.4264e-08\n",
      "Epoch 46/50\n",
      "20/20 [==============================] - 0s 9ms/step - loss: 4.0649 - pearson_corr: nan - val_loss: 3.9606 - val_pearson_corr: 3.0398e-08\n",
      "Epoch 47/50\n",
      "20/20 [==============================] - 0s 15ms/step - loss: 4.0342 - pearson_corr: -3.1476e-08 - val_loss: 3.8249 - val_pearson_corr: 8.1617e-08\n",
      "Epoch 48/50\n",
      "20/20 [==============================] - 0s 10ms/step - loss: 4.0513 - pearson_corr: 1.1768e-08 - val_loss: 3.8476 - val_pearson_corr: nan\n",
      "Epoch 49/50\n",
      "20/20 [==============================] - 0s 11ms/step - loss: 4.0199 - pearson_corr: nan - val_loss: 3.8205 - val_pearson_corr: -3.7665e-08\n",
      "Epoch 50/50\n",
      "20/20 [==============================] - 0s 14ms/step - loss: 4.0137 - pearson_corr: nan - val_loss: 3.9015 - val_pearson_corr: 1.1956e-08\n"
     ]
    }
   ],
   "source": [
    "best_model_history = best_model.fit(X, y, epochs=50, validation_split=0.2)"
   ]
  },
  {
   "attachments": {},
   "cell_type": "markdown",
   "metadata": {},
   "source": [
    "## CNN"
   ]
  },
  {
   "attachments": {},
   "cell_type": "markdown",
   "metadata": {},
   "source": [
    "## Evolutionary algorithm"
   ]
  }
 ],
 "metadata": {
  "kernelspec": {
   "display_name": "empathy",
   "language": "python",
   "name": "python3"
  },
  "language_info": {
   "codemirror_mode": {
    "name": "ipython",
    "version": 3
   },
   "file_extension": ".py",
   "mimetype": "text/x-python",
   "name": "python",
   "nbconvert_exporter": "python",
   "pygments_lexer": "ipython3",
   "version": "3.10.9"
  },
  "orig_nbformat": 4
 },
 "nbformat": 4,
 "nbformat_minor": 2
}
