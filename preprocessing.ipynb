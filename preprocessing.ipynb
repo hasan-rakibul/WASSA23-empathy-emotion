{
 "cells": [
  {
   "cell_type": "code",
   "execution_count": 1,
   "metadata": {},
   "outputs": [],
   "source": [
    "import pandas as pd\n",
    "import numpy as np"
   ]
  },
  {
   "cell_type": "code",
   "execution_count": 2,
   "metadata": {},
   "outputs": [],
   "source": [
    "import os\n",
    "os.chdir(\"/home/573/rh2942/WASSA-2023-EMP\") # changing dir for evaluation file\n",
    "# print(os.getcwd())"
   ]
  },
  {
   "cell_type": "code",
   "execution_count": 3,
   "metadata": {},
   "outputs": [
    {
     "data": {
      "text/html": [
       "<div>\n",
       "<style scoped>\n",
       "    .dataframe tbody tr th:only-of-type {\n",
       "        vertical-align: middle;\n",
       "    }\n",
       "\n",
       "    .dataframe tbody tr th {\n",
       "        vertical-align: top;\n",
       "    }\n",
       "\n",
       "    .dataframe thead th {\n",
       "        text-align: right;\n",
       "    }\n",
       "</style>\n",
       "<table border=\"1\" class=\"dataframe\">\n",
       "  <thead>\n",
       "    <tr style=\"text-align: right;\">\n",
       "      <th></th>\n",
       "      <th>conversation_id</th>\n",
       "      <th>article_id</th>\n",
       "      <th>essay</th>\n",
       "      <th>empathy</th>\n",
       "      <th>distress</th>\n",
       "      <th>speaker_id</th>\n",
       "      <th>gender</th>\n",
       "      <th>education</th>\n",
       "      <th>race</th>\n",
       "      <th>age</th>\n",
       "      <th>...</th>\n",
       "      <th>personality_agreeableness</th>\n",
       "      <th>personality_stability</th>\n",
       "      <th>iri_perspective_taking</th>\n",
       "      <th>iri_personal_distress</th>\n",
       "      <th>iri_fantasy</th>\n",
       "      <th>iri_empathatic_concern</th>\n",
       "      <th>speaker_number</th>\n",
       "      <th>split</th>\n",
       "      <th>essay_id</th>\n",
       "      <th>emotion</th>\n",
       "    </tr>\n",
       "  </thead>\n",
       "  <tbody>\n",
       "    <tr>\n",
       "      <th>365</th>\n",
       "      <td>465</td>\n",
       "      <td>18</td>\n",
       "      <td>This incident made me feel bad.  I assume it w...</td>\n",
       "      <td>4.666667</td>\n",
       "      <td>4.500</td>\n",
       "      <td>48</td>\n",
       "      <td>1.0</td>\n",
       "      <td>6.0</td>\n",
       "      <td>1.0</td>\n",
       "      <td>41.0</td>\n",
       "      <td>...</td>\n",
       "      <td>2.0</td>\n",
       "      <td>1.0</td>\n",
       "      <td>3.286</td>\n",
       "      <td>4.429</td>\n",
       "      <td>2.714</td>\n",
       "      <td>2.571</td>\n",
       "      <td>1</td>\n",
       "      <td>train</td>\n",
       "      <td>464</td>\n",
       "      <td>Sadness</td>\n",
       "    </tr>\n",
       "    <tr>\n",
       "      <th>129</th>\n",
       "      <td>182</td>\n",
       "      <td>305</td>\n",
       "      <td>I just read an article about suicides in Russi...</td>\n",
       "      <td>3.833333</td>\n",
       "      <td>2.625</td>\n",
       "      <td>25</td>\n",
       "      <td>1.0</td>\n",
       "      <td>4.0</td>\n",
       "      <td>1.0</td>\n",
       "      <td>29.0</td>\n",
       "      <td>...</td>\n",
       "      <td>6.0</td>\n",
       "      <td>5.5</td>\n",
       "      <td>5.000</td>\n",
       "      <td>2.286</td>\n",
       "      <td>3.286</td>\n",
       "      <td>4.143</td>\n",
       "      <td>1</td>\n",
       "      <td>train</td>\n",
       "      <td>181</td>\n",
       "      <td>Neutral</td>\n",
       "    </tr>\n",
       "  </tbody>\n",
       "</table>\n",
       "<p>2 rows × 24 columns</p>\n",
       "</div>"
      ],
      "text/plain": [
       "     conversation_id  article_id  \\\n",
       "365              465          18   \n",
       "129              182         305   \n",
       "\n",
       "                                                 essay   empathy  distress  \\\n",
       "365  This incident made me feel bad.  I assume it w...  4.666667     4.500   \n",
       "129  I just read an article about suicides in Russi...  3.833333     2.625   \n",
       "\n",
       "     speaker_id  gender  education  race   age  ...  \\\n",
       "365          48     1.0        6.0   1.0  41.0  ...   \n",
       "129          25     1.0        4.0   1.0  29.0  ...   \n",
       "\n",
       "     personality_agreeableness  personality_stability  iri_perspective_taking  \\\n",
       "365                        2.0                    1.0                   3.286   \n",
       "129                        6.0                    5.5                   5.000   \n",
       "\n",
       "     iri_personal_distress  iri_fantasy  iri_empathatic_concern  \\\n",
       "365                  4.429        2.714                   2.571   \n",
       "129                  2.286        3.286                   4.143   \n",
       "\n",
       "     speaker_number  split  essay_id  emotion  \n",
       "365               1  train       464  Sadness  \n",
       "129               1  train       181  Neutral  \n",
       "\n",
       "[2 rows x 24 columns]"
      ]
     },
     "execution_count": 3,
     "metadata": {},
     "output_type": "execute_result"
    }
   ],
   "source": [
    "raw_train = pd.read_csv('./dataset/WASSA23_essay_level_with_labels_train.tsv', sep='\\t', na_values='unknown', header=0) # raw csv file consists of 'unknown' values\n",
    "raw_train.sample(2)"
   ]
  },
  {
   "cell_type": "code",
   "execution_count": 4,
   "metadata": {
    "colab": {
     "base_uri": "https://localhost:8080/"
    },
    "id": "yhjAb3Btfs5u",
    "outputId": "528e91b1-b4b9-4e92-f9f6-c78a39fbc5c8"
   },
   "outputs": [
    {
     "data": {
      "text/html": [
       "<div>\n",
       "<style scoped>\n",
       "    .dataframe tbody tr th:only-of-type {\n",
       "        vertical-align: middle;\n",
       "    }\n",
       "\n",
       "    .dataframe tbody tr th {\n",
       "        vertical-align: top;\n",
       "    }\n",
       "\n",
       "    .dataframe thead th {\n",
       "        text-align: right;\n",
       "    }\n",
       "</style>\n",
       "<table border=\"1\" class=\"dataframe\">\n",
       "  <thead>\n",
       "    <tr style=\"text-align: right;\">\n",
       "      <th></th>\n",
       "      <th>conversation_id</th>\n",
       "      <th>article_id</th>\n",
       "      <th>essay</th>\n",
       "      <th>speaker_id</th>\n",
       "      <th>gender</th>\n",
       "      <th>education</th>\n",
       "      <th>race</th>\n",
       "      <th>age</th>\n",
       "      <th>income</th>\n",
       "      <th>speaker_number</th>\n",
       "      <th>...</th>\n",
       "      <th>emotion</th>\n",
       "      <th>personality_conscientiousness</th>\n",
       "      <th>personality_openess</th>\n",
       "      <th>personality_extraversion</th>\n",
       "      <th>personality_agreeableness</th>\n",
       "      <th>personality_stability</th>\n",
       "      <th>iri_perspective_taking</th>\n",
       "      <th>iri_personal_distress</th>\n",
       "      <th>iri_fantasy</th>\n",
       "      <th>iri_empathatic_concern</th>\n",
       "    </tr>\n",
       "  </thead>\n",
       "  <tbody>\n",
       "    <tr>\n",
       "      <th>539</th>\n",
       "      <td>207</td>\n",
       "      <td>201</td>\n",
       "      <td>I'm so tired of all this violence. If a cop sh...</td>\n",
       "      <td>44</td>\n",
       "      <td>2.0</td>\n",
       "      <td>6.0</td>\n",
       "      <td>1.0</td>\n",
       "      <td>46.0</td>\n",
       "      <td>22000.0</td>\n",
       "      <td>2</td>\n",
       "      <td>...</td>\n",
       "      <td>Anger</td>\n",
       "      <td>6.5</td>\n",
       "      <td>5.5</td>\n",
       "      <td>2.5</td>\n",
       "      <td>5.0</td>\n",
       "      <td>5.0</td>\n",
       "      <td>3.286</td>\n",
       "      <td>2.286</td>\n",
       "      <td>4.857</td>\n",
       "      <td>4.714</td>\n",
       "    </tr>\n",
       "    <tr>\n",
       "      <th>890</th>\n",
       "      <td>20</td>\n",
       "      <td>336</td>\n",
       "      <td>It's so sad to read this kind of story... Poor...</td>\n",
       "      <td>68</td>\n",
       "      <td>2.0</td>\n",
       "      <td>2.0</td>\n",
       "      <td>1.0</td>\n",
       "      <td>21.0</td>\n",
       "      <td>20000.0</td>\n",
       "      <td>2</td>\n",
       "      <td>...</td>\n",
       "      <td>Sadness</td>\n",
       "      <td>5.0</td>\n",
       "      <td>3.0</td>\n",
       "      <td>5.0</td>\n",
       "      <td>4.0</td>\n",
       "      <td>3.5</td>\n",
       "      <td>2.714</td>\n",
       "      <td>3.000</td>\n",
       "      <td>3.143</td>\n",
       "      <td>3.286</td>\n",
       "    </tr>\n",
       "  </tbody>\n",
       "</table>\n",
       "<p>2 rows × 24 columns</p>\n",
       "</div>"
      ],
      "text/plain": [
       "     conversation_id  article_id  \\\n",
       "539              207         201   \n",
       "890               20         336   \n",
       "\n",
       "                                                 essay  speaker_id  gender  \\\n",
       "539  I'm so tired of all this violence. If a cop sh...          44     2.0   \n",
       "890  It's so sad to read this kind of story... Poor...          68     2.0   \n",
       "\n",
       "     education  race   age   income  speaker_number  ...  emotion  \\\n",
       "539        6.0   1.0  46.0  22000.0               2  ...    Anger   \n",
       "890        2.0   1.0  21.0  20000.0               2  ...  Sadness   \n",
       "\n",
       "     personality_conscientiousness  personality_openess  \\\n",
       "539                            6.5                  5.5   \n",
       "890                            5.0                  3.0   \n",
       "\n",
       "     personality_extraversion personality_agreeableness  \\\n",
       "539                       2.5                       5.0   \n",
       "890                       5.0                       4.0   \n",
       "\n",
       "     personality_stability  iri_perspective_taking  iri_personal_distress  \\\n",
       "539                    5.0                   3.286                  2.286   \n",
       "890                    3.5                   2.714                  3.000   \n",
       "\n",
       "     iri_fantasy  iri_empathatic_concern  \n",
       "539        4.857                   4.714  \n",
       "890        3.143                   3.286  \n",
       "\n",
       "[2 rows x 24 columns]"
      ]
     },
     "execution_count": 4,
     "metadata": {},
     "output_type": "execute_result"
    }
   ],
   "source": [
    "train_dev = pd.read_csv(\"./processed_data/essay_article_id_train_dev.csv\", index_col=0)\n",
    "train_dev.sample(2)"
   ]
  },
  {
   "cell_type": "code",
   "execution_count": 3,
   "metadata": {},
   "outputs": [
    {
     "data": {
      "text/html": [
       "<div>\n",
       "<style scoped>\n",
       "    .dataframe tbody tr th:only-of-type {\n",
       "        vertical-align: middle;\n",
       "    }\n",
       "\n",
       "    .dataframe tbody tr th {\n",
       "        vertical-align: top;\n",
       "    }\n",
       "\n",
       "    .dataframe thead th {\n",
       "        text-align: right;\n",
       "    }\n",
       "</style>\n",
       "<table border=\"1\" class=\"dataframe\">\n",
       "  <thead>\n",
       "    <tr style=\"text-align: right;\">\n",
       "      <th></th>\n",
       "      <th>conversation_id</th>\n",
       "      <th>article_id</th>\n",
       "      <th>essay</th>\n",
       "      <th>speaker_id</th>\n",
       "      <th>gender</th>\n",
       "      <th>education</th>\n",
       "      <th>race</th>\n",
       "      <th>age</th>\n",
       "      <th>income</th>\n",
       "      <th>speaker_number</th>\n",
       "      <th>split</th>\n",
       "      <th>essay_id</th>\n",
       "    </tr>\n",
       "  </thead>\n",
       "  <tbody>\n",
       "    <tr>\n",
       "      <th>17</th>\n",
       "      <td>59</td>\n",
       "      <td>72</td>\n",
       "      <td>Any tyoe of animal poaching and killing just r...</td>\n",
       "      <td>96</td>\n",
       "      <td>2</td>\n",
       "      <td>3</td>\n",
       "      <td>1</td>\n",
       "      <td>27</td>\n",
       "      <td>25000</td>\n",
       "      <td>1</td>\n",
       "      <td>dev</td>\n",
       "      <td>58</td>\n",
       "    </tr>\n",
       "    <tr>\n",
       "      <th>112</th>\n",
       "      <td>23</td>\n",
       "      <td>281</td>\n",
       "      <td>I read this awful article today about this col...</td>\n",
       "      <td>89</td>\n",
       "      <td>2</td>\n",
       "      <td>7</td>\n",
       "      <td>1</td>\n",
       "      <td>35</td>\n",
       "      <td>60000</td>\n",
       "      <td>2</td>\n",
       "      <td>dev</td>\n",
       "      <td>522</td>\n",
       "    </tr>\n",
       "  </tbody>\n",
       "</table>\n",
       "</div>"
      ],
      "text/plain": [
       "     conversation_id  article_id  \\\n",
       "17                59          72   \n",
       "112               23         281   \n",
       "\n",
       "                                                 essay  speaker_id  gender  \\\n",
       "17   Any tyoe of animal poaching and killing just r...          96       2   \n",
       "112  I read this awful article today about this col...          89       2   \n",
       "\n",
       "     education  race  age  income  speaker_number split  essay_id  \n",
       "17           3     1   27   25000               1   dev        58  \n",
       "112          7     1   35   60000               2   dev       522  "
      ]
     },
     "execution_count": 3,
     "metadata": {},
     "output_type": "execute_result"
    }
   ],
   "source": [
    "raw_dev = pd.read_csv('./dataset/dev/WASSA23_essay_level_dev.tsv', sep='\\t', header=0)\n",
    "raw_dev.sample(2)"
   ]
  },
  {
   "cell_type": "code",
   "execution_count": 26,
   "metadata": {},
   "outputs": [
    {
     "data": {
      "text/html": [
       "<div>\n",
       "<style scoped>\n",
       "    .dataframe tbody tr th:only-of-type {\n",
       "        vertical-align: middle;\n",
       "    }\n",
       "\n",
       "    .dataframe tbody tr th {\n",
       "        vertical-align: top;\n",
       "    }\n",
       "\n",
       "    .dataframe thead th {\n",
       "        text-align: right;\n",
       "    }\n",
       "</style>\n",
       "<table border=\"1\" class=\"dataframe\">\n",
       "  <thead>\n",
       "    <tr style=\"text-align: right;\">\n",
       "      <th></th>\n",
       "      <th>conversation_id</th>\n",
       "      <th>article_id</th>\n",
       "      <th>essay</th>\n",
       "      <th>speaker_id</th>\n",
       "      <th>gender</th>\n",
       "      <th>education</th>\n",
       "      <th>race</th>\n",
       "      <th>age</th>\n",
       "      <th>income</th>\n",
       "      <th>speaker_number</th>\n",
       "      <th>...</th>\n",
       "      <th>emotion</th>\n",
       "      <th>personality_conscientiousness</th>\n",
       "      <th>personality_openess</th>\n",
       "      <th>personality_extraversion</th>\n",
       "      <th>personality_agreeableness</th>\n",
       "      <th>personality_stability</th>\n",
       "      <th>iri_perspective_taking</th>\n",
       "      <th>iri_personal_distress</th>\n",
       "      <th>iri_fantasy</th>\n",
       "      <th>iri_empathatic_concern</th>\n",
       "    </tr>\n",
       "  </thead>\n",
       "  <tbody>\n",
       "    <tr>\n",
       "      <th>69</th>\n",
       "      <td>310</td>\n",
       "      <td>48</td>\n",
       "      <td>I just read the article about Aleppo and Syria...</td>\n",
       "      <td>65</td>\n",
       "      <td>2</td>\n",
       "      <td>6</td>\n",
       "      <td>1</td>\n",
       "      <td>62</td>\n",
       "      <td>29000</td>\n",
       "      <td>1</td>\n",
       "      <td>...</td>\n",
       "      <td>Sadness</td>\n",
       "      <td>6.5</td>\n",
       "      <td>2.5</td>\n",
       "      <td>1.0</td>\n",
       "      <td>6.5</td>\n",
       "      <td>2.0</td>\n",
       "      <td>3.571</td>\n",
       "      <td>4.0</td>\n",
       "      <td>2.143</td>\n",
       "      <td>4.429</td>\n",
       "    </tr>\n",
       "    <tr>\n",
       "      <th>194</th>\n",
       "      <td>425</td>\n",
       "      <td>133</td>\n",
       "      <td>What is human nature coming to?   Zoo visitors...</td>\n",
       "      <td>65</td>\n",
       "      <td>2</td>\n",
       "      <td>6</td>\n",
       "      <td>1</td>\n",
       "      <td>62</td>\n",
       "      <td>29000</td>\n",
       "      <td>2</td>\n",
       "      <td>...</td>\n",
       "      <td>Anger/Sadness</td>\n",
       "      <td>6.5</td>\n",
       "      <td>2.5</td>\n",
       "      <td>1.0</td>\n",
       "      <td>6.5</td>\n",
       "      <td>2.0</td>\n",
       "      <td>3.571</td>\n",
       "      <td>4.0</td>\n",
       "      <td>2.143</td>\n",
       "      <td>4.429</td>\n",
       "    </tr>\n",
       "  </tbody>\n",
       "</table>\n",
       "<p>2 rows × 24 columns</p>\n",
       "</div>"
      ],
      "text/plain": [
       "     conversation_id  article_id  \\\n",
       "69               310          48   \n",
       "194              425         133   \n",
       "\n",
       "                                                 essay  speaker_id  gender  \\\n",
       "69   I just read the article about Aleppo and Syria...          65       2   \n",
       "194  What is human nature coming to?   Zoo visitors...          65       2   \n",
       "\n",
       "     education  race  age  income  speaker_number  ...        emotion  \\\n",
       "69           6     1   62   29000               1  ...        Sadness   \n",
       "194          6     1   62   29000               2  ...  Anger/Sadness   \n",
       "\n",
       "     personality_conscientiousness  personality_openess  \\\n",
       "69                             6.5                  2.5   \n",
       "194                            6.5                  2.5   \n",
       "\n",
       "     personality_extraversion personality_agreeableness  \\\n",
       "69                        1.0                       6.5   \n",
       "194                       1.0                       6.5   \n",
       "\n",
       "     personality_stability  iri_perspective_taking  iri_personal_distress  \\\n",
       "69                     2.0                   3.571                    4.0   \n",
       "194                    2.0                   3.571                    4.0   \n",
       "\n",
       "     iri_fantasy  iri_empathatic_concern  \n",
       "69         2.143                   4.429  \n",
       "194        2.143                   4.429  \n",
       "\n",
       "[2 rows x 24 columns]"
      ]
     },
     "execution_count": 26,
     "metadata": {},
     "output_type": "execute_result"
    }
   ],
   "source": [
    "complete_dev = pd.read_csv('./processed_data/essay_dev_complete.csv', index_col=0, header=0)\n",
    "complete_dev.sample(2)"
   ]
  },
  {
   "cell_type": "code",
   "execution_count": 6,
   "metadata": {},
   "outputs": [
    {
     "data": {
      "text/html": [
       "<div>\n",
       "<style scoped>\n",
       "    .dataframe tbody tr th:only-of-type {\n",
       "        vertical-align: middle;\n",
       "    }\n",
       "\n",
       "    .dataframe tbody tr th {\n",
       "        vertical-align: top;\n",
       "    }\n",
       "\n",
       "    .dataframe thead th {\n",
       "        text-align: right;\n",
       "    }\n",
       "</style>\n",
       "<table border=\"1\" class=\"dataframe\">\n",
       "  <thead>\n",
       "    <tr style=\"text-align: right;\">\n",
       "      <th></th>\n",
       "      <th>conversation_id</th>\n",
       "      <th>article_id</th>\n",
       "      <th>essay</th>\n",
       "      <th>speaker_id</th>\n",
       "      <th>gender</th>\n",
       "      <th>education</th>\n",
       "      <th>race</th>\n",
       "      <th>age</th>\n",
       "      <th>income</th>\n",
       "      <th>speaker_number</th>\n",
       "      <th>split</th>\n",
       "      <th>essay_id</th>\n",
       "    </tr>\n",
       "  </thead>\n",
       "  <tbody>\n",
       "    <tr>\n",
       "      <th>32</th>\n",
       "      <td>1102</td>\n",
       "      <td>13</td>\n",
       "      <td>This article is a bit silly. I still don't rea...</td>\n",
       "      <td>49</td>\n",
       "      <td>1</td>\n",
       "      <td>6</td>\n",
       "      <td>1</td>\n",
       "      <td>37</td>\n",
       "      <td>12000</td>\n",
       "      <td>2</td>\n",
       "      <td>test</td>\n",
       "      <td>32</td>\n",
       "    </tr>\n",
       "    <tr>\n",
       "      <th>42</th>\n",
       "      <td>1110</td>\n",
       "      <td>14</td>\n",
       "      <td>This is devastating news. An airline employee ...</td>\n",
       "      <td>37</td>\n",
       "      <td>1</td>\n",
       "      <td>6</td>\n",
       "      <td>1</td>\n",
       "      <td>36</td>\n",
       "      <td>75000</td>\n",
       "      <td>2</td>\n",
       "      <td>test</td>\n",
       "      <td>42</td>\n",
       "    </tr>\n",
       "    <tr>\n",
       "      <th>95</th>\n",
       "      <td>1183</td>\n",
       "      <td>19</td>\n",
       "      <td>Check out this story. It is an outrage that so...</td>\n",
       "      <td>143</td>\n",
       "      <td>2</td>\n",
       "      <td>6</td>\n",
       "      <td>1</td>\n",
       "      <td>42</td>\n",
       "      <td>50000</td>\n",
       "      <td>1</td>\n",
       "      <td>test</td>\n",
       "      <td>95</td>\n",
       "    </tr>\n",
       "  </tbody>\n",
       "</table>\n",
       "</div>"
      ],
      "text/plain": [
       "    conversation_id  article_id  \\\n",
       "32             1102          13   \n",
       "42             1110          14   \n",
       "95             1183          19   \n",
       "\n",
       "                                                essay  speaker_id  gender  \\\n",
       "32  This article is a bit silly. I still don't rea...          49       1   \n",
       "42  This is devastating news. An airline employee ...          37       1   \n",
       "95  Check out this story. It is an outrage that so...         143       2   \n",
       "\n",
       "    education  race  age  income  speaker_number split  essay_id  \n",
       "32          6     1   37   12000               2  test        32  \n",
       "42          6     1   36   75000               2  test        42  \n",
       "95          6     1   42   50000               1  test        95  "
      ]
     },
     "execution_count": 6,
     "metadata": {},
     "output_type": "execute_result"
    }
   ],
   "source": [
    "raw_test = pd.read_csv('./dataset/test/WASSA23_essay_level_test.tsv', sep='\\t', header=0)\n",
    "raw_test.sample(3)"
   ]
  },
  {
   "cell_type": "markdown",
   "metadata": {},
   "source": [
    "# Summarise long articles"
   ]
  },
  {
   "cell_type": "code",
   "execution_count": 35,
   "metadata": {},
   "outputs": [
    {
     "data": {
      "text/html": [
       "<div>\n",
       "<style scoped>\n",
       "    .dataframe tbody tr th:only-of-type {\n",
       "        vertical-align: middle;\n",
       "    }\n",
       "\n",
       "    .dataframe tbody tr th {\n",
       "        vertical-align: top;\n",
       "    }\n",
       "\n",
       "    .dataframe thead th {\n",
       "        text-align: right;\n",
       "    }\n",
       "</style>\n",
       "<table border=\"1\" class=\"dataframe\">\n",
       "  <thead>\n",
       "    <tr style=\"text-align: right;\">\n",
       "      <th></th>\n",
       "      <th>article_id</th>\n",
       "      <th>text</th>\n",
       "    </tr>\n",
       "  </thead>\n",
       "  <tbody>\n",
       "    <tr>\n",
       "      <th>243</th>\n",
       "      <td>244</td>\n",
       "      <td>Orlando gunman known to FBI shows difficulty o...</td>\n",
       "    </tr>\n",
       "    <tr>\n",
       "      <th>359</th>\n",
       "      <td>360</td>\n",
       "      <td>Trump’s dark “gift” makes victims of us all — ...</td>\n",
       "    </tr>\n",
       "  </tbody>\n",
       "</table>\n",
       "</div>"
      ],
      "text/plain": [
       "     article_id                                               text\n",
       "243         244  Orlando gunman known to FBI shows difficulty o...\n",
       "359         360  Trump’s dark “gift” makes victims of us all — ..."
      ]
     },
     "execution_count": 35,
     "metadata": {},
     "output_type": "execute_result"
    }
   ],
   "source": [
    "article_raw = pd.read_csv('./dataset/articles_adobe_AMT.csv', header=0)\n",
    "article_raw.sample(2)"
   ]
  },
  {
   "cell_type": "code",
   "execution_count": 16,
   "metadata": {},
   "outputs": [],
   "source": [
    "import transformers as trf"
   ]
  },
  {
   "cell_type": "code",
   "execution_count": null,
   "metadata": {},
   "outputs": [],
   "source": [
    "checkpoint = \"philschmid/flan-t5-base-samsum\"\n",
    "tokeniser = trf.AutoTokenizer.from_pretrained(checkpoint, model_max_length=25000) #25K because article text has maximum ~21K characters\n",
    "\n",
    "summariser = trf.pipeline(task=\"summarization\", model=checkpoint, tokenizer=tokeniser, device=\"cuda:0\")\n",
    " \n",
    "# Replacing long article by its summary\n",
    "for index, _ in article_raw.iterrows():\n",
    "    article_raw.loc[index, \"text\"] = summariser(article_raw.loc[index, \"text\"])[0][\"summary_text\"] # 0-index to take the one and only first paraphrased item\n",
    "\n",
    "article_raw.to_csv(\"./processed_data/articles_adobe_AMT_summarised.csv\")"
   ]
  },
  {
   "cell_type": "markdown",
   "metadata": {},
   "source": [
    "# Numerical to textual conversion"
   ]
  },
  {
   "cell_type": "code",
   "execution_count": 4,
   "metadata": {},
   "outputs": [
    {
     "data": {
      "text/html": [
       "<div>\n",
       "<style scoped>\n",
       "    .dataframe tbody tr th:only-of-type {\n",
       "        vertical-align: middle;\n",
       "    }\n",
       "\n",
       "    .dataframe tbody tr th {\n",
       "        vertical-align: top;\n",
       "    }\n",
       "\n",
       "    .dataframe thead th {\n",
       "        text-align: right;\n",
       "    }\n",
       "</style>\n",
       "<table border=\"1\" class=\"dataframe\">\n",
       "  <thead>\n",
       "    <tr style=\"text-align: right;\">\n",
       "      <th></th>\n",
       "      <th>text</th>\n",
       "    </tr>\n",
       "    <tr>\n",
       "      <th>article_id</th>\n",
       "      <th></th>\n",
       "    </tr>\n",
       "  </thead>\n",
       "  <tbody>\n",
       "    <tr>\n",
       "      <th>417</th>\n",
       "      <td>Susan R. Smith lost her best companion this we...</td>\n",
       "    </tr>\n",
       "    <tr>\n",
       "      <th>362</th>\n",
       "      <td>Turkish President Recep Tayyip Erdogan sharply...</td>\n",
       "    </tr>\n",
       "  </tbody>\n",
       "</table>\n",
       "</div>"
      ],
      "text/plain": [
       "                                                         text\n",
       "article_id                                                   \n",
       "417         Susan R. Smith lost her best companion this we...\n",
       "362         Turkish President Recep Tayyip Erdogan sharply..."
      ]
     },
     "execution_count": 4,
     "metadata": {},
     "output_type": "execute_result"
    }
   ],
   "source": [
    "# Summarised article\n",
    "article = pd.read_csv('./processed_data/articles_adobe_AMT_summarised.csv', header=0, index_col=0)\n",
    "article.sample(2)"
   ]
  },
  {
   "cell_type": "code",
   "execution_count": 5,
   "metadata": {},
   "outputs": [],
   "source": [
    "def num_to_text(raw_data):\n",
    "    input_data = raw_data.copy() #mandatory step as dataframe is mutable\n",
    "    \n",
    "    input_data.dropna(inplace=True)\n",
    "    print(f\"Existing non-numeric columns:\\n {input_data.select_dtypes(exclude=['number']).columns.tolist()}\") #Just checking if any non-numeric value exist on numeric columns\n",
    "    \n",
    "    #converting article id to corresponding article texts\n",
    "    input_data['article'] = input_data['article_id'].apply(lambda x: article.loc[x, 'text'])\n",
    "    \n",
    "    categories = {1.: \"I am male.\", 2.: \"I am female.\", 5: \"I am nonbinary.\"} #5 is in WSSA 2022 dataset\n",
    "    input_data['gender'] = input_data['gender'].map(categories)\n",
    "\n",
    "    categories = {\n",
    "        1.: \"My education level is Less than a high school diploma.\",\n",
    "        2.: \"My education level is High School diploma.\",\n",
    "        3.: \"My education level is echnical/Vocational School.\",\n",
    "        4.: \"My education level is Some college but no degree.\",\n",
    "        5.: \"My education level is Two year associate degree.\",\n",
    "        6.: \"My education level is Four year bachelor’s degree.\",\n",
    "        7.: \"My education level is Postgradute or professional degree.\"\n",
    "    }\n",
    "    input_data['education'] = input_data['education'].map(categories)\n",
    "\n",
    "    categories = {\n",
    "        1.: \"My race is White.\",\n",
    "        2.: \"My race is Hispanic or Latino.\",\n",
    "        3.: \"My race is Black or African American.\",\n",
    "        4.: \"My race is Native American or American Indian.\",\n",
    "        5.: \"My race is Asian/Pacific Islander.\",\n",
    "        6.: \"My race is other.\"\n",
    "    }\n",
    "    input_data['race'] = input_data['race'].map(categories)\n",
    "\n",
    "    input_data['age'] = input_data['age'].apply(lambda x: \"My age is \"+str(x)+\" years.\")\n",
    "    input_data['income'] = input_data['income'].apply(lambda x: \"My income is \"+str(x)+\".\")\n",
    "    \n",
    "    input_data['article_id_text'] = input_data['article_id'].apply(lambda x: \"I read newspaper article \"+str(x)+\".\")\n",
    "    \n",
    "    # print(input_data.isna().any())\n",
    "    assert input_data.isna().any().any() == False #no NA values\n",
    "    assert input_data.isnull().any().any() == False #no null values\n",
    "    \n",
    "    input_data['demographic'] = input_data['gender'] + ' ' + input_data['age'] + ' ' + input_data['education'] + ' ' + input_data['race'] + ' ' + input_data['income']  + ' ' + input_data['article_id_text']  \n",
    "    input_data['demographic_essay'] = input_data['demographic'] + ' ' + input_data['essay']\n",
    "  \n",
    "    return input_data"
   ]
  },
  {
   "cell_type": "code",
   "execution_count": 6,
   "metadata": {},
   "outputs": [],
   "source": [
    "def save_preprocessed(df, dataname):\n",
    "    raw_data = df.copy()\n",
    "    processed_df = num_to_text(raw_data)\n",
    "    processed_df.to_csv(\"./processed_data/preprocessed_\" + dataname + \".csv\")"
   ]
  },
  {
   "cell_type": "code",
   "execution_count": 7,
   "metadata": {},
   "outputs": [
    {
     "name": "stdout",
     "output_type": "stream",
     "text": [
      "Existing non-numeric columns:\n",
      " ['essay', 'split']\n"
     ]
    }
   ],
   "source": [
    "# save_preprocessed(raw_train, dataname=\"train\")\n",
    "# save_preprocessed(train_dev, dataname=\"train_dev\")\n",
    "save_preprocessed(raw_dev, dataname=\"dev\")\n",
    "# save_preprocessed(complete_dev, dataname=\"complete_dev\") #dev with output label\n",
    "# save_preprocessed(raw_test, dataname=\"test\")"
   ]
  },
  {
   "cell_type": "markdown",
   "metadata": {
    "tags": []
   },
   "source": [
    "# Data augmentaiton (Paraphrasing) -- train and dev set"
   ]
  },
  {
   "cell_type": "code",
   "execution_count": 1,
   "metadata": {},
   "outputs": [],
   "source": [
    "import pandas as pd\n",
    "import os\n",
    "import torch\n",
    "import transformers as trf"
   ]
  },
  {
   "cell_type": "code",
   "execution_count": 2,
   "metadata": {},
   "outputs": [],
   "source": [
    "os.chdir(\"/home/573/rh2942/WASSA-2023-EMP\")"
   ]
  },
  {
   "cell_type": "code",
   "execution_count": 3,
   "metadata": {},
   "outputs": [],
   "source": [
    "train_dev = pd.read_csv(\"./processed_data/preprocessed_train_dev.csv\", index_col=0)"
   ]
  },
  {
   "cell_type": "code",
   "execution_count": 4,
   "metadata": {},
   "outputs": [
    {
     "data": {
      "text/plain": [
       "Index(['conversation_id', 'article_id', 'essay', 'speaker_id', 'gender',\n",
       "       'education', 'race', 'age', 'income', 'speaker_number', 'split',\n",
       "       'essay_id', 'empathy', 'distress', 'emotion',\n",
       "       'personality_conscientiousness', 'personality_openess',\n",
       "       'personality_extraversion', 'personality_agreeableness',\n",
       "       'personality_stability', 'iri_perspective_taking',\n",
       "       'iri_personal_distress', 'iri_fantasy', 'iri_empathatic_concern',\n",
       "       'article', 'article_id_text', 'demographic', 'demographic_essay'],\n",
       "      dtype='object')"
      ]
     },
     "execution_count": 4,
     "metadata": {},
     "output_type": "execute_result"
    }
   ],
   "source": [
    "train_dev.columns"
   ]
  },
  {
   "cell_type": "code",
   "execution_count": 5,
   "metadata": {},
   "outputs": [],
   "source": [
    "# keeping chosen columns only\n",
    "train_dev = train_dev[['essay', 'empathy', 'distress', 'emotion',\n",
    "       'personality_conscientiousness', 'personality_openess',\n",
    "       'personality_extraversion', 'personality_agreeableness',\n",
    "       'personality_stability', 'iri_perspective_taking',\n",
    "       'iri_personal_distress', 'iri_fantasy', 'iri_empathatic_concern', 'article', 'demographic', 'demographic_essay']]"
   ]
  },
  {
   "cell_type": "code",
   "execution_count": 6,
   "metadata": {},
   "outputs": [
    {
     "data": {
      "text/html": [
       "<div>\n",
       "<style scoped>\n",
       "    .dataframe tbody tr th:only-of-type {\n",
       "        vertical-align: middle;\n",
       "    }\n",
       "\n",
       "    .dataframe tbody tr th {\n",
       "        vertical-align: top;\n",
       "    }\n",
       "\n",
       "    .dataframe thead th {\n",
       "        text-align: right;\n",
       "    }\n",
       "</style>\n",
       "<table border=\"1\" class=\"dataframe\">\n",
       "  <thead>\n",
       "    <tr style=\"text-align: right;\">\n",
       "      <th></th>\n",
       "      <th>essay</th>\n",
       "      <th>empathy</th>\n",
       "      <th>distress</th>\n",
       "      <th>emotion</th>\n",
       "      <th>personality_conscientiousness</th>\n",
       "      <th>personality_openess</th>\n",
       "      <th>personality_extraversion</th>\n",
       "      <th>personality_agreeableness</th>\n",
       "      <th>personality_stability</th>\n",
       "      <th>iri_perspective_taking</th>\n",
       "      <th>iri_personal_distress</th>\n",
       "      <th>iri_fantasy</th>\n",
       "      <th>iri_empathatic_concern</th>\n",
       "      <th>article</th>\n",
       "      <th>demographic</th>\n",
       "      <th>demographic_essay</th>\n",
       "    </tr>\n",
       "  </thead>\n",
       "  <tbody>\n",
       "    <tr>\n",
       "      <th>642</th>\n",
       "      <td>After reading the article, i can't help but fe...</td>\n",
       "      <td>1.000000</td>\n",
       "      <td>1.625</td>\n",
       "      <td>Sadness</td>\n",
       "      <td>6.75</td>\n",
       "      <td>6.75</td>\n",
       "      <td>6.75</td>\n",
       "      <td>6.75</td>\n",
       "      <td>7.0</td>\n",
       "      <td>4.643</td>\n",
       "      <td>2.0715</td>\n",
       "      <td>4.143</td>\n",
       "      <td>4.643</td>\n",
       "      <td>Celebrity jeweler's surrogate son, second man ...</td>\n",
       "      <td>I am male. My age is 29.0 years. My education ...</td>\n",
       "      <td>I am male. My age is 29.0 years. My education ...</td>\n",
       "    </tr>\n",
       "    <tr>\n",
       "      <th>768</th>\n",
       "      <td>I just read a story about an apparent murder s...</td>\n",
       "      <td>4.166667</td>\n",
       "      <td>1.250</td>\n",
       "      <td>Neutral</td>\n",
       "      <td>6.00</td>\n",
       "      <td>6.50</td>\n",
       "      <td>1.00</td>\n",
       "      <td>6.00</td>\n",
       "      <td>5.5</td>\n",
       "      <td>5.000</td>\n",
       "      <td>2.2860</td>\n",
       "      <td>3.286</td>\n",
       "      <td>4.143</td>\n",
       "      <td>Wife Who Died Alongside Husband, Children in M...</td>\n",
       "      <td>I am male. My age is 29.0 years. My education ...</td>\n",
       "      <td>I am male. My age is 29.0 years. My education ...</td>\n",
       "    </tr>\n",
       "  </tbody>\n",
       "</table>\n",
       "</div>"
      ],
      "text/plain": [
       "                                                 essay   empathy  distress  \\\n",
       "642  After reading the article, i can't help but fe...  1.000000     1.625   \n",
       "768  I just read a story about an apparent murder s...  4.166667     1.250   \n",
       "\n",
       "     emotion  personality_conscientiousness  personality_openess  \\\n",
       "642  Sadness                           6.75                 6.75   \n",
       "768  Neutral                           6.00                 6.50   \n",
       "\n",
       "     personality_extraversion  personality_agreeableness  \\\n",
       "642                      6.75                       6.75   \n",
       "768                      1.00                       6.00   \n",
       "\n",
       "     personality_stability  iri_perspective_taking  iri_personal_distress  \\\n",
       "642                    7.0                   4.643                 2.0715   \n",
       "768                    5.5                   5.000                 2.2860   \n",
       "\n",
       "     iri_fantasy  iri_empathatic_concern  \\\n",
       "642        4.143                   4.643   \n",
       "768        3.286                   4.143   \n",
       "\n",
       "                                               article  \\\n",
       "642  Celebrity jeweler's surrogate son, second man ...   \n",
       "768  Wife Who Died Alongside Husband, Children in M...   \n",
       "\n",
       "                                           demographic  \\\n",
       "642  I am male. My age is 29.0 years. My education ...   \n",
       "768  I am male. My age is 29.0 years. My education ...   \n",
       "\n",
       "                                     demographic_essay  \n",
       "642  I am male. My age is 29.0 years. My education ...  \n",
       "768  I am male. My age is 29.0 years. My education ...  "
      ]
     },
     "execution_count": 6,
     "metadata": {},
     "output_type": "execute_result"
    }
   ],
   "source": [
    "train_dev.sample(2)"
   ]
  },
  {
   "cell_type": "code",
   "execution_count": 95,
   "metadata": {},
   "outputs": [],
   "source": [
    "paraphrased = train_dev.copy()"
   ]
  },
  {
   "cell_type": "code",
   "execution_count": 96,
   "metadata": {},
   "outputs": [
    {
     "data": {
      "text/html": [
       "<div>\n",
       "<style scoped>\n",
       "    .dataframe tbody tr th:only-of-type {\n",
       "        vertical-align: middle;\n",
       "    }\n",
       "\n",
       "    .dataframe tbody tr th {\n",
       "        vertical-align: top;\n",
       "    }\n",
       "\n",
       "    .dataframe thead th {\n",
       "        text-align: right;\n",
       "    }\n",
       "</style>\n",
       "<table border=\"1\" class=\"dataframe\">\n",
       "  <thead>\n",
       "    <tr style=\"text-align: right;\">\n",
       "      <th></th>\n",
       "      <th>essay</th>\n",
       "      <th>empathy</th>\n",
       "      <th>distress</th>\n",
       "      <th>emotion</th>\n",
       "      <th>personality_conscientiousness</th>\n",
       "      <th>personality_openess</th>\n",
       "      <th>personality_extraversion</th>\n",
       "      <th>personality_agreeableness</th>\n",
       "      <th>personality_stability</th>\n",
       "      <th>iri_perspective_taking</th>\n",
       "      <th>iri_personal_distress</th>\n",
       "      <th>iri_fantasy</th>\n",
       "      <th>iri_empathatic_concern</th>\n",
       "      <th>article</th>\n",
       "      <th>demographic</th>\n",
       "      <th>demographic_essay</th>\n",
       "    </tr>\n",
       "  </thead>\n",
       "  <tbody>\n",
       "    <tr>\n",
       "      <th>145</th>\n",
       "      <td>I'm mostly bothered by this story because of h...</td>\n",
       "      <td>1.5</td>\n",
       "      <td>3.50</td>\n",
       "      <td>Disgust/Sadness</td>\n",
       "      <td>2.5</td>\n",
       "      <td>2.0</td>\n",
       "      <td>1.5</td>\n",
       "      <td>2.0</td>\n",
       "      <td>1.0</td>\n",
       "      <td>3.286</td>\n",
       "      <td>4.429</td>\n",
       "      <td>2.714</td>\n",
       "      <td>2.571</td>\n",
       "      <td>The Sungai Putri, meaning River of the Princes...</td>\n",
       "      <td>I am male. My age is 41.0 years. My education ...</td>\n",
       "      <td>I am male. My age is 41.0 years. My education ...</td>\n",
       "    </tr>\n",
       "    <tr>\n",
       "      <th>801</th>\n",
       "      <td>So I just read an article about how a father a...</td>\n",
       "      <td>5.0</td>\n",
       "      <td>4.75</td>\n",
       "      <td>Anger</td>\n",
       "      <td>6.0</td>\n",
       "      <td>6.0</td>\n",
       "      <td>5.5</td>\n",
       "      <td>6.5</td>\n",
       "      <td>3.0</td>\n",
       "      <td>4.857</td>\n",
       "      <td>3.143</td>\n",
       "      <td>2.571</td>\n",
       "      <td>4.857</td>\n",
       "      <td>A father and son have died after falling off a...</td>\n",
       "      <td>I am male. My age is 25.0 years. My education ...</td>\n",
       "      <td>I am male. My age is 25.0 years. My education ...</td>\n",
       "    </tr>\n",
       "  </tbody>\n",
       "</table>\n",
       "</div>"
      ],
      "text/plain": [
       "                                                 essay  empathy  distress  \\\n",
       "145  I'm mostly bothered by this story because of h...      1.5      3.50   \n",
       "801  So I just read an article about how a father a...      5.0      4.75   \n",
       "\n",
       "             emotion  personality_conscientiousness  personality_openess  \\\n",
       "145  Disgust/Sadness                            2.5                  2.0   \n",
       "801            Anger                            6.0                  6.0   \n",
       "\n",
       "     personality_extraversion  personality_agreeableness  \\\n",
       "145                       1.5                        2.0   \n",
       "801                       5.5                        6.5   \n",
       "\n",
       "     personality_stability  iri_perspective_taking  iri_personal_distress  \\\n",
       "145                    1.0                   3.286                  4.429   \n",
       "801                    3.0                   4.857                  3.143   \n",
       "\n",
       "     iri_fantasy  iri_empathatic_concern  \\\n",
       "145        2.714                   2.571   \n",
       "801        2.571                   4.857   \n",
       "\n",
       "                                               article  \\\n",
       "145  The Sungai Putri, meaning River of the Princes...   \n",
       "801  A father and son have died after falling off a...   \n",
       "\n",
       "                                           demographic  \\\n",
       "145  I am male. My age is 41.0 years. My education ...   \n",
       "801  I am male. My age is 25.0 years. My education ...   \n",
       "\n",
       "                                     demographic_essay  \n",
       "145  I am male. My age is 41.0 years. My education ...  \n",
       "801  I am male. My age is 25.0 years. My education ...  "
      ]
     },
     "execution_count": 96,
     "metadata": {},
     "output_type": "execute_result"
    }
   ],
   "source": [
    "paraphrased.sample(2)"
   ]
  },
  {
   "cell_type": "code",
   "execution_count": 97,
   "metadata": {},
   "outputs": [],
   "source": [
    "device = torch.device(\"cuda\") if torch.cuda.is_available() else torch.device(\"cpu\")\n",
    "tokenizer = trf.AutoTokenizer.from_pretrained(\"humarin/chatgpt_paraphraser_on_T5_base\")\n",
    "model = trf.AutoModelForSeq2SeqLM.from_pretrained(\"humarin/chatgpt_paraphraser_on_T5_base\").to(device)"
   ]
  },
  {
   "cell_type": "code",
   "execution_count": 98,
   "metadata": {},
   "outputs": [],
   "source": [
    "def paraphrase(\n",
    "    question,\n",
    "    num_beams=5,\n",
    "    num_beam_groups=5,\n",
    "    num_return_sequences=1,\n",
    "    repetition_penalty=10.0,\n",
    "    diversity_penalty=3.0,\n",
    "    no_repeat_ngram_size=2,\n",
    "    temperature=0.7\n",
    "):\n",
    "    max_length=len(question) #length of existing sentence is the limit\n",
    "    input_ids = tokenizer(\n",
    "        f'paraphrase: {question}',\n",
    "        return_tensors=\"pt\", padding=\"longest\",\n",
    "        max_length=max_length,\n",
    "        truncation=True,\n",
    "    ).input_ids\n",
    "    \n",
    "    outputs = model.generate(\n",
    "        input_ids.to(device), temperature=temperature, repetition_penalty=repetition_penalty,\n",
    "        num_return_sequences=num_return_sequences, no_repeat_ngram_size=no_repeat_ngram_size,\n",
    "        num_beams=num_beams, num_beam_groups=num_beam_groups,\n",
    "        max_length=max_length, diversity_penalty=diversity_penalty\n",
    "    )\n",
    "\n",
    "    res = tokenizer.batch_decode(outputs, skip_special_tokens=True)\n",
    "\n",
    "    return res"
   ]
  },
  {
   "cell_type": "code",
   "execution_count": 99,
   "metadata": {},
   "outputs": [
    {
     "name": "stderr",
     "output_type": "stream",
     "text": [
      "/scratch/jr19/rh2942/miniconda3/lib/python3.10/site-packages/transformers/generation_beam_search.py:198: UserWarning: Passing `max_length` to BeamSearchScorer is deprecated and has no effect. `max_length` should be passed directly to `beam_search(...)`, `beam_sample(...)`, or `group_beam_search(...)`.\n",
      "  warnings.warn(\n"
     ]
    }
   ],
   "source": [
    "for index, row in paraphrased.iterrows():\n",
    "    paraphrased.loc[index, \"demographic\"] = paraphrase(paraphrased.loc[index, \"demographic\"])[0] # 0-index to take the one and only first paraphrased item\n",
    "    paraphrased.loc[index, \"essay\"] = paraphrase(paraphrased.loc[index, \"essay\"])[0]\n",
    "    paraphrased.loc[index, \"article\"] = paraphrase(paraphrased.loc[index, \"article\"])[0]"
   ]
  },
  {
   "cell_type": "code",
   "execution_count": 100,
   "metadata": {},
   "outputs": [],
   "source": [
    "paraphrased[\"demographic_essay\"] = paraphrased[\"demographic\"] + paraphrased[\"essay\"]"
   ]
  },
  {
   "cell_type": "code",
   "execution_count": 101,
   "metadata": {},
   "outputs": [
    {
     "data": {
      "text/html": [
       "<div>\n",
       "<style scoped>\n",
       "    .dataframe tbody tr th:only-of-type {\n",
       "        vertical-align: middle;\n",
       "    }\n",
       "\n",
       "    .dataframe tbody tr th {\n",
       "        vertical-align: top;\n",
       "    }\n",
       "\n",
       "    .dataframe thead th {\n",
       "        text-align: right;\n",
       "    }\n",
       "</style>\n",
       "<table border=\"1\" class=\"dataframe\">\n",
       "  <thead>\n",
       "    <tr style=\"text-align: right;\">\n",
       "      <th></th>\n",
       "      <th>essay</th>\n",
       "      <th>empathy</th>\n",
       "      <th>distress</th>\n",
       "      <th>emotion</th>\n",
       "      <th>personality_conscientiousness</th>\n",
       "      <th>personality_openess</th>\n",
       "      <th>personality_extraversion</th>\n",
       "      <th>personality_agreeableness</th>\n",
       "      <th>personality_stability</th>\n",
       "      <th>iri_perspective_taking</th>\n",
       "      <th>iri_personal_distress</th>\n",
       "      <th>iri_fantasy</th>\n",
       "      <th>iri_empathatic_concern</th>\n",
       "      <th>article</th>\n",
       "      <th>demographic</th>\n",
       "      <th>demographic_essay</th>\n",
       "    </tr>\n",
       "  </thead>\n",
       "  <tbody>\n",
       "    <tr>\n",
       "      <th>0</th>\n",
       "      <td>I am filled with sadness seeing people living ...</td>\n",
       "      <td>6.833333</td>\n",
       "      <td>6.625</td>\n",
       "      <td>Hope/Sadness</td>\n",
       "      <td>7.00</td>\n",
       "      <td>5.50</td>\n",
       "      <td>1.00</td>\n",
       "      <td>6.50</td>\n",
       "      <td>6.0</td>\n",
       "      <td>4.857</td>\n",
       "      <td>2.0000</td>\n",
       "      <td>3.429</td>\n",
       "      <td>5.000</td>\n",
       "      <td>The absence of food in the mountains is causin...</td>\n",
       "      <td>My profile details a black or African-American...</td>\n",
       "      <td>My profile details a black or African-American...</td>\n",
       "    </tr>\n",
       "    <tr>\n",
       "      <th>1</th>\n",
       "      <td>Why isn't there more effort to assist the peop...</td>\n",
       "      <td>5.833333</td>\n",
       "      <td>6.000</td>\n",
       "      <td>Anger</td>\n",
       "      <td>5.50</td>\n",
       "      <td>5.00</td>\n",
       "      <td>2.00</td>\n",
       "      <td>5.50</td>\n",
       "      <td>4.5</td>\n",
       "      <td>3.429</td>\n",
       "      <td>2.8570</td>\n",
       "      <td>2.857</td>\n",
       "      <td>2.714</td>\n",
       "      <td>The absence of food in the mountains is causin...</td>\n",
       "      <td>I am a male with an age of 32.0 years, accompa...</td>\n",
       "      <td>I am a male with an age of 32.0 years, accompa...</td>\n",
       "    </tr>\n",
       "    <tr>\n",
       "      <th>2</th>\n",
       "      <td>After reading the article, I am filled with sa...</td>\n",
       "      <td>1.000000</td>\n",
       "      <td>1.375</td>\n",
       "      <td>Sadness</td>\n",
       "      <td>6.75</td>\n",
       "      <td>6.75</td>\n",
       "      <td>6.75</td>\n",
       "      <td>6.75</td>\n",
       "      <td>7.0</td>\n",
       "      <td>4.643</td>\n",
       "      <td>2.0715</td>\n",
       "      <td>4.143</td>\n",
       "      <td>4.643</td>\n",
       "      <td>The absence of food in the mountains is causin...</td>\n",
       "      <td>I am a male with 290 years of age, four year b...</td>\n",
       "      <td>I am a male with 290 years of age, four year b...</td>\n",
       "    </tr>\n",
       "    <tr>\n",
       "      <th>3</th>\n",
       "      <td>Despite having an amazing story to tell, someo...</td>\n",
       "      <td>6.166667</td>\n",
       "      <td>6.625</td>\n",
       "      <td>Sadness</td>\n",
       "      <td>6.00</td>\n",
       "      <td>6.00</td>\n",
       "      <td>5.00</td>\n",
       "      <td>4.50</td>\n",
       "      <td>3.5</td>\n",
       "      <td>5.000</td>\n",
       "      <td>4.1430</td>\n",
       "      <td>4.857</td>\n",
       "      <td>5.000</td>\n",
       "      <td>The Miami Marlins pitcher, Jose Fernández, who...</td>\n",
       "      <td>I am a female, two-year associate degree, whit...</td>\n",
       "      <td>I am a female, two-year associate degree, whit...</td>\n",
       "    </tr>\n",
       "    <tr>\n",
       "      <th>4</th>\n",
       "      <td>It seems as though an all-around kind and gene...</td>\n",
       "      <td>6.833333</td>\n",
       "      <td>1.000</td>\n",
       "      <td>Neutral</td>\n",
       "      <td>7.00</td>\n",
       "      <td>5.50</td>\n",
       "      <td>1.00</td>\n",
       "      <td>6.50</td>\n",
       "      <td>6.0</td>\n",
       "      <td>4.857</td>\n",
       "      <td>2.0000</td>\n",
       "      <td>3.429</td>\n",
       "      <td>5.000</td>\n",
       "      <td>The Miami Marlins pitcher, Jose Fernández, who...</td>\n",
       "      <td>I am a male with an age of 37.0 years, four ye...</td>\n",
       "      <td>I am a male with an age of 37.0 years, four ye...</td>\n",
       "    </tr>\n",
       "    <tr>\n",
       "      <th>...</th>\n",
       "      <td>...</td>\n",
       "      <td>...</td>\n",
       "      <td>...</td>\n",
       "      <td>...</td>\n",
       "      <td>...</td>\n",
       "      <td>...</td>\n",
       "      <td>...</td>\n",
       "      <td>...</td>\n",
       "      <td>...</td>\n",
       "      <td>...</td>\n",
       "      <td>...</td>\n",
       "      <td>...</td>\n",
       "      <td>...</td>\n",
       "      <td>...</td>\n",
       "      <td>...</td>\n",
       "      <td>...</td>\n",
       "    </tr>\n",
       "    <tr>\n",
       "      <th>982</th>\n",
       "      <td>I'm feeling apprehensive about the individuals...</td>\n",
       "      <td>1.000000</td>\n",
       "      <td>1.875</td>\n",
       "      <td>Fear/Sadness</td>\n",
       "      <td>6.75</td>\n",
       "      <td>6.75</td>\n",
       "      <td>6.75</td>\n",
       "      <td>6.75</td>\n",
       "      <td>7.0</td>\n",
       "      <td>4.643</td>\n",
       "      <td>2.0715</td>\n",
       "      <td>4.143</td>\n",
       "      <td>4.643</td>\n",
       "      <td>The Portugal-bound train that derailed in Spai...</td>\n",
       "      <td>My name is Male, I am 29.0 years old and I hav...</td>\n",
       "      <td>My name is Male, I am 29.0 years old and I hav...</td>\n",
       "    </tr>\n",
       "    <tr>\n",
       "      <th>983</th>\n",
       "      <td>Despite my best efforts to buy food with purpo...</td>\n",
       "      <td>3.500000</td>\n",
       "      <td>3.625</td>\n",
       "      <td>Sadness</td>\n",
       "      <td>5.00</td>\n",
       "      <td>3.00</td>\n",
       "      <td>5.00</td>\n",
       "      <td>4.00</td>\n",
       "      <td>3.5</td>\n",
       "      <td>2.714</td>\n",
       "      <td>3.0000</td>\n",
       "      <td>3.143</td>\n",
       "      <td>3.286</td>\n",
       "      <td>The paper published in Plos One highlights the...</td>\n",
       "      <td>As a female with XSW degrees and White skin, I...</td>\n",
       "      <td>As a female with XSW degrees and White skin, I...</td>\n",
       "    </tr>\n",
       "    <tr>\n",
       "      <th>984</th>\n",
       "      <td>I wish the article had provided more informati...</td>\n",
       "      <td>4.000000</td>\n",
       "      <td>4.375</td>\n",
       "      <td>Neutral</td>\n",
       "      <td>5.00</td>\n",
       "      <td>3.00</td>\n",
       "      <td>5.00</td>\n",
       "      <td>4.00</td>\n",
       "      <td>3.5</td>\n",
       "      <td>2.714</td>\n",
       "      <td>3.0000</td>\n",
       "      <td>3.143</td>\n",
       "      <td>3.286</td>\n",
       "      <td>The police have arrived at the Azusa location ...</td>\n",
       "      <td>My background is White, my age is 21.0 years, ...</td>\n",
       "      <td>My background is White, my age is 21.0 years, ...</td>\n",
       "    </tr>\n",
       "    <tr>\n",
       "      <th>985</th>\n",
       "      <td>This is a truly shocking story. I find it asto...</td>\n",
       "      <td>6.000000</td>\n",
       "      <td>6.000</td>\n",
       "      <td>Fear</td>\n",
       "      <td>6.00</td>\n",
       "      <td>6.00</td>\n",
       "      <td>6.00</td>\n",
       "      <td>6.00</td>\n",
       "      <td>6.0</td>\n",
       "      <td>4.000</td>\n",
       "      <td>2.2860</td>\n",
       "      <td>3.571</td>\n",
       "      <td>3.714</td>\n",
       "      <td>A recent report has revealed that providers wh...</td>\n",
       "      <td>I am a female, 27.0 years old, with an educati...</td>\n",
       "      <td>I am a female, 27.0 years old, with an educati...</td>\n",
       "    </tr>\n",
       "    <tr>\n",
       "      <th>986</th>\n",
       "      <td>The man's inebriated state may have led him to...</td>\n",
       "      <td>4.000000</td>\n",
       "      <td>3.625</td>\n",
       "      <td>Anger</td>\n",
       "      <td>5.00</td>\n",
       "      <td>3.00</td>\n",
       "      <td>5.00</td>\n",
       "      <td>4.00</td>\n",
       "      <td>3.5</td>\n",
       "      <td>2.714</td>\n",
       "      <td>3.0000</td>\n",
       "      <td>3.143</td>\n",
       "      <td>3.286</td>\n",
       "      <td>U.S. Attorney Channing D.\" said on Friday that...</td>\n",
       "      <td>I am a female, 21.0 years old, with 0 educatio...</td>\n",
       "      <td>I am a female, 21.0 years old, with 0 educatio...</td>\n",
       "    </tr>\n",
       "  </tbody>\n",
       "</table>\n",
       "<p>987 rows × 16 columns</p>\n",
       "</div>"
      ],
      "text/plain": [
       "                                                 essay   empathy  distress  \\\n",
       "0    I am filled with sadness seeing people living ...  6.833333     6.625   \n",
       "1    Why isn't there more effort to assist the peop...  5.833333     6.000   \n",
       "2    After reading the article, I am filled with sa...  1.000000     1.375   \n",
       "3    Despite having an amazing story to tell, someo...  6.166667     6.625   \n",
       "4    It seems as though an all-around kind and gene...  6.833333     1.000   \n",
       "..                                                 ...       ...       ...   \n",
       "982  I'm feeling apprehensive about the individuals...  1.000000     1.875   \n",
       "983  Despite my best efforts to buy food with purpo...  3.500000     3.625   \n",
       "984  I wish the article had provided more informati...  4.000000     4.375   \n",
       "985  This is a truly shocking story. I find it asto...  6.000000     6.000   \n",
       "986  The man's inebriated state may have led him to...  4.000000     3.625   \n",
       "\n",
       "          emotion  personality_conscientiousness  personality_openess  \\\n",
       "0    Hope/Sadness                           7.00                 5.50   \n",
       "1           Anger                           5.50                 5.00   \n",
       "2         Sadness                           6.75                 6.75   \n",
       "3         Sadness                           6.00                 6.00   \n",
       "4         Neutral                           7.00                 5.50   \n",
       "..            ...                            ...                  ...   \n",
       "982  Fear/Sadness                           6.75                 6.75   \n",
       "983       Sadness                           5.00                 3.00   \n",
       "984       Neutral                           5.00                 3.00   \n",
       "985          Fear                           6.00                 6.00   \n",
       "986         Anger                           5.00                 3.00   \n",
       "\n",
       "     personality_extraversion  personality_agreeableness  \\\n",
       "0                        1.00                       6.50   \n",
       "1                        2.00                       5.50   \n",
       "2                        6.75                       6.75   \n",
       "3                        5.00                       4.50   \n",
       "4                        1.00                       6.50   \n",
       "..                        ...                        ...   \n",
       "982                      6.75                       6.75   \n",
       "983                      5.00                       4.00   \n",
       "984                      5.00                       4.00   \n",
       "985                      6.00                       6.00   \n",
       "986                      5.00                       4.00   \n",
       "\n",
       "     personality_stability  iri_perspective_taking  iri_personal_distress  \\\n",
       "0                      6.0                   4.857                 2.0000   \n",
       "1                      4.5                   3.429                 2.8570   \n",
       "2                      7.0                   4.643                 2.0715   \n",
       "3                      3.5                   5.000                 4.1430   \n",
       "4                      6.0                   4.857                 2.0000   \n",
       "..                     ...                     ...                    ...   \n",
       "982                    7.0                   4.643                 2.0715   \n",
       "983                    3.5                   2.714                 3.0000   \n",
       "984                    3.5                   2.714                 3.0000   \n",
       "985                    6.0                   4.000                 2.2860   \n",
       "986                    3.5                   2.714                 3.0000   \n",
       "\n",
       "     iri_fantasy  iri_empathatic_concern  \\\n",
       "0          3.429                   5.000   \n",
       "1          2.857                   2.714   \n",
       "2          4.143                   4.643   \n",
       "3          4.857                   5.000   \n",
       "4          3.429                   5.000   \n",
       "..           ...                     ...   \n",
       "982        4.143                   4.643   \n",
       "983        3.143                   3.286   \n",
       "984        3.143                   3.286   \n",
       "985        3.571                   3.714   \n",
       "986        3.143                   3.286   \n",
       "\n",
       "                                               article  \\\n",
       "0    The absence of food in the mountains is causin...   \n",
       "1    The absence of food in the mountains is causin...   \n",
       "2    The absence of food in the mountains is causin...   \n",
       "3    The Miami Marlins pitcher, Jose Fernández, who...   \n",
       "4    The Miami Marlins pitcher, Jose Fernández, who...   \n",
       "..                                                 ...   \n",
       "982  The Portugal-bound train that derailed in Spai...   \n",
       "983  The paper published in Plos One highlights the...   \n",
       "984  The police have arrived at the Azusa location ...   \n",
       "985  A recent report has revealed that providers wh...   \n",
       "986  U.S. Attorney Channing D.\" said on Friday that...   \n",
       "\n",
       "                                           demographic  \\\n",
       "0    My profile details a black or African-American...   \n",
       "1    I am a male with an age of 32.0 years, accompa...   \n",
       "2    I am a male with 290 years of age, four year b...   \n",
       "3    I am a female, two-year associate degree, whit...   \n",
       "4    I am a male with an age of 37.0 years, four ye...   \n",
       "..                                                 ...   \n",
       "982  My name is Male, I am 29.0 years old and I hav...   \n",
       "983  As a female with XSW degrees and White skin, I...   \n",
       "984  My background is White, my age is 21.0 years, ...   \n",
       "985  I am a female, 27.0 years old, with an educati...   \n",
       "986  I am a female, 21.0 years old, with 0 educatio...   \n",
       "\n",
       "                                     demographic_essay  \n",
       "0    My profile details a black or African-American...  \n",
       "1    I am a male with an age of 32.0 years, accompa...  \n",
       "2    I am a male with 290 years of age, four year b...  \n",
       "3    I am a female, two-year associate degree, whit...  \n",
       "4    I am a male with an age of 37.0 years, four ye...  \n",
       "..                                                 ...  \n",
       "982  My name is Male, I am 29.0 years old and I hav...  \n",
       "983  As a female with XSW degrees and White skin, I...  \n",
       "984  My background is White, my age is 21.0 years, ...  \n",
       "985  I am a female, 27.0 years old, with an educati...  \n",
       "986  I am a female, 21.0 years old, with 0 educatio...  \n",
       "\n",
       "[987 rows x 16 columns]"
      ]
     },
     "execution_count": 101,
     "metadata": {},
     "output_type": "execute_result"
    }
   ],
   "source": [
    "paraphrased"
   ]
  },
  {
   "cell_type": "code",
   "execution_count": 102,
   "metadata": {},
   "outputs": [],
   "source": [
    "train_dev_paraphrased = pd.concat([train_dev, paraphrased], axis=0, ignore_index=True)"
   ]
  },
  {
   "cell_type": "code",
   "execution_count": 103,
   "metadata": {},
   "outputs": [],
   "source": [
    "train_dev_paraphrased.to_csv(\"./processed_data/train_dev_paraphrased.csv\")"
   ]
  },
  {
   "cell_type": "markdown",
   "metadata": {},
   "source": [
    "## Separate augmented train to check dev performance separately"
   ]
  },
  {
   "cell_type": "code",
   "execution_count": 13,
   "metadata": {},
   "outputs": [],
   "source": [
    "# train_dev_paraphrased = pd.read_csv(\"./processed_data/train_dev_paraphrased.csv\", index_col=0, header=0)"
   ]
  },
  {
   "cell_type": "code",
   "execution_count": 104,
   "metadata": {},
   "outputs": [],
   "source": [
    "train = train_dev_paraphrased.iloc[0:779,:]"
   ]
  },
  {
   "cell_type": "code",
   "execution_count": 108,
   "metadata": {},
   "outputs": [],
   "source": [
    "train_paraphrased = train_dev_paraphrased.iloc[987:1766,:]"
   ]
  },
  {
   "cell_type": "code",
   "execution_count": 109,
   "metadata": {},
   "outputs": [],
   "source": [
    "train_train_paraphrased = pd.concat([train, train_paraphrased], ignore_index=True, axis=0)"
   ]
  },
  {
   "cell_type": "code",
   "execution_count": 110,
   "metadata": {},
   "outputs": [],
   "source": [
    "train_train_paraphrased.to_csv(\"./processed_data/train_train_paraphrased.csv\")"
   ]
  },
  {
   "cell_type": "markdown",
   "metadata": {
    "tags": []
   },
   "source": [
    "# Check lengths"
   ]
  },
  {
   "cell_type": "code",
   "execution_count": 52,
   "metadata": {},
   "outputs": [],
   "source": [
    "from datasets import Dataset"
   ]
  },
  {
   "cell_type": "code",
   "execution_count": 54,
   "metadata": {},
   "outputs": [
    {
     "data": {
      "application/vnd.jupyter.widget-view+json": {
       "model_id": "",
       "version_major": 2,
       "version_minor": 0
      },
      "text/plain": [
       "Map:   0%|          | 0/987 [00:00<?, ? examples/s]"
      ]
     },
     "metadata": {},
     "output_type": "display_data"
    }
   ],
   "source": [
    "tokeniser = trf.AutoTokenizer.from_pretrained(\"bert-base-uncased\")\n",
    "\n",
    "#padding=\"longest\" can be deferred to do dynamic padding\n",
    "def tokenise(sentence):\n",
    "    return tokeniser(sentence[\"demographic_essay\"], truncation=True)\n",
    "\n",
    "hugging_dataset = Dataset.from_pandas(train_dev, preserve_index=False)\n",
    "\n",
    "tokenised_hugging_dataset = hugging_dataset.map(tokenise, batched=True)"
   ]
  },
  {
   "cell_type": "code",
   "execution_count": 58,
   "metadata": {
    "id": "DGrZyLKSjM8T"
   },
   "outputs": [
    {
     "name": "stdout",
     "output_type": "stream",
     "text": [
      "Max lengths: 236\n"
     ]
    }
   ],
   "source": [
    "# checking length after tokenisation\n",
    "\n",
    "length = []\n",
    "for i in range(tokenised_hugging_dataset.num_rows):\n",
    "  length.append(len(tokenised_hugging_dataset['input_ids'][i]))\n",
    "\n",
    "print(f\"Max length: {max(length)}\")"
   ]
  },
  {
   "cell_type": "code",
   "execution_count": 61,
   "metadata": {},
   "outputs": [
    {
     "data": {
      "text/plain": [
       "956"
      ]
     },
     "execution_count": 61,
     "metadata": {},
     "output_type": "execute_result"
    }
   ],
   "source": [
    "train_dev[\"demographic_essay\"].str.len().max()"
   ]
  },
  {
   "cell_type": "code",
   "execution_count": 63,
   "metadata": {},
   "outputs": [
    {
     "data": {
      "text/plain": [
       "284"
      ]
     },
     "execution_count": 63,
     "metadata": {},
     "output_type": "execute_result"
    }
   ],
   "source": [
    "train_dev[\"article\"].str.len().min()"
   ]
  },
  {
   "cell_type": "code",
   "execution_count": 10,
   "metadata": {},
   "outputs": [
    {
     "data": {
      "text/plain": [
       "20047"
      ]
     },
     "execution_count": 10,
     "metadata": {},
     "output_type": "execute_result"
    }
   ],
   "source": [
    "train_dev[\"article\"].str.len().max()"
   ]
  },
  {
   "cell_type": "code",
   "execution_count": 8,
   "metadata": {},
   "outputs": [
    {
     "data": {
      "text/plain": [
       "956"
      ]
     },
     "execution_count": 8,
     "metadata": {},
     "output_type": "execute_result"
    }
   ],
   "source": [
    "train_dev[\"demographic_essay\"].str.len().max()"
   ]
  },
  {
   "cell_type": "code",
   "execution_count": 14,
   "metadata": {},
   "outputs": [
    {
     "data": {
      "text/plain": [
       "987"
      ]
     },
     "execution_count": 14,
     "metadata": {},
     "output_type": "execute_result"
    }
   ],
   "source": [
    "train_dev_paraphrased[\"article\"].str.len().max()"
   ]
  },
  {
   "cell_type": "markdown",
   "metadata": {},
   "source": [
    "# Extra"
   ]
  },
  {
   "cell_type": "markdown",
   "metadata": {},
   "source": [
    "## ChatGPT"
   ]
  },
  {
   "cell_type": "code",
   "execution_count": null,
   "metadata": {},
   "outputs": [],
   "source": [
    "article_raw.iloc[0,1]"
   ]
  },
  {
   "cell_type": "code",
   "execution_count": 28,
   "metadata": {},
   "outputs": [],
   "source": [
    "import openai"
   ]
  },
  {
   "cell_type": "code",
   "execution_count": 43,
   "metadata": {},
   "outputs": [],
   "source": [
    "with open(\"./openai-api.txt\", \"r\") as f:\n",
    "    openai.api_key = f.read().strip(\"\\n\")"
   ]
  },
  {
   "cell_type": "code",
   "execution_count": 45,
   "metadata": {},
   "outputs": [],
   "source": [
    "# model = \"gpt-3.5-turbo\"\n",
    "model =\"text-davinci-003\""
   ]
  },
  {
   "cell_type": "code",
   "execution_count": null,
   "metadata": {},
   "outputs": [],
   "source": [
    "response = openai.Completion.create(\n",
    "  model=model,\n",
    "  prompt= article_raw.iloc[0,1] + \"\\n\\nTl;dr\",\n",
    "  max_tokens=60,\n",
    "  top_p=1.0,\n",
    "  frequency_penalty=0.0,\n",
    "  presence_penalty=1\n",
    ")"
   ]
  },
  {
   "cell_type": "markdown",
   "metadata": {},
   "source": [
    "## Parrot"
   ]
  },
  {
   "cell_type": "code",
   "execution_count": null,
   "metadata": {},
   "outputs": [],
   "source": [
    "from parrot import Parrot"
   ]
  },
  {
   "cell_type": "code",
   "execution_count": null,
   "metadata": {},
   "outputs": [
    {
     "data": {
      "text/plain": [
       "'I am not surprised that the nations of Africa are having difficulty agreeing on conservation efforts for elephants. There is much disharmony politically between them. Africa is home to a number of endangered and threatened animals. I think the global community has to be involved in these conservation efforts.'"
      ]
     },
     "execution_count": 20,
     "metadata": {},
     "output_type": "execute_result"
    }
   ],
   "source": [
    "paraphrased.loc[429,'essay']"
   ]
  },
  {
   "cell_type": "code",
   "execution_count": null,
   "metadata": {},
   "outputs": [],
   "source": [
    "parrot = Parrot(model_tag=\"prithivida/parrot_paraphraser_on_T5\", use_gpu=True)"
   ]
  },
  {
   "cell_type": "code",
   "execution_count": null,
   "metadata": {},
   "outputs": [
    {
     "data": {
      "text/plain": [
       "[('I am not surprised that the nations of Africa are having difficulty agreeing on conservation efforts for elephants. There is much disharmony politically between them. Africa is home to a number of endangered and threatened animals. I think the global community has to be involved in these conservation efforts.',\n",
       "  0)]"
      ]
     },
     "execution_count": 29,
     "metadata": {},
     "output_type": "execute_result"
    }
   ],
   "source": [
    "parrot.augment(input_phrase=paraphrased.loc[429,'essay'], use_gpu=True, do_diverse=True, max_return_phrases=5)"
   ]
  },
  {
   "cell_type": "markdown",
   "metadata": {},
   "source": [
    "Current problem: the paraphrased sentence is pretty much the same as original"
   ]
  },
  {
   "cell_type": "markdown",
   "metadata": {},
   "source": [
    "## Pegasus"
   ]
  },
  {
   "cell_type": "code",
   "execution_count": null,
   "metadata": {},
   "outputs": [],
   "source": [
    "from transformers import PegasusForConditionalGeneration, PegasusTokenizer\n",
    "model_name = 'tuner007/pegasus_paraphrase'\n",
    "torch_device = 'cuda' if torch.cuda.is_available() else 'cpu'\n",
    "tokenizer = PegasusTokenizer.from_pretrained(model_name)\n",
    "model = PegasusForConditionalGeneration.from_pretrained(model_name).to(torch_device)"
   ]
  },
  {
   "cell_type": "code",
   "execution_count": null,
   "metadata": {},
   "outputs": [],
   "source": [
    "def get_response(input_text,num_return_sequences,num_beams):\n",
    "    batch = tokenizer([input_text],truncation=True,padding='longest',max_length=60, return_tensors=\"pt\").to(torch_device)\n",
    "    translated = model.generate(**batch,max_length=60,num_beams=num_beams, num_return_sequences=num_return_sequences, temperature=1.5)\n",
    "    tgt_text = tokenizer.batch_decode(translated, skip_special_tokens=True)\n",
    "    return tgt_text"
   ]
  },
  {
   "cell_type": "code",
   "execution_count": null,
   "metadata": {},
   "outputs": [
    {
     "data": {
      "text/plain": [
       "[\"I am not surprised that the nations of Africa don't agree on elephants.\"]"
      ]
     },
     "execution_count": 33,
     "metadata": {},
     "output_type": "execute_result"
    }
   ],
   "source": [
    "get_response(input_text = paraphrased.loc[429,'essay'], num_return_sequences=1 ,num_beams=10)"
   ]
  },
  {
   "cell_type": "markdown",
   "metadata": {},
   "source": [
    "Current problem: only the first sentence is paraphrased"
   ]
  },
  {
   "cell_type": "markdown",
   "metadata": {},
   "source": [
    "## FastText embeddings"
   ]
  },
  {
   "cell_type": "code",
   "execution_count": 17,
   "metadata": {},
   "outputs": [],
   "source": [
    "# essay_empathy.head()"
   ]
  },
  {
   "cell_type": "code",
   "execution_count": 18,
   "metadata": {},
   "outputs": [
    {
     "name": "stderr",
     "output_type": "stream",
     "text": [
      "Warning : `load_model` does not return WordVectorModel or SupervisedModel any more, but a `FastText` object which is very similar.\n"
     ]
    }
   ],
   "source": [
    "import fasttext\n",
    "import fasttext.util\n",
    "fasttext.util.download_model('en', if_exists='ignore')\n",
    "ft = fasttext.load_model('cc.en.300.bin')"
   ]
  },
  {
   "cell_type": "code",
   "execution_count": 19,
   "metadata": {},
   "outputs": [],
   "source": [
    "essay_fasttext = pd.DataFrame(essay_empathy['essay'].apply(lambda x: ft.get_sentence_vector(x)))\n",
    "# essay_fasttext"
   ]
  },
  {
   "cell_type": "code",
   "execution_count": 20,
   "metadata": {},
   "outputs": [],
   "source": [
    "# expanding embedding list to columns\n",
    "essay_fasttext = pd.concat([essay_fasttext.drop(columns='essay'), pd.DataFrame(essay_fasttext['essay'].tolist(), index=essay_fasttext.index).add_prefix('fasttext_')],axis=1)"
   ]
  },
  {
   "cell_type": "code",
   "execution_count": 21,
   "metadata": {},
   "outputs": [],
   "source": [
    "# essay_fasttext"
   ]
  },
  {
   "cell_type": "code",
   "execution_count": 22,
   "metadata": {},
   "outputs": [],
   "source": [
    "essay_empathy.drop(columns='essay', inplace=True) # no longer required"
   ]
  },
  {
   "cell_type": "code",
   "execution_count": 23,
   "metadata": {},
   "outputs": [],
   "source": [
    "# essay_empathy"
   ]
  },
  {
   "cell_type": "code",
   "execution_count": 24,
   "metadata": {},
   "outputs": [],
   "source": [
    "empathy_fasttext = pd.concat([essay_empathy, essay_fasttext], axis=1)"
   ]
  },
  {
   "cell_type": "code",
   "execution_count": null,
   "metadata": {},
   "outputs": [],
   "source": [
    "empathy_fasttext"
   ]
  },
  {
   "cell_type": "code",
   "execution_count": 26,
   "metadata": {},
   "outputs": [],
   "source": [
    "empathy_fasttext.to_csv('./empathy_fasttext.csv')"
   ]
  }
 ],
 "metadata": {
  "kernelspec": {
   "display_name": "Python 3 (ipykernel)",
   "language": "python",
   "name": "python3"
  },
  "language_info": {
   "codemirror_mode": {
    "name": "ipython",
    "version": 3
   },
   "file_extension": ".py",
   "mimetype": "text/x-python",
   "name": "python",
   "nbconvert_exporter": "python",
   "pygments_lexer": "ipython3",
   "version": "3.10.10"
  }
 },
 "nbformat": 4,
 "nbformat_minor": 4
}
