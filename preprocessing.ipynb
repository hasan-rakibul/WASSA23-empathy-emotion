{
 "cells": [
  {
   "cell_type": "code",
   "execution_count": 1,
   "metadata": {},
   "outputs": [],
   "source": [
    "import pandas as pd\n",
    "import numpy as np\n",
    "import matplotlib.pyplot as plt"
   ]
  },
  {
   "cell_type": "code",
   "execution_count": 2,
   "metadata": {},
   "outputs": [],
   "source": [
    "essay_empathy_raw = pd.read_csv('./dataset/WASSA23_essay_level_with_labels_train.tsv', sep='\\t', header=0)\n",
    "article_raw = pd.read_csv('./dataset/articles_adobe_AMT.csv', header=0, index_col=0)"
   ]
  },
  {
   "cell_type": "code",
   "execution_count": 3,
   "metadata": {},
   "outputs": [],
   "source": [
    "# essay_empathy_raw"
   ]
  },
  {
   "cell_type": "code",
   "execution_count": 4,
   "metadata": {},
   "outputs": [
    {
     "data": {
      "text/html": [
       "<div>\n",
       "<style scoped>\n",
       "    .dataframe tbody tr th:only-of-type {\n",
       "        vertical-align: middle;\n",
       "    }\n",
       "\n",
       "    .dataframe tbody tr th {\n",
       "        vertical-align: top;\n",
       "    }\n",
       "\n",
       "    .dataframe thead th {\n",
       "        text-align: right;\n",
       "    }\n",
       "</style>\n",
       "<table border=\"1\" class=\"dataframe\">\n",
       "  <thead>\n",
       "    <tr style=\"text-align: right;\">\n",
       "      <th></th>\n",
       "      <th>text</th>\n",
       "    </tr>\n",
       "    <tr>\n",
       "      <th>article_id</th>\n",
       "      <th></th>\n",
       "    </tr>\n",
       "  </thead>\n",
       "  <tbody>\n",
       "    <tr>\n",
       "      <th>1</th>\n",
       "      <td>'Abhorrent' bottle attack on young Rangers fan...</td>\n",
       "    </tr>\n",
       "    <tr>\n",
       "      <th>2</th>\n",
       "      <td>'Afghan Girl' in iconic National Geographic ph...</td>\n",
       "    </tr>\n",
       "    <tr>\n",
       "      <th>3</th>\n",
       "      <td>'My whole family has been wiped out': Victims ...</td>\n",
       "    </tr>\n",
       "    <tr>\n",
       "      <th>4</th>\n",
       "      <td>'RHONY' STAR JULES WAINSTEIN Estranged Husband...</td>\n",
       "    </tr>\n",
       "    <tr>\n",
       "      <th>5</th>\n",
       "      <td>'Swam for their life': More survivors of Levia...</td>\n",
       "    </tr>\n",
       "  </tbody>\n",
       "</table>\n",
       "</div>"
      ],
      "text/plain": [
       "                                                         text\n",
       "article_id                                                   \n",
       "1           'Abhorrent' bottle attack on young Rangers fan...\n",
       "2           'Afghan Girl' in iconic National Geographic ph...\n",
       "3           'My whole family has been wiped out': Victims ...\n",
       "4           'RHONY' STAR JULES WAINSTEIN Estranged Husband...\n",
       "5           'Swam for their life': More survivors of Levia..."
      ]
     },
     "execution_count": 4,
     "metadata": {},
     "output_type": "execute_result"
    }
   ],
   "source": [
    "article_raw.head()"
   ]
  },
  {
   "cell_type": "code",
   "execution_count": 5,
   "metadata": {},
   "outputs": [],
   "source": [
    "# essay_empathy_raw.columns"
   ]
  },
  {
   "cell_type": "code",
   "execution_count": 6,
   "metadata": {},
   "outputs": [
    {
     "data": {
      "text/plain": [
       "conversation_id                    int64\n",
       "article_id                         int64\n",
       "essay                             object\n",
       "empathy                          float64\n",
       "distress                         float64\n",
       "speaker_id                         int64\n",
       "gender                            object\n",
       "education                         object\n",
       "race                              object\n",
       "age                               object\n",
       "income                            object\n",
       "personality_conscientiousness     object\n",
       "personality_openess               object\n",
       "personality_extraversion          object\n",
       "personality_agreeableness         object\n",
       "personality_stability             object\n",
       "iri_perspective_taking            object\n",
       "iri_personal_distress             object\n",
       "iri_fantasy                       object\n",
       "iri_empathatic_concern            object\n",
       "speaker_number                     int64\n",
       "split                             object\n",
       "essay_id                           int64\n",
       "idx                               object\n",
       "emotion                           object\n",
       "dtype: object"
      ]
     },
     "execution_count": 6,
     "metadata": {},
     "output_type": "execute_result"
    }
   ],
   "source": [
    "essay_empathy_raw.dtypes"
   ]
  },
  {
   "cell_type": "code",
   "execution_count": 7,
   "metadata": {},
   "outputs": [],
   "source": [
    "essay_empathy = essay_empathy_raw.copy()"
   ]
  },
  {
   "cell_type": "code",
   "execution_count": 8,
   "metadata": {},
   "outputs": [],
   "source": [
    "essay_empathy.drop(columns=['speaker_id','split','essay_id','idx'], inplace=True)"
   ]
  },
  {
   "cell_type": "code",
   "execution_count": 9,
   "metadata": {},
   "outputs": [],
   "source": [
    "# essay_empathy.head()"
   ]
  },
  {
   "cell_type": "code",
   "execution_count": 10,
   "metadata": {},
   "outputs": [],
   "source": [
    "all_columns = list(essay_empathy.columns)\n",
    "# all_columns"
   ]
  },
  {
   "cell_type": "code",
   "execution_count": 11,
   "metadata": {},
   "outputs": [],
   "source": [
    "string_columns = ['essay', 'emotion']\n",
    "numeric_columns = [item for item in all_columns if item not in string_columns] # all other columns\n",
    "# numeric_columns"
   ]
  },
  {
   "cell_type": "code",
   "execution_count": 12,
   "metadata": {},
   "outputs": [],
   "source": [
    "essay_empathy = (essay_empathy.drop(columns=numeric_columns).join(essay_empathy[numeric_columns].apply(pd.to_numeric, errors='coerce'))) #converting non-numeric to null\n",
    "essay_empathy.dropna(axis=0, inplace=True) #removing the rows having NA values\n",
    "# essay_empathy"
   ]
  },
  {
   "cell_type": "code",
   "execution_count": 13,
   "metadata": {},
   "outputs": [
    {
     "data": {
      "text/plain": [
       "essay                            False\n",
       "emotion                          False\n",
       "conversation_id                  False\n",
       "article_id                       False\n",
       "empathy                          False\n",
       "distress                         False\n",
       "gender                           False\n",
       "education                        False\n",
       "race                             False\n",
       "age                              False\n",
       "income                           False\n",
       "personality_conscientiousness    False\n",
       "personality_openess              False\n",
       "personality_extraversion         False\n",
       "personality_agreeableness        False\n",
       "personality_stability            False\n",
       "iri_perspective_taking           False\n",
       "iri_personal_distress            False\n",
       "iri_fantasy                      False\n",
       "iri_empathatic_concern           False\n",
       "speaker_number                   False\n",
       "dtype: bool"
      ]
     },
     "execution_count": 13,
     "metadata": {},
     "output_type": "execute_result"
    }
   ],
   "source": [
    "essay_empathy.isnull().any(axis=0)"
   ]
  },
  {
   "cell_type": "code",
   "execution_count": 14,
   "metadata": {},
   "outputs": [],
   "source": [
    "# essay_empathy['emotion'].nunique()"
   ]
  },
  {
   "cell_type": "code",
   "execution_count": 15,
   "metadata": {},
   "outputs": [],
   "source": [
    "essay_empathy['emotion'] = pd.Categorical(essay_empathy['emotion']).codes   #convert emotion texts to numbers\n",
    "# essay_empathy.head()"
   ]
  },
  {
   "cell_type": "code",
   "execution_count": 16,
   "metadata": {},
   "outputs": [
    {
     "data": {
      "text/plain": [
       "essay                             object\n",
       "emotion                             int8\n",
       "conversation_id                    int64\n",
       "article_id                         int64\n",
       "empathy                          float64\n",
       "distress                         float64\n",
       "gender                           float64\n",
       "education                        float64\n",
       "race                             float64\n",
       "age                              float64\n",
       "income                           float64\n",
       "personality_conscientiousness    float64\n",
       "personality_openess              float64\n",
       "personality_extraversion         float64\n",
       "personality_agreeableness        float64\n",
       "personality_stability            float64\n",
       "iri_perspective_taking           float64\n",
       "iri_personal_distress            float64\n",
       "iri_fantasy                      float64\n",
       "iri_empathatic_concern           float64\n",
       "speaker_number                     int64\n",
       "dtype: object"
      ]
     },
     "execution_count": 16,
     "metadata": {},
     "output_type": "execute_result"
    }
   ],
   "source": [
    "essay_empathy.dtypes"
   ]
  },
  {
   "cell_type": "code",
   "execution_count": 17,
   "metadata": {},
   "outputs": [],
   "source": [
    "essay_empathy['essay'] = essay_empathy['essay'].apply(lambda x: x.replace('\\n', ' '))   #converting newlines (if any) to space"
   ]
  },
  {
   "cell_type": "code",
   "execution_count": 18,
   "metadata": {},
   "outputs": [],
   "source": [
    "essay_empathy.to_csv(\"./essay_texts_all_preprocessed.csv\")"
   ]
  },
  {
   "attachments": {},
   "cell_type": "markdown",
   "metadata": {},
   "source": [
    "# FastText embeddings"
   ]
  },
  {
   "cell_type": "code",
   "execution_count": 17,
   "metadata": {},
   "outputs": [],
   "source": [
    "# essay_empathy.head()"
   ]
  },
  {
   "cell_type": "code",
   "execution_count": 18,
   "metadata": {},
   "outputs": [
    {
     "name": "stderr",
     "output_type": "stream",
     "text": [
      "Warning : `load_model` does not return WordVectorModel or SupervisedModel any more, but a `FastText` object which is very similar.\n"
     ]
    }
   ],
   "source": [
    "import fasttext\n",
    "import fasttext.util\n",
    "fasttext.util.download_model('en', if_exists='ignore')\n",
    "ft = fasttext.load_model('cc.en.300.bin')"
   ]
  },
  {
   "cell_type": "code",
   "execution_count": 19,
   "metadata": {},
   "outputs": [],
   "source": [
    "essay_fasttext = pd.DataFrame(essay_empathy['essay'].apply(lambda x: ft.get_sentence_vector(x)))\n",
    "# essay_fasttext"
   ]
  },
  {
   "cell_type": "code",
   "execution_count": 20,
   "metadata": {},
   "outputs": [],
   "source": [
    "# expanding embedding list to columns\n",
    "essay_fasttext = pd.concat([essay_fasttext.drop(columns='essay'), pd.DataFrame(essay_fasttext['essay'].tolist(), index=essay_fasttext.index).add_prefix('fasttext_')],axis=1)"
   ]
  },
  {
   "cell_type": "code",
   "execution_count": 21,
   "metadata": {},
   "outputs": [],
   "source": [
    "# essay_fasttext"
   ]
  },
  {
   "cell_type": "code",
   "execution_count": 22,
   "metadata": {},
   "outputs": [],
   "source": [
    "essay_empathy.drop(columns='essay', inplace=True) # no longer required"
   ]
  },
  {
   "cell_type": "code",
   "execution_count": 23,
   "metadata": {},
   "outputs": [],
   "source": [
    "# essay_empathy"
   ]
  },
  {
   "cell_type": "code",
   "execution_count": 24,
   "metadata": {},
   "outputs": [],
   "source": [
    "empathy_fasttext = pd.concat([essay_empathy, essay_fasttext], axis=1)"
   ]
  },
  {
   "cell_type": "code",
   "execution_count": 25,
   "metadata": {},
   "outputs": [
    {
     "data": {
      "text/html": [
       "<div>\n",
       "<style scoped>\n",
       "    .dataframe tbody tr th:only-of-type {\n",
       "        vertical-align: middle;\n",
       "    }\n",
       "\n",
       "    .dataframe tbody tr th {\n",
       "        vertical-align: top;\n",
       "    }\n",
       "\n",
       "    .dataframe thead th {\n",
       "        text-align: right;\n",
       "    }\n",
       "</style>\n",
       "<table border=\"1\" class=\"dataframe\">\n",
       "  <thead>\n",
       "    <tr style=\"text-align: right;\">\n",
       "      <th></th>\n",
       "      <th>emotion</th>\n",
       "      <th>conversation_id</th>\n",
       "      <th>article_id</th>\n",
       "      <th>empathy</th>\n",
       "      <th>distress</th>\n",
       "      <th>gender</th>\n",
       "      <th>education</th>\n",
       "      <th>race</th>\n",
       "      <th>age</th>\n",
       "      <th>income</th>\n",
       "      <th>...</th>\n",
       "      <th>fasttext_290</th>\n",
       "      <th>fasttext_291</th>\n",
       "      <th>fasttext_292</th>\n",
       "      <th>fasttext_293</th>\n",
       "      <th>fasttext_294</th>\n",
       "      <th>fasttext_295</th>\n",
       "      <th>fasttext_296</th>\n",
       "      <th>fasttext_297</th>\n",
       "      <th>fasttext_298</th>\n",
       "      <th>fasttext_299</th>\n",
       "    </tr>\n",
       "  </thead>\n",
       "  <tbody>\n",
       "    <tr>\n",
       "      <th>0</th>\n",
       "      <td>20</td>\n",
       "      <td>2</td>\n",
       "      <td>35</td>\n",
       "      <td>6.714286</td>\n",
       "      <td>6.714286</td>\n",
       "      <td>1.0</td>\n",
       "      <td>6.0</td>\n",
       "      <td>3.0</td>\n",
       "      <td>37.0</td>\n",
       "      <td>40000.0</td>\n",
       "      <td>...</td>\n",
       "      <td>0.031908</td>\n",
       "      <td>0.008618</td>\n",
       "      <td>-0.084222</td>\n",
       "      <td>0.009917</td>\n",
       "      <td>-0.015905</td>\n",
       "      <td>0.013034</td>\n",
       "      <td>0.009217</td>\n",
       "      <td>0.101176</td>\n",
       "      <td>-0.013040</td>\n",
       "      <td>0.002871</td>\n",
       "    </tr>\n",
       "    <tr>\n",
       "      <th>1</th>\n",
       "      <td>0</td>\n",
       "      <td>3</td>\n",
       "      <td>35</td>\n",
       "      <td>5.857143</td>\n",
       "      <td>6.000000</td>\n",
       "      <td>1.0</td>\n",
       "      <td>6.0</td>\n",
       "      <td>2.0</td>\n",
       "      <td>32.0</td>\n",
       "      <td>35000.0</td>\n",
       "      <td>...</td>\n",
       "      <td>0.036240</td>\n",
       "      <td>0.009713</td>\n",
       "      <td>-0.074727</td>\n",
       "      <td>-0.008554</td>\n",
       "      <td>-0.012608</td>\n",
       "      <td>0.013154</td>\n",
       "      <td>0.003391</td>\n",
       "      <td>0.072847</td>\n",
       "      <td>-0.003598</td>\n",
       "      <td>-0.001064</td>\n",
       "    </tr>\n",
       "    <tr>\n",
       "      <th>2</th>\n",
       "      <td>27</td>\n",
       "      <td>5</td>\n",
       "      <td>35</td>\n",
       "      <td>1.000000</td>\n",
       "      <td>1.428571</td>\n",
       "      <td>1.0</td>\n",
       "      <td>6.0</td>\n",
       "      <td>1.0</td>\n",
       "      <td>29.0</td>\n",
       "      <td>85000.0</td>\n",
       "      <td>...</td>\n",
       "      <td>0.029181</td>\n",
       "      <td>0.004013</td>\n",
       "      <td>-0.071510</td>\n",
       "      <td>-0.003602</td>\n",
       "      <td>-0.014522</td>\n",
       "      <td>0.005235</td>\n",
       "      <td>-0.002368</td>\n",
       "      <td>0.090139</td>\n",
       "      <td>-0.004795</td>\n",
       "      <td>0.012187</td>\n",
       "    </tr>\n",
       "    <tr>\n",
       "      <th>3</th>\n",
       "      <td>27</td>\n",
       "      <td>6</td>\n",
       "      <td>213</td>\n",
       "      <td>6.000000</td>\n",
       "      <td>6.857143</td>\n",
       "      <td>2.0</td>\n",
       "      <td>5.0</td>\n",
       "      <td>1.0</td>\n",
       "      <td>28.0</td>\n",
       "      <td>50000.0</td>\n",
       "      <td>...</td>\n",
       "      <td>0.033555</td>\n",
       "      <td>0.014324</td>\n",
       "      <td>-0.072501</td>\n",
       "      <td>0.023933</td>\n",
       "      <td>-0.021073</td>\n",
       "      <td>0.010637</td>\n",
       "      <td>-0.005696</td>\n",
       "      <td>0.088332</td>\n",
       "      <td>-0.022485</td>\n",
       "      <td>0.023060</td>\n",
       "    </tr>\n",
       "    <tr>\n",
       "      <th>4</th>\n",
       "      <td>24</td>\n",
       "      <td>8</td>\n",
       "      <td>213</td>\n",
       "      <td>6.000000</td>\n",
       "      <td>1.000000</td>\n",
       "      <td>1.0</td>\n",
       "      <td>6.0</td>\n",
       "      <td>3.0</td>\n",
       "      <td>37.0</td>\n",
       "      <td>40000.0</td>\n",
       "      <td>...</td>\n",
       "      <td>0.028484</td>\n",
       "      <td>-0.005003</td>\n",
       "      <td>-0.073540</td>\n",
       "      <td>0.002448</td>\n",
       "      <td>-0.019296</td>\n",
       "      <td>0.008079</td>\n",
       "      <td>0.011888</td>\n",
       "      <td>0.088122</td>\n",
       "      <td>-0.007650</td>\n",
       "      <td>-0.003173</td>\n",
       "    </tr>\n",
       "    <tr>\n",
       "      <th>...</th>\n",
       "      <td>...</td>\n",
       "      <td>...</td>\n",
       "      <td>...</td>\n",
       "      <td>...</td>\n",
       "      <td>...</td>\n",
       "      <td>...</td>\n",
       "      <td>...</td>\n",
       "      <td>...</td>\n",
       "      <td>...</td>\n",
       "      <td>...</td>\n",
       "      <td>...</td>\n",
       "      <td>...</td>\n",
       "      <td>...</td>\n",
       "      <td>...</td>\n",
       "      <td>...</td>\n",
       "      <td>...</td>\n",
       "      <td>...</td>\n",
       "      <td>...</td>\n",
       "      <td>...</td>\n",
       "      <td>...</td>\n",
       "      <td>...</td>\n",
       "    </tr>\n",
       "    <tr>\n",
       "      <th>787</th>\n",
       "      <td>24</td>\n",
       "      <td>495</td>\n",
       "      <td>218</td>\n",
       "      <td>6.571429</td>\n",
       "      <td>6.714286</td>\n",
       "      <td>1.0</td>\n",
       "      <td>6.0</td>\n",
       "      <td>3.0</td>\n",
       "      <td>37.0</td>\n",
       "      <td>40000.0</td>\n",
       "      <td>...</td>\n",
       "      <td>0.016001</td>\n",
       "      <td>-0.012279</td>\n",
       "      <td>-0.068207</td>\n",
       "      <td>0.004699</td>\n",
       "      <td>-0.006312</td>\n",
       "      <td>-0.000172</td>\n",
       "      <td>0.004574</td>\n",
       "      <td>0.092242</td>\n",
       "      <td>-0.002821</td>\n",
       "      <td>0.023676</td>\n",
       "    </tr>\n",
       "    <tr>\n",
       "      <th>788</th>\n",
       "      <td>24</td>\n",
       "      <td>496</td>\n",
       "      <td>103</td>\n",
       "      <td>3.571429</td>\n",
       "      <td>6.428571</td>\n",
       "      <td>2.0</td>\n",
       "      <td>5.0</td>\n",
       "      <td>1.0</td>\n",
       "      <td>28.0</td>\n",
       "      <td>50000.0</td>\n",
       "      <td>...</td>\n",
       "      <td>0.044965</td>\n",
       "      <td>0.000671</td>\n",
       "      <td>-0.071815</td>\n",
       "      <td>0.007341</td>\n",
       "      <td>-0.009898</td>\n",
       "      <td>0.017540</td>\n",
       "      <td>0.007518</td>\n",
       "      <td>0.066064</td>\n",
       "      <td>-0.006650</td>\n",
       "      <td>0.003420</td>\n",
       "    </tr>\n",
       "    <tr>\n",
       "      <th>789</th>\n",
       "      <td>24</td>\n",
       "      <td>498</td>\n",
       "      <td>103</td>\n",
       "      <td>5.428571</td>\n",
       "      <td>2.000000</td>\n",
       "      <td>2.0</td>\n",
       "      <td>6.0</td>\n",
       "      <td>1.0</td>\n",
       "      <td>33.0</td>\n",
       "      <td>110000.0</td>\n",
       "      <td>...</td>\n",
       "      <td>0.016542</td>\n",
       "      <td>0.000684</td>\n",
       "      <td>-0.024153</td>\n",
       "      <td>0.012848</td>\n",
       "      <td>-0.005384</td>\n",
       "      <td>-0.005280</td>\n",
       "      <td>-0.023967</td>\n",
       "      <td>0.063515</td>\n",
       "      <td>0.011698</td>\n",
       "      <td>-0.004720</td>\n",
       "    </tr>\n",
       "    <tr>\n",
       "      <th>790</th>\n",
       "      <td>14</td>\n",
       "      <td>499</td>\n",
       "      <td>103</td>\n",
       "      <td>6.000000</td>\n",
       "      <td>6.000000</td>\n",
       "      <td>2.0</td>\n",
       "      <td>3.0</td>\n",
       "      <td>1.0</td>\n",
       "      <td>27.0</td>\n",
       "      <td>25000.0</td>\n",
       "      <td>...</td>\n",
       "      <td>0.038192</td>\n",
       "      <td>-0.000660</td>\n",
       "      <td>-0.081046</td>\n",
       "      <td>-0.002569</td>\n",
       "      <td>-0.011361</td>\n",
       "      <td>0.006441</td>\n",
       "      <td>0.008258</td>\n",
       "      <td>0.089426</td>\n",
       "      <td>-0.011913</td>\n",
       "      <td>0.003074</td>\n",
       "    </tr>\n",
       "    <tr>\n",
       "      <th>791</th>\n",
       "      <td>27</td>\n",
       "      <td>500</td>\n",
       "      <td>103</td>\n",
       "      <td>1.428571</td>\n",
       "      <td>5.428571</td>\n",
       "      <td>1.0</td>\n",
       "      <td>6.0</td>\n",
       "      <td>3.0</td>\n",
       "      <td>37.0</td>\n",
       "      <td>40000.0</td>\n",
       "      <td>...</td>\n",
       "      <td>0.025557</td>\n",
       "      <td>-0.012720</td>\n",
       "      <td>-0.076780</td>\n",
       "      <td>0.003712</td>\n",
       "      <td>-0.005916</td>\n",
       "      <td>0.011752</td>\n",
       "      <td>0.003682</td>\n",
       "      <td>0.068625</td>\n",
       "      <td>-0.005581</td>\n",
       "      <td>0.012416</td>\n",
       "    </tr>\n",
       "  </tbody>\n",
       "</table>\n",
       "<p>779 rows × 320 columns</p>\n",
       "</div>"
      ],
      "text/plain": [
       "     emotion  conversation_id  article_id   empathy  distress  gender  \\\n",
       "0         20                2          35  6.714286  6.714286     1.0   \n",
       "1          0                3          35  5.857143  6.000000     1.0   \n",
       "2         27                5          35  1.000000  1.428571     1.0   \n",
       "3         27                6         213  6.000000  6.857143     2.0   \n",
       "4         24                8         213  6.000000  1.000000     1.0   \n",
       "..       ...              ...         ...       ...       ...     ...   \n",
       "787       24              495         218  6.571429  6.714286     1.0   \n",
       "788       24              496         103  3.571429  6.428571     2.0   \n",
       "789       24              498         103  5.428571  2.000000     2.0   \n",
       "790       14              499         103  6.000000  6.000000     2.0   \n",
       "791       27              500         103  1.428571  5.428571     1.0   \n",
       "\n",
       "     education  race   age    income  ...  fasttext_290  fasttext_291  \\\n",
       "0          6.0   3.0  37.0   40000.0  ...      0.031908      0.008618   \n",
       "1          6.0   2.0  32.0   35000.0  ...      0.036240      0.009713   \n",
       "2          6.0   1.0  29.0   85000.0  ...      0.029181      0.004013   \n",
       "3          5.0   1.0  28.0   50000.0  ...      0.033555      0.014324   \n",
       "4          6.0   3.0  37.0   40000.0  ...      0.028484     -0.005003   \n",
       "..         ...   ...   ...       ...  ...           ...           ...   \n",
       "787        6.0   3.0  37.0   40000.0  ...      0.016001     -0.012279   \n",
       "788        5.0   1.0  28.0   50000.0  ...      0.044965      0.000671   \n",
       "789        6.0   1.0  33.0  110000.0  ...      0.016542      0.000684   \n",
       "790        3.0   1.0  27.0   25000.0  ...      0.038192     -0.000660   \n",
       "791        6.0   3.0  37.0   40000.0  ...      0.025557     -0.012720   \n",
       "\n",
       "     fasttext_292  fasttext_293  fasttext_294  fasttext_295  fasttext_296  \\\n",
       "0       -0.084222      0.009917     -0.015905      0.013034      0.009217   \n",
       "1       -0.074727     -0.008554     -0.012608      0.013154      0.003391   \n",
       "2       -0.071510     -0.003602     -0.014522      0.005235     -0.002368   \n",
       "3       -0.072501      0.023933     -0.021073      0.010637     -0.005696   \n",
       "4       -0.073540      0.002448     -0.019296      0.008079      0.011888   \n",
       "..            ...           ...           ...           ...           ...   \n",
       "787     -0.068207      0.004699     -0.006312     -0.000172      0.004574   \n",
       "788     -0.071815      0.007341     -0.009898      0.017540      0.007518   \n",
       "789     -0.024153      0.012848     -0.005384     -0.005280     -0.023967   \n",
       "790     -0.081046     -0.002569     -0.011361      0.006441      0.008258   \n",
       "791     -0.076780      0.003712     -0.005916      0.011752      0.003682   \n",
       "\n",
       "     fasttext_297  fasttext_298  fasttext_299  \n",
       "0        0.101176     -0.013040      0.002871  \n",
       "1        0.072847     -0.003598     -0.001064  \n",
       "2        0.090139     -0.004795      0.012187  \n",
       "3        0.088332     -0.022485      0.023060  \n",
       "4        0.088122     -0.007650     -0.003173  \n",
       "..            ...           ...           ...  \n",
       "787      0.092242     -0.002821      0.023676  \n",
       "788      0.066064     -0.006650      0.003420  \n",
       "789      0.063515      0.011698     -0.004720  \n",
       "790      0.089426     -0.011913      0.003074  \n",
       "791      0.068625     -0.005581      0.012416  \n",
       "\n",
       "[779 rows x 320 columns]"
      ]
     },
     "execution_count": 25,
     "metadata": {},
     "output_type": "execute_result"
    }
   ],
   "source": [
    "empathy_fasttext"
   ]
  },
  {
   "cell_type": "code",
   "execution_count": 26,
   "metadata": {},
   "outputs": [],
   "source": [
    "empathy_fasttext.to_csv('./empathy_fasttext.csv')"
   ]
  }
 ],
 "metadata": {
  "kernelspec": {
   "display_name": "empathy",
   "language": "python",
   "name": "python3"
  },
  "language_info": {
   "codemirror_mode": {
    "name": "ipython",
    "version": 3
   },
   "file_extension": ".py",
   "mimetype": "text/x-python",
   "name": "python",
   "nbconvert_exporter": "python",
   "pygments_lexer": "ipython3",
   "version": "3.10.9"
  },
  "orig_nbformat": 4
 },
 "nbformat": 4,
 "nbformat_minor": 2
}
