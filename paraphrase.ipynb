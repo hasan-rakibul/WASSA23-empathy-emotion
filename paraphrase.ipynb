{
 "cells": [
  {
   "cell_type": "code",
   "execution_count": 1,
   "id": "9037bc5e-4439-4eb3-9c5c-a046a15b7034",
   "metadata": {},
   "outputs": [],
   "source": [
    "import pandas as pd\n",
    "import os\n",
    "from parrot import Parrot\n",
    "import torch\n",
    "from transformers import AutoTokenizer, AutoModelForSeq2SeqLM"
   ]
  },
  {
   "cell_type": "code",
   "execution_count": 2,
   "id": "c9824df4-7822-4cf4-bbe2-7968806746e3",
   "metadata": {},
   "outputs": [],
   "source": [
    "os.chdir(\"/home/573/rh2942/WASSA-2023-EMP\")"
   ]
  },
  {
   "cell_type": "code",
   "execution_count": 3,
   "id": "c491f1f4-63e6-4c50-b2e8-ef7d07d86e8d",
   "metadata": {},
   "outputs": [],
   "source": [
    "train_dev = pd.read_csv(\"./processed_data/preprocessed_train_dev.csv\", index_col=0)"
   ]
  },
  {
   "cell_type": "code",
   "execution_count": 4,
   "id": "bbfc3ff8-bf92-40e5-8061-3b49a3475800",
   "metadata": {},
   "outputs": [
    {
     "data": {
      "text/plain": [
       "Index(['conversation_id', 'article_id', 'essay', 'speaker_id', 'gender',\n",
       "       'education', 'race', 'age', 'income', 'speaker_number', 'split',\n",
       "       'essay_id', 'empathy', 'distress', 'emotion',\n",
       "       'personality_conscientiousness', 'personality_openess',\n",
       "       'personality_extraversion', 'personality_agreeableness',\n",
       "       'personality_stability', 'iri_perspective_taking',\n",
       "       'iri_personal_distress', 'iri_fantasy', 'iri_empathatic_concern',\n",
       "       'article', 'article_id_text', 'demographic', 'demographic_essay'],\n",
       "      dtype='object')"
      ]
     },
     "execution_count": 4,
     "metadata": {},
     "output_type": "execute_result"
    }
   ],
   "source": [
    "train_dev.columns"
   ]
  },
  {
   "cell_type": "code",
   "execution_count": 5,
   "id": "5d5eaa3b-b91c-4cb0-99e5-a0b3f4476601",
   "metadata": {},
   "outputs": [],
   "source": [
    "# keeping chosen columns only\n",
    "train_dev = train_dev[['essay', 'empathy', 'distress', 'emotion',\n",
    "       'personality_conscientiousness', 'personality_openess',\n",
    "       'personality_extraversion', 'personality_agreeableness',\n",
    "       'personality_stability', 'iri_perspective_taking',\n",
    "       'iri_personal_distress', 'iri_fantasy', 'iri_empathatic_concern', 'article', 'demographic', 'demographic_essay']]"
   ]
  },
  {
   "cell_type": "code",
   "execution_count": 6,
   "id": "928cfffe-540c-4dd2-bce8-3d13afd986f9",
   "metadata": {},
   "outputs": [
    {
     "data": {
      "text/html": [
       "<div>\n",
       "<style scoped>\n",
       "    .dataframe tbody tr th:only-of-type {\n",
       "        vertical-align: middle;\n",
       "    }\n",
       "\n",
       "    .dataframe tbody tr th {\n",
       "        vertical-align: top;\n",
       "    }\n",
       "\n",
       "    .dataframe thead th {\n",
       "        text-align: right;\n",
       "    }\n",
       "</style>\n",
       "<table border=\"1\" class=\"dataframe\">\n",
       "  <thead>\n",
       "    <tr style=\"text-align: right;\">\n",
       "      <th></th>\n",
       "      <th>essay</th>\n",
       "      <th>empathy</th>\n",
       "      <th>distress</th>\n",
       "      <th>emotion</th>\n",
       "      <th>personality_conscientiousness</th>\n",
       "      <th>personality_openess</th>\n",
       "      <th>personality_extraversion</th>\n",
       "      <th>personality_agreeableness</th>\n",
       "      <th>personality_stability</th>\n",
       "      <th>iri_perspective_taking</th>\n",
       "      <th>iri_personal_distress</th>\n",
       "      <th>iri_fantasy</th>\n",
       "      <th>iri_empathatic_concern</th>\n",
       "      <th>article</th>\n",
       "      <th>demographic</th>\n",
       "      <th>demographic_essay</th>\n",
       "    </tr>\n",
       "  </thead>\n",
       "  <tbody>\n",
       "    <tr>\n",
       "      <th>642</th>\n",
       "      <td>After reading the article, i can't help but fe...</td>\n",
       "      <td>1.000000</td>\n",
       "      <td>1.625</td>\n",
       "      <td>Sadness</td>\n",
       "      <td>6.75</td>\n",
       "      <td>6.75</td>\n",
       "      <td>6.75</td>\n",
       "      <td>6.75</td>\n",
       "      <td>7.0</td>\n",
       "      <td>4.643</td>\n",
       "      <td>2.0715</td>\n",
       "      <td>4.143</td>\n",
       "      <td>4.643</td>\n",
       "      <td>Celebrity jeweler's surrogate son, second man ...</td>\n",
       "      <td>I am male. My age is 29.0 years. My education ...</td>\n",
       "      <td>I am male. My age is 29.0 years. My education ...</td>\n",
       "    </tr>\n",
       "    <tr>\n",
       "      <th>768</th>\n",
       "      <td>I just read a story about an apparent murder s...</td>\n",
       "      <td>4.166667</td>\n",
       "      <td>1.250</td>\n",
       "      <td>Neutral</td>\n",
       "      <td>6.00</td>\n",
       "      <td>6.50</td>\n",
       "      <td>1.00</td>\n",
       "      <td>6.00</td>\n",
       "      <td>5.5</td>\n",
       "      <td>5.000</td>\n",
       "      <td>2.2860</td>\n",
       "      <td>3.286</td>\n",
       "      <td>4.143</td>\n",
       "      <td>Wife Who Died Alongside Husband, Children in M...</td>\n",
       "      <td>I am male. My age is 29.0 years. My education ...</td>\n",
       "      <td>I am male. My age is 29.0 years. My education ...</td>\n",
       "    </tr>\n",
       "  </tbody>\n",
       "</table>\n",
       "</div>"
      ],
      "text/plain": [
       "                                                 essay   empathy  distress  \\\n",
       "642  After reading the article, i can't help but fe...  1.000000     1.625   \n",
       "768  I just read a story about an apparent murder s...  4.166667     1.250   \n",
       "\n",
       "     emotion  personality_conscientiousness  personality_openess  \\\n",
       "642  Sadness                           6.75                 6.75   \n",
       "768  Neutral                           6.00                 6.50   \n",
       "\n",
       "     personality_extraversion  personality_agreeableness  \\\n",
       "642                      6.75                       6.75   \n",
       "768                      1.00                       6.00   \n",
       "\n",
       "     personality_stability  iri_perspective_taking  iri_personal_distress  \\\n",
       "642                    7.0                   4.643                 2.0715   \n",
       "768                    5.5                   5.000                 2.2860   \n",
       "\n",
       "     iri_fantasy  iri_empathatic_concern  \\\n",
       "642        4.143                   4.643   \n",
       "768        3.286                   4.143   \n",
       "\n",
       "                                               article  \\\n",
       "642  Celebrity jeweler's surrogate son, second man ...   \n",
       "768  Wife Who Died Alongside Husband, Children in M...   \n",
       "\n",
       "                                           demographic  \\\n",
       "642  I am male. My age is 29.0 years. My education ...   \n",
       "768  I am male. My age is 29.0 years. My education ...   \n",
       "\n",
       "                                     demographic_essay  \n",
       "642  I am male. My age is 29.0 years. My education ...  \n",
       "768  I am male. My age is 29.0 years. My education ...  "
      ]
     },
     "execution_count": 6,
     "metadata": {},
     "output_type": "execute_result"
    }
   ],
   "source": [
    "train_dev.sample(2)"
   ]
  },
  {
   "cell_type": "markdown",
   "id": "61c5e5fe-75f4-4ff9-ab4c-3d0aa666a077",
   "metadata": {},
   "source": [
    "# Replacing long article by its summary"
   ]
  },
  {
   "cell_type": "code",
   "execution_count": 1,
   "id": "750e1bad-8ee1-4fa0-9bce-b007ee0e9910",
   "metadata": {},
   "outputs": [],
   "source": [
    "import transformers as trf"
   ]
  },
  {
   "cell_type": "code",
   "execution_count": 81,
   "id": "3af809a9-71c0-4fa4-902d-cc310c8850a3",
   "metadata": {},
   "outputs": [],
   "source": [
    "checkpoint = \"philschmid/flan-t5-base-samsum\"\n",
    "tokeniser = trf.AutoTokenizer.from_pretrained(checkpoint, model_max_length=25000) #25K because article text has maximum ~21K characters\n",
    "\n",
    "summariser = trf.pipeline(task=\"summarization\", model=checkpoint, tokenizer=tokeniser, device=\"cuda:0\")"
   ]
  },
  {
   "cell_type": "code",
   "execution_count": null,
   "id": "d1ec1685-634e-40a8-bd57-f55fbb804aae",
   "metadata": {},
   "outputs": [],
   "source": [
    "for index, _ in train_dev.iterrows():\n",
    "    train_dev.loc[index, \"article\"] = summariser(train_dev.loc[index, \"article\"])[0][\"summary_text\"] # 0-index to take the one and only first paraphrased item"
   ]
  },
  {
   "cell_type": "markdown",
   "id": "009798bf-8ed4-457d-ad1d-1db4f5ed3f38",
   "metadata": {},
   "source": [
    "# Paraphrase"
   ]
  },
  {
   "cell_type": "code",
   "execution_count": 95,
   "id": "6bcde2f2-cc40-495c-8ad3-c0cd53b51494",
   "metadata": {},
   "outputs": [],
   "source": [
    "paraphrased = train_dev.copy()"
   ]
  },
  {
   "cell_type": "code",
   "execution_count": 96,
   "id": "6520559e-f8d9-444f-81f2-d84891315ddf",
   "metadata": {},
   "outputs": [
    {
     "data": {
      "text/html": [
       "<div>\n",
       "<style scoped>\n",
       "    .dataframe tbody tr th:only-of-type {\n",
       "        vertical-align: middle;\n",
       "    }\n",
       "\n",
       "    .dataframe tbody tr th {\n",
       "        vertical-align: top;\n",
       "    }\n",
       "\n",
       "    .dataframe thead th {\n",
       "        text-align: right;\n",
       "    }\n",
       "</style>\n",
       "<table border=\"1\" class=\"dataframe\">\n",
       "  <thead>\n",
       "    <tr style=\"text-align: right;\">\n",
       "      <th></th>\n",
       "      <th>essay</th>\n",
       "      <th>empathy</th>\n",
       "      <th>distress</th>\n",
       "      <th>emotion</th>\n",
       "      <th>personality_conscientiousness</th>\n",
       "      <th>personality_openess</th>\n",
       "      <th>personality_extraversion</th>\n",
       "      <th>personality_agreeableness</th>\n",
       "      <th>personality_stability</th>\n",
       "      <th>iri_perspective_taking</th>\n",
       "      <th>iri_personal_distress</th>\n",
       "      <th>iri_fantasy</th>\n",
       "      <th>iri_empathatic_concern</th>\n",
       "      <th>article</th>\n",
       "      <th>demographic</th>\n",
       "      <th>demographic_essay</th>\n",
       "    </tr>\n",
       "  </thead>\n",
       "  <tbody>\n",
       "    <tr>\n",
       "      <th>145</th>\n",
       "      <td>I'm mostly bothered by this story because of h...</td>\n",
       "      <td>1.5</td>\n",
       "      <td>3.50</td>\n",
       "      <td>Disgust/Sadness</td>\n",
       "      <td>2.5</td>\n",
       "      <td>2.0</td>\n",
       "      <td>1.5</td>\n",
       "      <td>2.0</td>\n",
       "      <td>1.0</td>\n",
       "      <td>3.286</td>\n",
       "      <td>4.429</td>\n",
       "      <td>2.714</td>\n",
       "      <td>2.571</td>\n",
       "      <td>The Sungai Putri, meaning River of the Princes...</td>\n",
       "      <td>I am male. My age is 41.0 years. My education ...</td>\n",
       "      <td>I am male. My age is 41.0 years. My education ...</td>\n",
       "    </tr>\n",
       "    <tr>\n",
       "      <th>801</th>\n",
       "      <td>So I just read an article about how a father a...</td>\n",
       "      <td>5.0</td>\n",
       "      <td>4.75</td>\n",
       "      <td>Anger</td>\n",
       "      <td>6.0</td>\n",
       "      <td>6.0</td>\n",
       "      <td>5.5</td>\n",
       "      <td>6.5</td>\n",
       "      <td>3.0</td>\n",
       "      <td>4.857</td>\n",
       "      <td>3.143</td>\n",
       "      <td>2.571</td>\n",
       "      <td>4.857</td>\n",
       "      <td>A father and son have died after falling off a...</td>\n",
       "      <td>I am male. My age is 25.0 years. My education ...</td>\n",
       "      <td>I am male. My age is 25.0 years. My education ...</td>\n",
       "    </tr>\n",
       "  </tbody>\n",
       "</table>\n",
       "</div>"
      ],
      "text/plain": [
       "                                                 essay  empathy  distress  \\\n",
       "145  I'm mostly bothered by this story because of h...      1.5      3.50   \n",
       "801  So I just read an article about how a father a...      5.0      4.75   \n",
       "\n",
       "             emotion  personality_conscientiousness  personality_openess  \\\n",
       "145  Disgust/Sadness                            2.5                  2.0   \n",
       "801            Anger                            6.0                  6.0   \n",
       "\n",
       "     personality_extraversion  personality_agreeableness  \\\n",
       "145                       1.5                        2.0   \n",
       "801                       5.5                        6.5   \n",
       "\n",
       "     personality_stability  iri_perspective_taking  iri_personal_distress  \\\n",
       "145                    1.0                   3.286                  4.429   \n",
       "801                    3.0                   4.857                  3.143   \n",
       "\n",
       "     iri_fantasy  iri_empathatic_concern  \\\n",
       "145        2.714                   2.571   \n",
       "801        2.571                   4.857   \n",
       "\n",
       "                                               article  \\\n",
       "145  The Sungai Putri, meaning River of the Princes...   \n",
       "801  A father and son have died after falling off a...   \n",
       "\n",
       "                                           demographic  \\\n",
       "145  I am male. My age is 41.0 years. My education ...   \n",
       "801  I am male. My age is 25.0 years. My education ...   \n",
       "\n",
       "                                     demographic_essay  \n",
       "145  I am male. My age is 41.0 years. My education ...  \n",
       "801  I am male. My age is 25.0 years. My education ...  "
      ]
     },
     "execution_count": 96,
     "metadata": {},
     "output_type": "execute_result"
    }
   ],
   "source": [
    "paraphrased.sample(2)"
   ]
  },
  {
   "cell_type": "code",
   "execution_count": 97,
   "id": "00a1f24a-2c49-4363-85d0-4fbefdcd9186",
   "metadata": {},
   "outputs": [],
   "source": [
    "device = torch.device(\"cuda\") if torch.cuda.is_available() else torch.device(\"cpu\")\n",
    "tokenizer = AutoTokenizer.from_pretrained(\"humarin/chatgpt_paraphraser_on_T5_base\")\n",
    "model = AutoModelForSeq2SeqLM.from_pretrained(\"humarin/chatgpt_paraphraser_on_T5_base\").to(device)"
   ]
  },
  {
   "cell_type": "code",
   "execution_count": 98,
   "id": "623edfa3-ff4d-47bd-b2fb-2c072216ee46",
   "metadata": {},
   "outputs": [],
   "source": [
    "def paraphrase(\n",
    "    question,\n",
    "    num_beams=5,\n",
    "    num_beam_groups=5,\n",
    "    num_return_sequences=1,\n",
    "    repetition_penalty=10.0,\n",
    "    diversity_penalty=3.0,\n",
    "    no_repeat_ngram_size=2,\n",
    "    temperature=0.7\n",
    "):\n",
    "    max_length=len(question) #length of existing sentence is the limit\n",
    "    input_ids = tokenizer(\n",
    "        f'paraphrase: {question}',\n",
    "        return_tensors=\"pt\", padding=\"longest\",\n",
    "        max_length=max_length,\n",
    "        truncation=True,\n",
    "    ).input_ids\n",
    "    \n",
    "    outputs = model.generate(\n",
    "        input_ids.to(device), temperature=temperature, repetition_penalty=repetition_penalty,\n",
    "        num_return_sequences=num_return_sequences, no_repeat_ngram_size=no_repeat_ngram_size,\n",
    "        num_beams=num_beams, num_beam_groups=num_beam_groups,\n",
    "        max_length=max_length, diversity_penalty=diversity_penalty\n",
    "    )\n",
    "\n",
    "    res = tokenizer.batch_decode(outputs, skip_special_tokens=True)\n",
    "\n",
    "    return res"
   ]
  },
  {
   "cell_type": "code",
   "execution_count": 99,
   "id": "3104b05e-4d19-4aa5-a41c-a379459c071b",
   "metadata": {},
   "outputs": [
    {
     "name": "stderr",
     "output_type": "stream",
     "text": [
      "/scratch/jr19/rh2942/miniconda3/lib/python3.10/site-packages/transformers/generation_beam_search.py:198: UserWarning: Passing `max_length` to BeamSearchScorer is deprecated and has no effect. `max_length` should be passed directly to `beam_search(...)`, `beam_sample(...)`, or `group_beam_search(...)`.\n",
      "  warnings.warn(\n"
     ]
    }
   ],
   "source": [
    "for index, row in paraphrased.iterrows():\n",
    "    paraphrased.loc[index, \"demographic\"] = paraphrase(paraphrased.loc[index, \"demographic\"])[0] # 0-index to take the one and only first paraphrased item\n",
    "    paraphrased.loc[index, \"essay\"] = paraphrase(paraphrased.loc[index, \"essay\"])[0]\n",
    "    paraphrased.loc[index, \"article\"] = paraphrase(paraphrased.loc[index, \"article\"])[0]"
   ]
  },
  {
   "cell_type": "code",
   "execution_count": 100,
   "id": "677c36bc-fb1a-4b01-8218-0cc69ba8120b",
   "metadata": {},
   "outputs": [],
   "source": [
    "paraphrased[\"demographic_essay\"] = paraphrased[\"demographic\"] + paraphrased[\"essay\"]"
   ]
  },
  {
   "cell_type": "code",
   "execution_count": 101,
   "id": "6ff9240b-4392-45a8-a02f-4649fc098bd2",
   "metadata": {},
   "outputs": [
    {
     "data": {
      "text/html": [
       "<div>\n",
       "<style scoped>\n",
       "    .dataframe tbody tr th:only-of-type {\n",
       "        vertical-align: middle;\n",
       "    }\n",
       "\n",
       "    .dataframe tbody tr th {\n",
       "        vertical-align: top;\n",
       "    }\n",
       "\n",
       "    .dataframe thead th {\n",
       "        text-align: right;\n",
       "    }\n",
       "</style>\n",
       "<table border=\"1\" class=\"dataframe\">\n",
       "  <thead>\n",
       "    <tr style=\"text-align: right;\">\n",
       "      <th></th>\n",
       "      <th>essay</th>\n",
       "      <th>empathy</th>\n",
       "      <th>distress</th>\n",
       "      <th>emotion</th>\n",
       "      <th>personality_conscientiousness</th>\n",
       "      <th>personality_openess</th>\n",
       "      <th>personality_extraversion</th>\n",
       "      <th>personality_agreeableness</th>\n",
       "      <th>personality_stability</th>\n",
       "      <th>iri_perspective_taking</th>\n",
       "      <th>iri_personal_distress</th>\n",
       "      <th>iri_fantasy</th>\n",
       "      <th>iri_empathatic_concern</th>\n",
       "      <th>article</th>\n",
       "      <th>demographic</th>\n",
       "      <th>demographic_essay</th>\n",
       "    </tr>\n",
       "  </thead>\n",
       "  <tbody>\n",
       "    <tr>\n",
       "      <th>0</th>\n",
       "      <td>I am filled with sadness seeing people living ...</td>\n",
       "      <td>6.833333</td>\n",
       "      <td>6.625</td>\n",
       "      <td>Hope/Sadness</td>\n",
       "      <td>7.00</td>\n",
       "      <td>5.50</td>\n",
       "      <td>1.00</td>\n",
       "      <td>6.50</td>\n",
       "      <td>6.0</td>\n",
       "      <td>4.857</td>\n",
       "      <td>2.0000</td>\n",
       "      <td>3.429</td>\n",
       "      <td>5.000</td>\n",
       "      <td>The absence of food in the mountains is causin...</td>\n",
       "      <td>My profile details a black or African-American...</td>\n",
       "      <td>My profile details a black or African-American...</td>\n",
       "    </tr>\n",
       "    <tr>\n",
       "      <th>1</th>\n",
       "      <td>Why isn't there more effort to assist the peop...</td>\n",
       "      <td>5.833333</td>\n",
       "      <td>6.000</td>\n",
       "      <td>Anger</td>\n",
       "      <td>5.50</td>\n",
       "      <td>5.00</td>\n",
       "      <td>2.00</td>\n",
       "      <td>5.50</td>\n",
       "      <td>4.5</td>\n",
       "      <td>3.429</td>\n",
       "      <td>2.8570</td>\n",
       "      <td>2.857</td>\n",
       "      <td>2.714</td>\n",
       "      <td>The absence of food in the mountains is causin...</td>\n",
       "      <td>I am a male with an age of 32.0 years, accompa...</td>\n",
       "      <td>I am a male with an age of 32.0 years, accompa...</td>\n",
       "    </tr>\n",
       "    <tr>\n",
       "      <th>2</th>\n",
       "      <td>After reading the article, I am filled with sa...</td>\n",
       "      <td>1.000000</td>\n",
       "      <td>1.375</td>\n",
       "      <td>Sadness</td>\n",
       "      <td>6.75</td>\n",
       "      <td>6.75</td>\n",
       "      <td>6.75</td>\n",
       "      <td>6.75</td>\n",
       "      <td>7.0</td>\n",
       "      <td>4.643</td>\n",
       "      <td>2.0715</td>\n",
       "      <td>4.143</td>\n",
       "      <td>4.643</td>\n",
       "      <td>The absence of food in the mountains is causin...</td>\n",
       "      <td>I am a male with 290 years of age, four year b...</td>\n",
       "      <td>I am a male with 290 years of age, four year b...</td>\n",
       "    </tr>\n",
       "    <tr>\n",
       "      <th>3</th>\n",
       "      <td>Despite having an amazing story to tell, someo...</td>\n",
       "      <td>6.166667</td>\n",
       "      <td>6.625</td>\n",
       "      <td>Sadness</td>\n",
       "      <td>6.00</td>\n",
       "      <td>6.00</td>\n",
       "      <td>5.00</td>\n",
       "      <td>4.50</td>\n",
       "      <td>3.5</td>\n",
       "      <td>5.000</td>\n",
       "      <td>4.1430</td>\n",
       "      <td>4.857</td>\n",
       "      <td>5.000</td>\n",
       "      <td>The Miami Marlins pitcher, Jose Fernández, who...</td>\n",
       "      <td>I am a female, two-year associate degree, whit...</td>\n",
       "      <td>I am a female, two-year associate degree, whit...</td>\n",
       "    </tr>\n",
       "    <tr>\n",
       "      <th>4</th>\n",
       "      <td>It seems as though an all-around kind and gene...</td>\n",
       "      <td>6.833333</td>\n",
       "      <td>1.000</td>\n",
       "      <td>Neutral</td>\n",
       "      <td>7.00</td>\n",
       "      <td>5.50</td>\n",
       "      <td>1.00</td>\n",
       "      <td>6.50</td>\n",
       "      <td>6.0</td>\n",
       "      <td>4.857</td>\n",
       "      <td>2.0000</td>\n",
       "      <td>3.429</td>\n",
       "      <td>5.000</td>\n",
       "      <td>The Miami Marlins pitcher, Jose Fernández, who...</td>\n",
       "      <td>I am a male with an age of 37.0 years, four ye...</td>\n",
       "      <td>I am a male with an age of 37.0 years, four ye...</td>\n",
       "    </tr>\n",
       "    <tr>\n",
       "      <th>...</th>\n",
       "      <td>...</td>\n",
       "      <td>...</td>\n",
       "      <td>...</td>\n",
       "      <td>...</td>\n",
       "      <td>...</td>\n",
       "      <td>...</td>\n",
       "      <td>...</td>\n",
       "      <td>...</td>\n",
       "      <td>...</td>\n",
       "      <td>...</td>\n",
       "      <td>...</td>\n",
       "      <td>...</td>\n",
       "      <td>...</td>\n",
       "      <td>...</td>\n",
       "      <td>...</td>\n",
       "      <td>...</td>\n",
       "    </tr>\n",
       "    <tr>\n",
       "      <th>982</th>\n",
       "      <td>I'm feeling apprehensive about the individuals...</td>\n",
       "      <td>1.000000</td>\n",
       "      <td>1.875</td>\n",
       "      <td>Fear/Sadness</td>\n",
       "      <td>6.75</td>\n",
       "      <td>6.75</td>\n",
       "      <td>6.75</td>\n",
       "      <td>6.75</td>\n",
       "      <td>7.0</td>\n",
       "      <td>4.643</td>\n",
       "      <td>2.0715</td>\n",
       "      <td>4.143</td>\n",
       "      <td>4.643</td>\n",
       "      <td>The Portugal-bound train that derailed in Spai...</td>\n",
       "      <td>My name is Male, I am 29.0 years old and I hav...</td>\n",
       "      <td>My name is Male, I am 29.0 years old and I hav...</td>\n",
       "    </tr>\n",
       "    <tr>\n",
       "      <th>983</th>\n",
       "      <td>Despite my best efforts to buy food with purpo...</td>\n",
       "      <td>3.500000</td>\n",
       "      <td>3.625</td>\n",
       "      <td>Sadness</td>\n",
       "      <td>5.00</td>\n",
       "      <td>3.00</td>\n",
       "      <td>5.00</td>\n",
       "      <td>4.00</td>\n",
       "      <td>3.5</td>\n",
       "      <td>2.714</td>\n",
       "      <td>3.0000</td>\n",
       "      <td>3.143</td>\n",
       "      <td>3.286</td>\n",
       "      <td>The paper published in Plos One highlights the...</td>\n",
       "      <td>As a female with XSW degrees and White skin, I...</td>\n",
       "      <td>As a female with XSW degrees and White skin, I...</td>\n",
       "    </tr>\n",
       "    <tr>\n",
       "      <th>984</th>\n",
       "      <td>I wish the article had provided more informati...</td>\n",
       "      <td>4.000000</td>\n",
       "      <td>4.375</td>\n",
       "      <td>Neutral</td>\n",
       "      <td>5.00</td>\n",
       "      <td>3.00</td>\n",
       "      <td>5.00</td>\n",
       "      <td>4.00</td>\n",
       "      <td>3.5</td>\n",
       "      <td>2.714</td>\n",
       "      <td>3.0000</td>\n",
       "      <td>3.143</td>\n",
       "      <td>3.286</td>\n",
       "      <td>The police have arrived at the Azusa location ...</td>\n",
       "      <td>My background is White, my age is 21.0 years, ...</td>\n",
       "      <td>My background is White, my age is 21.0 years, ...</td>\n",
       "    </tr>\n",
       "    <tr>\n",
       "      <th>985</th>\n",
       "      <td>This is a truly shocking story. I find it asto...</td>\n",
       "      <td>6.000000</td>\n",
       "      <td>6.000</td>\n",
       "      <td>Fear</td>\n",
       "      <td>6.00</td>\n",
       "      <td>6.00</td>\n",
       "      <td>6.00</td>\n",
       "      <td>6.00</td>\n",
       "      <td>6.0</td>\n",
       "      <td>4.000</td>\n",
       "      <td>2.2860</td>\n",
       "      <td>3.571</td>\n",
       "      <td>3.714</td>\n",
       "      <td>A recent report has revealed that providers wh...</td>\n",
       "      <td>I am a female, 27.0 years old, with an educati...</td>\n",
       "      <td>I am a female, 27.0 years old, with an educati...</td>\n",
       "    </tr>\n",
       "    <tr>\n",
       "      <th>986</th>\n",
       "      <td>The man's inebriated state may have led him to...</td>\n",
       "      <td>4.000000</td>\n",
       "      <td>3.625</td>\n",
       "      <td>Anger</td>\n",
       "      <td>5.00</td>\n",
       "      <td>3.00</td>\n",
       "      <td>5.00</td>\n",
       "      <td>4.00</td>\n",
       "      <td>3.5</td>\n",
       "      <td>2.714</td>\n",
       "      <td>3.0000</td>\n",
       "      <td>3.143</td>\n",
       "      <td>3.286</td>\n",
       "      <td>U.S. Attorney Channing D.\" said on Friday that...</td>\n",
       "      <td>I am a female, 21.0 years old, with 0 educatio...</td>\n",
       "      <td>I am a female, 21.0 years old, with 0 educatio...</td>\n",
       "    </tr>\n",
       "  </tbody>\n",
       "</table>\n",
       "<p>987 rows × 16 columns</p>\n",
       "</div>"
      ],
      "text/plain": [
       "                                                 essay   empathy  distress  \\\n",
       "0    I am filled with sadness seeing people living ...  6.833333     6.625   \n",
       "1    Why isn't there more effort to assist the peop...  5.833333     6.000   \n",
       "2    After reading the article, I am filled with sa...  1.000000     1.375   \n",
       "3    Despite having an amazing story to tell, someo...  6.166667     6.625   \n",
       "4    It seems as though an all-around kind and gene...  6.833333     1.000   \n",
       "..                                                 ...       ...       ...   \n",
       "982  I'm feeling apprehensive about the individuals...  1.000000     1.875   \n",
       "983  Despite my best efforts to buy food with purpo...  3.500000     3.625   \n",
       "984  I wish the article had provided more informati...  4.000000     4.375   \n",
       "985  This is a truly shocking story. I find it asto...  6.000000     6.000   \n",
       "986  The man's inebriated state may have led him to...  4.000000     3.625   \n",
       "\n",
       "          emotion  personality_conscientiousness  personality_openess  \\\n",
       "0    Hope/Sadness                           7.00                 5.50   \n",
       "1           Anger                           5.50                 5.00   \n",
       "2         Sadness                           6.75                 6.75   \n",
       "3         Sadness                           6.00                 6.00   \n",
       "4         Neutral                           7.00                 5.50   \n",
       "..            ...                            ...                  ...   \n",
       "982  Fear/Sadness                           6.75                 6.75   \n",
       "983       Sadness                           5.00                 3.00   \n",
       "984       Neutral                           5.00                 3.00   \n",
       "985          Fear                           6.00                 6.00   \n",
       "986         Anger                           5.00                 3.00   \n",
       "\n",
       "     personality_extraversion  personality_agreeableness  \\\n",
       "0                        1.00                       6.50   \n",
       "1                        2.00                       5.50   \n",
       "2                        6.75                       6.75   \n",
       "3                        5.00                       4.50   \n",
       "4                        1.00                       6.50   \n",
       "..                        ...                        ...   \n",
       "982                      6.75                       6.75   \n",
       "983                      5.00                       4.00   \n",
       "984                      5.00                       4.00   \n",
       "985                      6.00                       6.00   \n",
       "986                      5.00                       4.00   \n",
       "\n",
       "     personality_stability  iri_perspective_taking  iri_personal_distress  \\\n",
       "0                      6.0                   4.857                 2.0000   \n",
       "1                      4.5                   3.429                 2.8570   \n",
       "2                      7.0                   4.643                 2.0715   \n",
       "3                      3.5                   5.000                 4.1430   \n",
       "4                      6.0                   4.857                 2.0000   \n",
       "..                     ...                     ...                    ...   \n",
       "982                    7.0                   4.643                 2.0715   \n",
       "983                    3.5                   2.714                 3.0000   \n",
       "984                    3.5                   2.714                 3.0000   \n",
       "985                    6.0                   4.000                 2.2860   \n",
       "986                    3.5                   2.714                 3.0000   \n",
       "\n",
       "     iri_fantasy  iri_empathatic_concern  \\\n",
       "0          3.429                   5.000   \n",
       "1          2.857                   2.714   \n",
       "2          4.143                   4.643   \n",
       "3          4.857                   5.000   \n",
       "4          3.429                   5.000   \n",
       "..           ...                     ...   \n",
       "982        4.143                   4.643   \n",
       "983        3.143                   3.286   \n",
       "984        3.143                   3.286   \n",
       "985        3.571                   3.714   \n",
       "986        3.143                   3.286   \n",
       "\n",
       "                                               article  \\\n",
       "0    The absence of food in the mountains is causin...   \n",
       "1    The absence of food in the mountains is causin...   \n",
       "2    The absence of food in the mountains is causin...   \n",
       "3    The Miami Marlins pitcher, Jose Fernández, who...   \n",
       "4    The Miami Marlins pitcher, Jose Fernández, who...   \n",
       "..                                                 ...   \n",
       "982  The Portugal-bound train that derailed in Spai...   \n",
       "983  The paper published in Plos One highlights the...   \n",
       "984  The police have arrived at the Azusa location ...   \n",
       "985  A recent report has revealed that providers wh...   \n",
       "986  U.S. Attorney Channing D.\" said on Friday that...   \n",
       "\n",
       "                                           demographic  \\\n",
       "0    My profile details a black or African-American...   \n",
       "1    I am a male with an age of 32.0 years, accompa...   \n",
       "2    I am a male with 290 years of age, four year b...   \n",
       "3    I am a female, two-year associate degree, whit...   \n",
       "4    I am a male with an age of 37.0 years, four ye...   \n",
       "..                                                 ...   \n",
       "982  My name is Male, I am 29.0 years old and I hav...   \n",
       "983  As a female with XSW degrees and White skin, I...   \n",
       "984  My background is White, my age is 21.0 years, ...   \n",
       "985  I am a female, 27.0 years old, with an educati...   \n",
       "986  I am a female, 21.0 years old, with 0 educatio...   \n",
       "\n",
       "                                     demographic_essay  \n",
       "0    My profile details a black or African-American...  \n",
       "1    I am a male with an age of 32.0 years, accompa...  \n",
       "2    I am a male with 290 years of age, four year b...  \n",
       "3    I am a female, two-year associate degree, whit...  \n",
       "4    I am a male with an age of 37.0 years, four ye...  \n",
       "..                                                 ...  \n",
       "982  My name is Male, I am 29.0 years old and I hav...  \n",
       "983  As a female with XSW degrees and White skin, I...  \n",
       "984  My background is White, my age is 21.0 years, ...  \n",
       "985  I am a female, 27.0 years old, with an educati...  \n",
       "986  I am a female, 21.0 years old, with 0 educatio...  \n",
       "\n",
       "[987 rows x 16 columns]"
      ]
     },
     "execution_count": 101,
     "metadata": {},
     "output_type": "execute_result"
    }
   ],
   "source": [
    "paraphrased"
   ]
  },
  {
   "cell_type": "code",
   "execution_count": 102,
   "id": "9800c415-7586-4dcb-9d59-46ab0eedaae2",
   "metadata": {},
   "outputs": [],
   "source": [
    "train_dev_paraphrased = pd.concat([train_dev, paraphrased], axis=0, ignore_index=True)"
   ]
  },
  {
   "cell_type": "code",
   "execution_count": 103,
   "id": "678f193d-9cb3-4be4-be18-c5b44f4b1d5d",
   "metadata": {},
   "outputs": [],
   "source": [
    "train_dev_paraphrased.to_csv(\"./processed_data/train_dev_paraphrased.csv\")"
   ]
  },
  {
   "cell_type": "markdown",
   "id": "da714eec-914d-4412-aa4f-d0b4000174a1",
   "metadata": {},
   "source": [
    "## Separate train to check dev performance separately"
   ]
  },
  {
   "cell_type": "code",
   "execution_count": 13,
   "id": "3cb83329-3944-4a5b-83ab-64be306644b3",
   "metadata": {},
   "outputs": [],
   "source": [
    "# train_dev_paraphrased = pd.read_csv(\"./processed_data/train_dev_paraphrased.csv\", index_col=0, header=0)"
   ]
  },
  {
   "cell_type": "code",
   "execution_count": 104,
   "id": "11717779-0758-4a3f-8369-54cd24adf478",
   "metadata": {},
   "outputs": [],
   "source": [
    "train = train_dev_paraphrased.iloc[0:779,:]"
   ]
  },
  {
   "cell_type": "code",
   "execution_count": 108,
   "id": "af37e2f8-ebd8-4615-86ac-c193b1903645",
   "metadata": {},
   "outputs": [],
   "source": [
    "train_paraphrased = train_dev_paraphrased.iloc[987:1766,:]"
   ]
  },
  {
   "cell_type": "code",
   "execution_count": 109,
   "id": "fd0b3470-5c9f-4aa9-b991-89d28533110b",
   "metadata": {},
   "outputs": [],
   "source": [
    "train_train_paraphrased = pd.concat([train, train_paraphrased], ignore_index=True, axis=0)"
   ]
  },
  {
   "cell_type": "code",
   "execution_count": 110,
   "id": "a0a13858-d985-495e-b331-972725beb2fb",
   "metadata": {},
   "outputs": [],
   "source": [
    "train_train_paraphrased.to_csv(\"./processed_data/train_train_paraphrased.csv\")"
   ]
  },
  {
   "cell_type": "code",
   "execution_count": 111,
   "id": "17c61ae1-e1a3-4623-a93b-77ef20625e59",
   "metadata": {},
   "outputs": [],
   "source": [
    "dev_paraphrased = train_dev_paraphrased.iloc[779:987,:]\n",
    "dev_paraphrased.to_csv(\"./processed_data/dev_summarised.csv\")"
   ]
  },
  {
   "cell_type": "markdown",
   "id": "cfcfb499-7727-4606-b2ec-61a5cf58d97c",
   "metadata": {
    "tags": []
   },
   "source": [
    "## Check lengths"
   ]
  },
  {
   "cell_type": "code",
   "execution_count": 52,
   "id": "1124a989-338c-41af-8d11-d0139081f4ef",
   "metadata": {},
   "outputs": [],
   "source": [
    "from datasets import Dataset"
   ]
  },
  {
   "cell_type": "code",
   "execution_count": 54,
   "id": "cb404cc9-78d4-4449-9a3b-34e5c9d449b5",
   "metadata": {},
   "outputs": [
    {
     "data": {
      "application/vnd.jupyter.widget-view+json": {
       "model_id": "",
       "version_major": 2,
       "version_minor": 0
      },
      "text/plain": [
       "Map:   0%|          | 0/987 [00:00<?, ? examples/s]"
      ]
     },
     "metadata": {},
     "output_type": "display_data"
    }
   ],
   "source": [
    "tokeniser = trf.AutoTokenizer.from_pretrained(\"bert-base-uncased\")\n",
    "\n",
    "#padding=\"longest\" can be deferred to do dynamic padding\n",
    "def tokenise(sentence):\n",
    "    return tokeniser(sentence[\"demographic_essay\"], truncation=True)\n",
    "\n",
    "hugging_dataset = Dataset.from_pandas(train_dev, preserve_index=False)\n",
    "\n",
    "tokenised_hugging_dataset = hugging_dataset.map(tokenise, batched=True)"
   ]
  },
  {
   "cell_type": "code",
   "execution_count": 58,
   "id": "dcc14873-f3d0-4d5a-9990-32d3b4d4810d",
   "metadata": {
    "id": "DGrZyLKSjM8T"
   },
   "outputs": [
    {
     "name": "stdout",
     "output_type": "stream",
     "text": [
      "Max lengths: 236\n"
     ]
    }
   ],
   "source": [
    "# checking length after tokenisation\n",
    "\n",
    "length = []\n",
    "for i in range(tokenised_hugging_dataset.num_rows):\n",
    "  length.append(len(tokenised_hugging_dataset['input_ids'][i]))\n",
    "\n",
    "print(f\"Max length: {max(length)}\")"
   ]
  },
  {
   "cell_type": "code",
   "execution_count": 61,
   "id": "c3c74cc4-08c3-40e0-8713-1c905720a02c",
   "metadata": {},
   "outputs": [
    {
     "data": {
      "text/plain": [
       "956"
      ]
     },
     "execution_count": 61,
     "metadata": {},
     "output_type": "execute_result"
    }
   ],
   "source": [
    "train_dev[\"demographic_essay\"].str.len().max()"
   ]
  },
  {
   "cell_type": "code",
   "execution_count": 63,
   "id": "fdc529e8-c9bf-49ce-a9c4-8c0f0efcc97c",
   "metadata": {},
   "outputs": [
    {
     "data": {
      "text/plain": [
       "284"
      ]
     },
     "execution_count": 63,
     "metadata": {},
     "output_type": "execute_result"
    }
   ],
   "source": [
    "train_dev[\"article\"].str.len().min()"
   ]
  },
  {
   "cell_type": "code",
   "execution_count": 10,
   "id": "45077770-62c6-467b-a7e9-74750f4dc40c",
   "metadata": {},
   "outputs": [
    {
     "data": {
      "text/plain": [
       "20047"
      ]
     },
     "execution_count": 10,
     "metadata": {},
     "output_type": "execute_result"
    }
   ],
   "source": [
    "train_dev[\"article\"].str.len().max()"
   ]
  },
  {
   "cell_type": "code",
   "execution_count": 8,
   "id": "fb1f231a-0880-4fac-b941-7359d85ba6da",
   "metadata": {},
   "outputs": [
    {
     "data": {
      "text/plain": [
       "956"
      ]
     },
     "execution_count": 8,
     "metadata": {},
     "output_type": "execute_result"
    }
   ],
   "source": [
    "train_dev[\"demographic_essay\"].str.len().max()"
   ]
  },
  {
   "cell_type": "code",
   "execution_count": 14,
   "id": "8c8cbb86-2bc9-4fb4-bd23-747edc13f096",
   "metadata": {},
   "outputs": [
    {
     "data": {
      "text/plain": [
       "987"
      ]
     },
     "execution_count": 14,
     "metadata": {},
     "output_type": "execute_result"
    }
   ],
   "source": [
    "train_dev_paraphrased[\"article\"].str.len().max()"
   ]
  },
  {
   "cell_type": "markdown",
   "id": "c46fcbf0-fcc4-4a18-ae13-f429b9980a78",
   "metadata": {},
   "source": [
    "# Parrot"
   ]
  },
  {
   "cell_type": "code",
   "execution_count": 20,
   "id": "d37c7037-5d64-40c9-9571-3154c9ec9f45",
   "metadata": {},
   "outputs": [
    {
     "data": {
      "text/plain": [
       "'I am not surprised that the nations of Africa are having difficulty agreeing on conservation efforts for elephants. There is much disharmony politically between them. Africa is home to a number of endangered and threatened animals. I think the global community has to be involved in these conservation efforts.'"
      ]
     },
     "execution_count": 20,
     "metadata": {},
     "output_type": "execute_result"
    }
   ],
   "source": [
    "paraphrased.loc[429,'essay']"
   ]
  },
  {
   "cell_type": "code",
   "execution_count": 22,
   "id": "330312a3-139c-485a-a0c4-7feaf350a6d7",
   "metadata": {},
   "outputs": [],
   "source": [
    "parrot = Parrot(model_tag=\"prithivida/parrot_paraphraser_on_T5\", use_gpu=True)"
   ]
  },
  {
   "cell_type": "code",
   "execution_count": 29,
   "id": "8ca1f298-27d1-49aa-93a9-96ecb5c8a80a",
   "metadata": {},
   "outputs": [
    {
     "data": {
      "text/plain": [
       "[('I am not surprised that the nations of Africa are having difficulty agreeing on conservation efforts for elephants. There is much disharmony politically between them. Africa is home to a number of endangered and threatened animals. I think the global community has to be involved in these conservation efforts.',\n",
       "  0)]"
      ]
     },
     "execution_count": 29,
     "metadata": {},
     "output_type": "execute_result"
    }
   ],
   "source": [
    "parrot.augment(input_phrase=paraphrased.loc[429,'essay'], use_gpu=True, do_diverse=True, max_return_phrases=5)"
   ]
  },
  {
   "cell_type": "markdown",
   "id": "9535be34-4cce-42aa-87c8-939b911ef0aa",
   "metadata": {},
   "source": [
    "Current problem: the paraphrased sentence is pretty much the same as original"
   ]
  },
  {
   "cell_type": "markdown",
   "id": "c4d2cbac-3cee-4650-bbd1-d0a7e85f050b",
   "metadata": {},
   "source": [
    "# Pegasus"
   ]
  },
  {
   "cell_type": "code",
   "execution_count": null,
   "id": "38555203-1354-4876-b22d-600c45cc6c3c",
   "metadata": {},
   "outputs": [],
   "source": [
    "from transformers import PegasusForConditionalGeneration, PegasusTokenizer\n",
    "model_name = 'tuner007/pegasus_paraphrase'\n",
    "torch_device = 'cuda' if torch.cuda.is_available() else 'cpu'\n",
    "tokenizer = PegasusTokenizer.from_pretrained(model_name)\n",
    "model = PegasusForConditionalGeneration.from_pretrained(model_name).to(torch_device)"
   ]
  },
  {
   "cell_type": "code",
   "execution_count": 32,
   "id": "f16afb91-e3de-4638-96b2-68d5ad729aa0",
   "metadata": {},
   "outputs": [],
   "source": [
    "def get_response(input_text,num_return_sequences,num_beams):\n",
    "    batch = tokenizer([input_text],truncation=True,padding='longest',max_length=60, return_tensors=\"pt\").to(torch_device)\n",
    "    translated = model.generate(**batch,max_length=60,num_beams=num_beams, num_return_sequences=num_return_sequences, temperature=1.5)\n",
    "    tgt_text = tokenizer.batch_decode(translated, skip_special_tokens=True)\n",
    "    return tgt_text"
   ]
  },
  {
   "cell_type": "code",
   "execution_count": 33,
   "id": "c3f22a19-45c7-469c-ae1e-27bfeece2a04",
   "metadata": {},
   "outputs": [
    {
     "data": {
      "text/plain": [
       "[\"I am not surprised that the nations of Africa don't agree on elephants.\"]"
      ]
     },
     "execution_count": 33,
     "metadata": {},
     "output_type": "execute_result"
    }
   ],
   "source": [
    "get_response(input_text = paraphrased.loc[429,'essay'], num_return_sequences=1 ,num_beams=10)"
   ]
  },
  {
   "cell_type": "markdown",
   "id": "487c0087-eb53-49a6-afd3-ec56c665e5bb",
   "metadata": {},
   "source": [
    "Current problem: only the first sentence is paraphrased"
   ]
  }
 ],
 "metadata": {
  "kernelspec": {
   "display_name": "Python 3 (ipykernel)",
   "language": "python",
   "name": "python3"
  },
  "language_info": {
   "codemirror_mode": {
    "name": "ipython",
    "version": 3
   },
   "file_extension": ".py",
   "mimetype": "text/x-python",
   "name": "python",
   "nbconvert_exporter": "python",
   "pygments_lexer": "ipython3",
   "version": "3.10.9"
  }
 },
 "nbformat": 4,
 "nbformat_minor": 5
}
