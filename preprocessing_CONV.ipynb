{
 "cells": [
  {
   "cell_type": "code",
   "execution_count": 1,
   "metadata": {},
   "outputs": [],
   "source": [
    "import pandas as pd\n",
    "import numpy as np"
   ]
  },
  {
   "cell_type": "code",
   "execution_count": 2,
   "metadata": {},
   "outputs": [],
   "source": [
    "import os\n",
    "os.chdir(\"/home/573/rh2942/WASSA-2023-EMP\") # changing dir for evaluation file"
   ]
  },
  {
   "cell_type": "code",
   "execution_count": 3,
   "metadata": {},
   "outputs": [
    {
     "data": {
      "text/html": [
       "<div>\n",
       "<style scoped>\n",
       "    .dataframe tbody tr th:only-of-type {\n",
       "        vertical-align: middle;\n",
       "    }\n",
       "\n",
       "    .dataframe tbody tr th {\n",
       "        vertical-align: top;\n",
       "    }\n",
       "\n",
       "    .dataframe thead th {\n",
       "        text-align: right;\n",
       "    }\n",
       "</style>\n",
       "<table border=\"1\" class=\"dataframe\">\n",
       "  <thead>\n",
       "    <tr style=\"text-align: right;\">\n",
       "      <th></th>\n",
       "      <th>conversation_id</th>\n",
       "      <th>turn_id</th>\n",
       "      <th>text</th>\n",
       "      <th>speaker_number</th>\n",
       "      <th>article_id</th>\n",
       "      <th>speaker_id</th>\n",
       "      <th>essay_id</th>\n",
       "    </tr>\n",
       "  </thead>\n",
       "  <tbody>\n",
       "    <tr>\n",
       "      <th>626</th>\n",
       "      <td>1114</td>\n",
       "      <td>8</td>\n",
       "      <td>yeah thats true, I would be so angry if I were...</td>\n",
       "      <td>2</td>\n",
       "      <td>14</td>\n",
       "      <td>77</td>\n",
       "      <td>47</td>\n",
       "    </tr>\n",
       "    <tr>\n",
       "      <th>282</th>\n",
       "      <td>1094</td>\n",
       "      <td>24</td>\n",
       "      <td>I agree, this was one of the things that bothe...</td>\n",
       "      <td>2</td>\n",
       "      <td>11</td>\n",
       "      <td>64</td>\n",
       "      <td>23</td>\n",
       "    </tr>\n",
       "    <tr>\n",
       "      <th>855</th>\n",
       "      <td>1150</td>\n",
       "      <td>18</td>\n",
       "      <td>I agree, I wish we could</td>\n",
       "      <td>2</td>\n",
       "      <td>16</td>\n",
       "      <td>72</td>\n",
       "      <td>74</td>\n",
       "    </tr>\n",
       "  </tbody>\n",
       "</table>\n",
       "</div>"
      ],
      "text/plain": [
       "     conversation_id  turn_id  \\\n",
       "626             1114        8   \n",
       "282             1094       24   \n",
       "855             1150       18   \n",
       "\n",
       "                                                  text  speaker_number  \\\n",
       "626  yeah thats true, I would be so angry if I were...               2   \n",
       "282  I agree, this was one of the things that bothe...               2   \n",
       "855                           I agree, I wish we could               2   \n",
       "\n",
       "     article_id  speaker_id  essay_id  \n",
       "626          14          77        47  \n",
       "282          11          64        23  \n",
       "855          16          72        74  "
      ]
     },
     "execution_count": 3,
     "metadata": {},
     "output_type": "execute_result"
    }
   ],
   "source": [
    "raw_test = pd.read_csv('./dataset/test/WASSA23_conv_level_test.tsv', sep='\\t', header=0)\n",
    "raw_test.sample(3)"
   ]
  },
  {
   "cell_type": "markdown",
   "metadata": {
    "jp-MarkdownHeadingCollapsed": true,
    "tags": []
   },
   "source": [
    "# Combine (1) dev sample with label and (2) train and dev set"
   ]
  },
  {
   "cell_type": "markdown",
   "metadata": {},
   "source": [
    "## Dev sample with corresponding output labels"
   ]
  },
  {
   "cell_type": "code",
   "execution_count": 81,
   "metadata": {},
   "outputs": [
    {
     "data": {
      "text/html": [
       "<div>\n",
       "<style scoped>\n",
       "    .dataframe tbody tr th:only-of-type {\n",
       "        vertical-align: middle;\n",
       "    }\n",
       "\n",
       "    .dataframe tbody tr th {\n",
       "        vertical-align: top;\n",
       "    }\n",
       "\n",
       "    .dataframe thead th {\n",
       "        text-align: right;\n",
       "    }\n",
       "</style>\n",
       "<table border=\"1\" class=\"dataframe\">\n",
       "  <thead>\n",
       "    <tr style=\"text-align: right;\">\n",
       "      <th></th>\n",
       "      <th>conversation_id</th>\n",
       "      <th>turn_id</th>\n",
       "      <th>text</th>\n",
       "      <th>speaker_number</th>\n",
       "      <th>article_id</th>\n",
       "      <th>speaker_id</th>\n",
       "      <th>essay_id</th>\n",
       "    </tr>\n",
       "  </thead>\n",
       "  <tbody>\n",
       "    <tr>\n",
       "      <th>2093</th>\n",
       "      <td>462</td>\n",
       "      <td>13</td>\n",
       "      <td>How do you know so much about all this? It's i...</td>\n",
       "      <td>2</td>\n",
       "      <td>18.0</td>\n",
       "      <td>68.0</td>\n",
       "      <td>961.0</td>\n",
       "    </tr>\n",
       "    <tr>\n",
       "      <th>1921</th>\n",
       "      <td>425</td>\n",
       "      <td>11</td>\n",
       "      <td>School shootings are interpreted as \"oh anothe...</td>\n",
       "      <td>2</td>\n",
       "      <td>133.0</td>\n",
       "      <td>65.0</td>\n",
       "      <td>924.0</td>\n",
       "    </tr>\n",
       "  </tbody>\n",
       "</table>\n",
       "</div>"
      ],
      "text/plain": [
       "      conversation_id  turn_id  \\\n",
       "2093              462       13   \n",
       "1921              425       11   \n",
       "\n",
       "                                                   text  speaker_number  \\\n",
       "2093  How do you know so much about all this? It's i...               2   \n",
       "1921  School shootings are interpreted as \"oh anothe...               2   \n",
       "\n",
       "      article_id  speaker_id  essay_id  \n",
       "2093        18.0        68.0     961.0  \n",
       "1921       133.0        65.0     924.0  "
      ]
     },
     "execution_count": 81,
     "metadata": {},
     "output_type": "execute_result"
    }
   ],
   "source": [
    "raw_dev = pd.read_csv('./dataset/dev/WASSA23_conv_level_dev.tsv', sep='\\t', header=0)\n",
    "raw_dev.sample(2)"
   ]
  },
  {
   "cell_type": "code",
   "execution_count": 82,
   "metadata": {},
   "outputs": [],
   "source": [
    "goldstandard_dev = pd.read_csv('./dataset/dev/goldstandard_CONV_dev.tsv', sep='\\t', header=None) # no header"
   ]
  },
  {
   "cell_type": "code",
   "execution_count": 83,
   "metadata": {},
   "outputs": [],
   "source": [
    "# just an educated guess as the header is not provided\n",
    "goldstandard_dev = goldstandard_dev.rename(columns={0:'EmotionalPolarity',\n",
    "                                                    1:'Emotion',\n",
    "                                                    2:'Empathy'})"
   ]
  },
  {
   "cell_type": "code",
   "execution_count": 84,
   "metadata": {},
   "outputs": [
    {
     "data": {
      "text/html": [
       "<div>\n",
       "<style scoped>\n",
       "    .dataframe tbody tr th:only-of-type {\n",
       "        vertical-align: middle;\n",
       "    }\n",
       "\n",
       "    .dataframe tbody tr th {\n",
       "        vertical-align: top;\n",
       "    }\n",
       "\n",
       "    .dataframe thead th {\n",
       "        text-align: right;\n",
       "    }\n",
       "</style>\n",
       "<table border=\"1\" class=\"dataframe\">\n",
       "  <thead>\n",
       "    <tr style=\"text-align: right;\">\n",
       "      <th></th>\n",
       "      <th>conversation_id</th>\n",
       "      <th>turn_id</th>\n",
       "      <th>text</th>\n",
       "      <th>speaker_number</th>\n",
       "      <th>article_id</th>\n",
       "      <th>speaker_id</th>\n",
       "      <th>essay_id</th>\n",
       "      <th>EmotionalPolarity</th>\n",
       "      <th>Emotion</th>\n",
       "      <th>Empathy</th>\n",
       "    </tr>\n",
       "  </thead>\n",
       "  <tbody>\n",
       "    <tr>\n",
       "      <th>2253</th>\n",
       "      <td>26</td>\n",
       "      <td>29</td>\n",
       "      <td>Back at you!</td>\n",
       "      <td>2</td>\n",
       "      <td>171.0</td>\n",
       "      <td>74.0</td>\n",
       "      <td>525.0</td>\n",
       "      <td>0.0000</td>\n",
       "      <td>0.0000</td>\n",
       "      <td>1.0000</td>\n",
       "    </tr>\n",
       "    <tr>\n",
       "      <th>1822</th>\n",
       "      <td>406</td>\n",
       "      <td>13</td>\n",
       "      <td>I agree, but this system was not built was eve...</td>\n",
       "      <td>2</td>\n",
       "      <td>331.0</td>\n",
       "      <td>75.0</td>\n",
       "      <td>905.0</td>\n",
       "      <td>1.3333</td>\n",
       "      <td>1.6667</td>\n",
       "      <td>2.6667</td>\n",
       "    </tr>\n",
       "  </tbody>\n",
       "</table>\n",
       "</div>"
      ],
      "text/plain": [
       "      conversation_id  turn_id  \\\n",
       "2253               26       29   \n",
       "1822              406       13   \n",
       "\n",
       "                                                   text  speaker_number  \\\n",
       "2253                                       Back at you!               2   \n",
       "1822  I agree, but this system was not built was eve...               2   \n",
       "\n",
       "      article_id  speaker_id  essay_id  EmotionalPolarity  Emotion  Empathy  \n",
       "2253       171.0        74.0     525.0             0.0000   0.0000   1.0000  \n",
       "1822       331.0        75.0     905.0             1.3333   1.6667   2.6667  "
      ]
     },
     "execution_count": 84,
     "metadata": {},
     "output_type": "execute_result"
    }
   ],
   "source": [
    "complete_dev = pd.concat([raw_dev, goldstandard_dev], axis=1)\n",
    "complete_dev.sample(2)"
   ]
  },
  {
   "cell_type": "markdown",
   "metadata": {},
   "source": [
    "## Combine with train"
   ]
  },
  {
   "cell_type": "code",
   "execution_count": 85,
   "metadata": {},
   "outputs": [
    {
     "data": {
      "text/html": [
       "<div>\n",
       "<style scoped>\n",
       "    .dataframe tbody tr th:only-of-type {\n",
       "        vertical-align: middle;\n",
       "    }\n",
       "\n",
       "    .dataframe tbody tr th {\n",
       "        vertical-align: top;\n",
       "    }\n",
       "\n",
       "    .dataframe thead th {\n",
       "        text-align: right;\n",
       "    }\n",
       "</style>\n",
       "<table border=\"1\" class=\"dataframe\">\n",
       "  <thead>\n",
       "    <tr style=\"text-align: right;\">\n",
       "      <th></th>\n",
       "      <th>conversation_id</th>\n",
       "      <th>turn_id</th>\n",
       "      <th>text</th>\n",
       "      <th>EmotionalPolarity</th>\n",
       "      <th>Emotion</th>\n",
       "      <th>Empathy</th>\n",
       "      <th>speaker_number</th>\n",
       "      <th>article_id</th>\n",
       "      <th>speaker_id</th>\n",
       "      <th>essay_id</th>\n",
       "    </tr>\n",
       "  </thead>\n",
       "  <tbody>\n",
       "    <tr>\n",
       "      <th>6120</th>\n",
       "      <td>359</td>\n",
       "      <td>17</td>\n",
       "      <td>how so?</td>\n",
       "      <td>1.0000</td>\n",
       "      <td>0.6667</td>\n",
       "      <td>1.0</td>\n",
       "      <td>2</td>\n",
       "      <td>44.0</td>\n",
       "      <td>24.0</td>\n",
       "      <td>858.0</td>\n",
       "    </tr>\n",
       "    <tr>\n",
       "      <th>2662</th>\n",
       "      <td>169</td>\n",
       "      <td>8</td>\n",
       "      <td>Oo I guess I could understand that.  It's easy...</td>\n",
       "      <td>0.6667</td>\n",
       "      <td>2.0000</td>\n",
       "      <td>3.0</td>\n",
       "      <td>1</td>\n",
       "      <td>228.0</td>\n",
       "      <td>49.0</td>\n",
       "      <td>168.0</td>\n",
       "    </tr>\n",
       "  </tbody>\n",
       "</table>\n",
       "</div>"
      ],
      "text/plain": [
       "      conversation_id  turn_id  \\\n",
       "6120              359       17   \n",
       "2662              169        8   \n",
       "\n",
       "                                                   text  EmotionalPolarity  \\\n",
       "6120                                            how so?             1.0000   \n",
       "2662  Oo I guess I could understand that.  It's easy...             0.6667   \n",
       "\n",
       "      Emotion  Empathy  speaker_number  article_id  speaker_id  essay_id  \n",
       "6120   0.6667      1.0               2        44.0        24.0     858.0  \n",
       "2662   2.0000      3.0               1       228.0        49.0     168.0  "
      ]
     },
     "execution_count": 85,
     "metadata": {},
     "output_type": "execute_result"
    }
   ],
   "source": [
    "raw_train = pd.read_csv('./dataset/WASSA23_conv_level_with_labels_train.tsv', sep='\\t', na_values='unknown', header=0) # raw csv file consists of 'unknown' values\n",
    "raw_train.sample(2)"
   ]
  },
  {
   "cell_type": "code",
   "execution_count": 86,
   "metadata": {},
   "outputs": [],
   "source": [
    "train = raw_train[list(complete_dev)] #only keeping columns exist on dev set\n",
    "train.sample(2)"
   ]
  },
  {
   "cell_type": "code",
   "execution_count": 88,
   "metadata": {},
   "outputs": [
    {
     "data": {
      "text/html": [
       "<div>\n",
       "<style scoped>\n",
       "    .dataframe tbody tr th:only-of-type {\n",
       "        vertical-align: middle;\n",
       "    }\n",
       "\n",
       "    .dataframe tbody tr th {\n",
       "        vertical-align: top;\n",
       "    }\n",
       "\n",
       "    .dataframe thead th {\n",
       "        text-align: right;\n",
       "    }\n",
       "</style>\n",
       "<table border=\"1\" class=\"dataframe\">\n",
       "  <thead>\n",
       "    <tr style=\"text-align: right;\">\n",
       "      <th></th>\n",
       "      <th>conversation_id</th>\n",
       "      <th>turn_id</th>\n",
       "      <th>text</th>\n",
       "      <th>speaker_number</th>\n",
       "      <th>article_id</th>\n",
       "      <th>speaker_id</th>\n",
       "      <th>essay_id</th>\n",
       "      <th>EmotionalPolarity</th>\n",
       "      <th>Emotion</th>\n",
       "      <th>Empathy</th>\n",
       "    </tr>\n",
       "  </thead>\n",
       "  <tbody>\n",
       "    <tr>\n",
       "      <th>6114</th>\n",
       "      <td>359</td>\n",
       "      <td>11</td>\n",
       "      <td>http://worldpopulationreview.com/countries/mas...</td>\n",
       "      <td>2</td>\n",
       "      <td>44.0</td>\n",
       "      <td>24.0</td>\n",
       "      <td>858.0</td>\n",
       "      <td>1.6667</td>\n",
       "      <td>0.6667</td>\n",
       "      <td>1.0</td>\n",
       "    </tr>\n",
       "    <tr>\n",
       "      <th>10467</th>\n",
       "      <td>387</td>\n",
       "      <td>27</td>\n",
       "      <td>That's good, hopefully everyone involved will ...</td>\n",
       "      <td>2</td>\n",
       "      <td>66.0</td>\n",
       "      <td>67.0</td>\n",
       "      <td>886.0</td>\n",
       "      <td>0.6667</td>\n",
       "      <td>1.6667</td>\n",
       "      <td>2.0</td>\n",
       "    </tr>\n",
       "  </tbody>\n",
       "</table>\n",
       "</div>"
      ],
      "text/plain": [
       "       conversation_id  turn_id  \\\n",
       "6114               359       11   \n",
       "10467              387       27   \n",
       "\n",
       "                                                    text  speaker_number  \\\n",
       "6114   http://worldpopulationreview.com/countries/mas...               2   \n",
       "10467  That's good, hopefully everyone involved will ...               2   \n",
       "\n",
       "       article_id  speaker_id  essay_id  EmotionalPolarity  Emotion  Empathy  \n",
       "6114         44.0        24.0     858.0             1.6667   0.6667      1.0  \n",
       "10467        66.0        67.0     886.0             0.6667   1.6667      2.0  "
      ]
     },
     "execution_count": 88,
     "metadata": {},
     "output_type": "execute_result"
    }
   ],
   "source": [
    "train_dev = pd.concat([train, complete_dev], axis=0, ignore_index=True)\n",
    "train_dev.sample(2)"
   ]
  },
  {
   "cell_type": "markdown",
   "metadata": {},
   "source": [
    "# Numerical to textual conversion"
   ]
  },
  {
   "cell_type": "code",
   "execution_count": 4,
   "metadata": {},
   "outputs": [
    {
     "data": {
      "text/html": [
       "<div>\n",
       "<style scoped>\n",
       "    .dataframe tbody tr th:only-of-type {\n",
       "        vertical-align: middle;\n",
       "    }\n",
       "\n",
       "    .dataframe tbody tr th {\n",
       "        vertical-align: top;\n",
       "    }\n",
       "\n",
       "    .dataframe thead th {\n",
       "        text-align: right;\n",
       "    }\n",
       "</style>\n",
       "<table border=\"1\" class=\"dataframe\">\n",
       "  <thead>\n",
       "    <tr style=\"text-align: right;\">\n",
       "      <th></th>\n",
       "      <th>text</th>\n",
       "    </tr>\n",
       "    <tr>\n",
       "      <th>article_id</th>\n",
       "      <th></th>\n",
       "    </tr>\n",
       "  </thead>\n",
       "  <tbody>\n",
       "    <tr>\n",
       "      <th>334</th>\n",
       "      <td>Climate change impacts have now been documente...</td>\n",
       "    </tr>\n",
       "    <tr>\n",
       "      <th>19</th>\n",
       "      <td>More people have drowned in the Mediterranean ...</td>\n",
       "    </tr>\n",
       "  </tbody>\n",
       "</table>\n",
       "</div>"
      ],
      "text/plain": [
       "                                                         text\n",
       "article_id                                                   \n",
       "334         Climate change impacts have now been documente...\n",
       "19          More people have drowned in the Mediterranean ..."
      ]
     },
     "execution_count": 4,
     "metadata": {},
     "output_type": "execute_result"
    }
   ],
   "source": [
    "# Summarised article\n",
    "article = pd.read_csv('./processed_data/articles_adobe_AMT_summarised.csv', header=0, index_col=0)\n",
    "article.sample(2)"
   ]
  },
  {
   "cell_type": "code",
   "execution_count": 5,
   "metadata": {},
   "outputs": [],
   "source": [
    "def num_to_text(raw_data):\n",
    "    input_data = raw_data.copy() #mandatory step as dataframe is mutable\n",
    "    \n",
    "    input_data.dropna(inplace=True)\n",
    "    print(f\"Existing non-numeric columns:\\n {input_data.select_dtypes(exclude=['number']).columns.tolist()}\") #Just checking if any non-numeric value exist on numeric columns\n",
    "    \n",
    "    #converting article id to corresponding article texts\n",
    "    input_data['article'] = input_data['article_id'].apply(lambda x: article.loc[x, 'text'])\n",
    "    \n",
    "    # print(input_data.isna().any())\n",
    "    assert input_data.isna().any().any() == False #no NA values\n",
    "    assert input_data.isnull().any().any() == False #no null values\n",
    "  \n",
    "    return input_data"
   ]
  },
  {
   "cell_type": "code",
   "execution_count": 6,
   "metadata": {},
   "outputs": [],
   "source": [
    "def save_preprocessed(df, dataname):\n",
    "    raw_data = df.copy()\n",
    "    processed_df = num_to_text(raw_data)\n",
    "    processed_df.to_csv(\"./processed_data/CONV_preprocessed_\" + dataname + \".csv\")"
   ]
  },
  {
   "cell_type": "code",
   "execution_count": 8,
   "metadata": {},
   "outputs": [
    {
     "name": "stdout",
     "output_type": "stream",
     "text": [
      "Existing non-numeric columns:\n",
      " ['text']\n"
     ]
    }
   ],
   "source": [
    "# save_preprocessed(complete_dev, dataname=\"complete_dev\") #dev with output label\n",
    "save_preprocessed(raw_test, dataname=\"test\")"
   ]
  },
  {
   "cell_type": "markdown",
   "metadata": {
    "tags": []
   },
   "source": [
    "# Data augmentaiton (Paraphrasing) -- train and dev set"
   ]
  },
  {
   "cell_type": "code",
   "execution_count": 94,
   "metadata": {},
   "outputs": [],
   "source": [
    "import torch\n",
    "import transformers as trf"
   ]
  },
  {
   "cell_type": "code",
   "execution_count": 91,
   "metadata": {},
   "outputs": [
    {
     "name": "stdout",
     "output_type": "stream",
     "text": [
      "Existing non-numeric columns:\n",
      " ['text']\n"
     ]
    }
   ],
   "source": [
    "# train_dev is not saved, so not passed through numerical-to-textual conversion\n",
    "train_dev = num_to_text(train_dev)"
   ]
  },
  {
   "cell_type": "code",
   "execution_count": 95,
   "metadata": {},
   "outputs": [
    {
     "data": {
      "text/plain": [
       "Index(['conversation_id', 'turn_id', 'text', 'speaker_number', 'article_id',\n",
       "       'speaker_id', 'essay_id', 'EmotionalPolarity', 'Emotion', 'Empathy',\n",
       "       'article'],\n",
       "      dtype='object')"
      ]
     },
     "execution_count": 95,
     "metadata": {},
     "output_type": "execute_result"
    }
   ],
   "source": [
    "train_dev.columns"
   ]
  },
  {
   "cell_type": "code",
   "execution_count": 97,
   "metadata": {},
   "outputs": [],
   "source": [
    "# keeping chosen columns only\n",
    "train_dev = train_dev[['text','EmotionalPolarity', 'Emotion', 'Empathy', 'article']]"
   ]
  },
  {
   "cell_type": "code",
   "execution_count": 98,
   "metadata": {},
   "outputs": [
    {
     "data": {
      "text/html": [
       "<div>\n",
       "<style scoped>\n",
       "    .dataframe tbody tr th:only-of-type {\n",
       "        vertical-align: middle;\n",
       "    }\n",
       "\n",
       "    .dataframe tbody tr th {\n",
       "        vertical-align: top;\n",
       "    }\n",
       "\n",
       "    .dataframe thead th {\n",
       "        text-align: right;\n",
       "    }\n",
       "</style>\n",
       "<table border=\"1\" class=\"dataframe\">\n",
       "  <thead>\n",
       "    <tr style=\"text-align: right;\">\n",
       "      <th></th>\n",
       "      <th>text</th>\n",
       "      <th>EmotionalPolarity</th>\n",
       "      <th>Emotion</th>\n",
       "      <th>Empathy</th>\n",
       "      <th>article</th>\n",
       "    </tr>\n",
       "  </thead>\n",
       "  <tbody>\n",
       "    <tr>\n",
       "      <th>2141</th>\n",
       "      <td>It was nice talking to you! Thanks for sharing...</td>\n",
       "      <td>0.0</td>\n",
       "      <td>2.0000</td>\n",
       "      <td>1.3333</td>\n",
       "      <td>Dakota Fanning's mom and dad are done after al...</td>\n",
       "    </tr>\n",
       "    <tr>\n",
       "      <th>2260</th>\n",
       "      <td>:(. That's all I have to say on this situation...</td>\n",
       "      <td>1.0</td>\n",
       "      <td>1.6667</td>\n",
       "      <td>1.3333</td>\n",
       "      <td>As fighting continued in and around Mosul on F...</td>\n",
       "    </tr>\n",
       "  </tbody>\n",
       "</table>\n",
       "</div>"
      ],
      "text/plain": [
       "                                                   text  EmotionalPolarity  \\\n",
       "2141  It was nice talking to you! Thanks for sharing...                0.0   \n",
       "2260  :(. That's all I have to say on this situation...                1.0   \n",
       "\n",
       "      Emotion  Empathy                                            article  \n",
       "2141   2.0000   1.3333  Dakota Fanning's mom and dad are done after al...  \n",
       "2260   1.6667   1.3333  As fighting continued in and around Mosul on F...  "
      ]
     },
     "execution_count": 98,
     "metadata": {},
     "output_type": "execute_result"
    }
   ],
   "source": [
    "train_dev.sample(2)"
   ]
  },
  {
   "cell_type": "code",
   "execution_count": 99,
   "metadata": {},
   "outputs": [],
   "source": [
    "paraphrased = train_dev.copy()"
   ]
  },
  {
   "cell_type": "code",
   "execution_count": 100,
   "metadata": {},
   "outputs": [],
   "source": [
    "device = torch.device(\"cuda\") if torch.cuda.is_available() else torch.device(\"cpu\")\n",
    "tokenizer = trf.AutoTokenizer.from_pretrained(\"humarin/chatgpt_paraphraser_on_T5_base\")\n",
    "model = trf.AutoModelForSeq2SeqLM.from_pretrained(\"humarin/chatgpt_paraphraser_on_T5_base\").to(device)"
   ]
  },
  {
   "cell_type": "code",
   "execution_count": 106,
   "metadata": {},
   "outputs": [],
   "source": [
    "def paraphrase(\n",
    "    question,\n",
    "    num_beams=5,\n",
    "    num_beam_groups=5,\n",
    "    num_return_sequences=1,\n",
    "    repetition_penalty=10.0,\n",
    "    diversity_penalty=3.0,\n",
    "    no_repeat_ngram_size=2,\n",
    "    temperature=0.7\n",
    "):\n",
    "    max_length=len(question) #length of existing sentence is the limit\n",
    "    input_ids = tokenizer(\n",
    "        f'paraphrase: {question}',\n",
    "        return_tensors=\"pt\", padding=\"longest\",\n",
    "        max_length=max_length,\n",
    "        truncation=True,\n",
    "    ).input_ids\n",
    "    \n",
    "    outputs = model.generate(\n",
    "        input_ids.to(device), temperature=temperature, repetition_penalty=repetition_penalty,\n",
    "        num_return_sequences=num_return_sequences, no_repeat_ngram_size=no_repeat_ngram_size,\n",
    "        num_beams=num_beams, num_beam_groups=num_beam_groups,\n",
    "        max_length=max_length, diversity_penalty=diversity_penalty\n",
    "    )\n",
    "\n",
    "    res = tokenizer.batch_decode(outputs, skip_special_tokens=True)\n",
    "\n",
    "    return res"
   ]
  },
  {
   "cell_type": "code",
   "execution_count": null,
   "metadata": {},
   "outputs": [
    {
     "name": "stderr",
     "output_type": "stream",
     "text": [
      "/scratch/jr19/rh2942/miniconda3/lib/python3.10/site-packages/transformers/generation_beam_search.py:198: UserWarning: Passing `max_length` to BeamSearchScorer is deprecated and has no effect. `max_length` should be passed directly to `beam_search(...)`, `beam_sample(...)`, or `group_beam_search(...)`.\n",
      "  warnings.warn(\n"
     ]
    }
   ],
   "source": [
    "for index, row in paraphrased.iterrows():\n",
    "    if len(paraphrased.loc[index, \"text\"].split()) > 1:\n",
    "        paraphrased.loc[index, \"text\"] = paraphrase(paraphrased.loc[index, \"text\"])[0] # 0-index to take the one and only first paraphrased item\n",
    "    paraphrased.loc[index, \"article\"] = paraphrase(paraphrased.loc[index, \"article\"])[0]"
   ]
  },
  {
   "cell_type": "code",
   "execution_count": null,
   "metadata": {},
   "outputs": [],
   "source": [
    "paraphrased.sample(5)"
   ]
  },
  {
   "cell_type": "code",
   "execution_count": null,
   "metadata": {},
   "outputs": [],
   "source": [
    "train_dev_paraphrased = pd.concat([train_dev, paraphrased], axis=0, ignore_index=True)"
   ]
  },
  {
   "cell_type": "code",
   "execution_count": null,
   "metadata": {},
   "outputs": [],
   "source": [
    "train_dev_paraphrased.to_csv(\"./processed_data/CONV_train_dev_paraphrased.csv\")"
   ]
  },
  {
   "cell_type": "markdown",
   "metadata": {},
   "source": [
    "## Separate augmented train to check dev performance separately"
   ]
  },
  {
   "cell_type": "code",
   "execution_count": 3,
   "metadata": {},
   "outputs": [],
   "source": [
    "train_dev_paraphrased = pd.read_csv(\"./processed_data/CONV_train_dev_paraphrased.csv\", index_col=0, header=0)"
   ]
  },
  {
   "cell_type": "code",
   "execution_count": 4,
   "metadata": {},
   "outputs": [
    {
     "data": {
      "text/html": [
       "<div>\n",
       "<style scoped>\n",
       "    .dataframe tbody tr th:only-of-type {\n",
       "        vertical-align: middle;\n",
       "    }\n",
       "\n",
       "    .dataframe tbody tr th {\n",
       "        vertical-align: top;\n",
       "    }\n",
       "\n",
       "    .dataframe thead th {\n",
       "        text-align: right;\n",
       "    }\n",
       "</style>\n",
       "<table border=\"1\" class=\"dataframe\">\n",
       "  <thead>\n",
       "    <tr style=\"text-align: right;\">\n",
       "      <th></th>\n",
       "      <th>text</th>\n",
       "      <th>EmotionalPolarity</th>\n",
       "      <th>Emotion</th>\n",
       "      <th>Empathy</th>\n",
       "      <th>article</th>\n",
       "    </tr>\n",
       "  </thead>\n",
       "  <tbody>\n",
       "    <tr>\n",
       "      <th>14490</th>\n",
       "      <td>Today, just like in the past, we have all gone...</td>\n",
       "      <td>2.0000</td>\n",
       "      <td>3.6667</td>\n",
       "      <td>1.6667</td>\n",
       "      <td>The police killing of a black man led to chaos...</td>\n",
       "    </tr>\n",
       "    <tr>\n",
       "      <th>7887</th>\n",
       "      <td>Your one of the few that have a farm and lives...</td>\n",
       "      <td>1.3333</td>\n",
       "      <td>1.6667</td>\n",
       "      <td>2.3333</td>\n",
       "      <td>At least three U.S. military trainers in Jorda...</td>\n",
       "    </tr>\n",
       "    <tr>\n",
       "      <th>22157</th>\n",
       "      <td>Those are good intentions. They could have tak...</td>\n",
       "      <td>0.6667</td>\n",
       "      <td>1.3333</td>\n",
       "      <td>1.6667</td>\n",
       "      <td>U.S. Attorney Channing D.\" said on Friday that...</td>\n",
       "    </tr>\n",
       "  </tbody>\n",
       "</table>\n",
       "</div>"
      ],
      "text/plain": [
       "                                                    text  EmotionalPolarity  \\\n",
       "14490  Today, just like in the past, we have all gone...             2.0000   \n",
       "7887   Your one of the few that have a farm and lives...             1.3333   \n",
       "22157  Those are good intentions. They could have tak...             0.6667   \n",
       "\n",
       "       Emotion  Empathy                                            article  \n",
       "14490   3.6667   1.6667  The police killing of a black man led to chaos...  \n",
       "7887    1.6667   2.3333  At least three U.S. military trainers in Jorda...  \n",
       "22157   1.3333   1.6667  U.S. Attorney Channing D.\" said on Friday that...  "
      ]
     },
     "execution_count": 4,
     "metadata": {},
     "output_type": "execute_result"
    }
   ],
   "source": [
    "train_dev_paraphrased.sample(3)"
   ]
  },
  {
   "cell_type": "code",
   "execution_count": 5,
   "metadata": {},
   "outputs": [],
   "source": [
    "train = train_dev_paraphrased.iloc[0:8776,:]"
   ]
  },
  {
   "cell_type": "code",
   "execution_count": 6,
   "metadata": {},
   "outputs": [],
   "source": [
    "train_paraphrased = train_dev_paraphrased.iloc[11176:19952,:] #2400-dev, so train will start from 8776+2400 = 11176 to 11176+8776=19952"
   ]
  },
  {
   "cell_type": "code",
   "execution_count": 7,
   "metadata": {},
   "outputs": [],
   "source": [
    "train_train_paraphrased = pd.concat([train, train_paraphrased], ignore_index=True, axis=0)"
   ]
  },
  {
   "cell_type": "code",
   "execution_count": 8,
   "metadata": {},
   "outputs": [],
   "source": [
    "train_train_paraphrased.to_csv(\"./processed_data/CONV_train_train_paraphrased.csv\")"
   ]
  },
  {
   "cell_type": "markdown",
   "metadata": {
    "tags": []
   },
   "source": [
    "# Check lengths"
   ]
  },
  {
   "cell_type": "code",
   "execution_count": 52,
   "metadata": {},
   "outputs": [],
   "source": [
    "from datasets import Dataset"
   ]
  },
  {
   "cell_type": "code",
   "execution_count": 54,
   "metadata": {},
   "outputs": [
    {
     "data": {
      "application/vnd.jupyter.widget-view+json": {
       "model_id": "",
       "version_major": 2,
       "version_minor": 0
      },
      "text/plain": [
       "Map:   0%|          | 0/987 [00:00<?, ? examples/s]"
      ]
     },
     "metadata": {},
     "output_type": "display_data"
    }
   ],
   "source": [
    "tokeniser = trf.AutoTokenizer.from_pretrained(\"bert-base-uncased\")\n",
    "\n",
    "#padding=\"longest\" can be deferred to do dynamic padding\n",
    "def tokenise(sentence):\n",
    "    return tokeniser(sentence[\"demographic_essay\"], truncation=True)\n",
    "\n",
    "hugging_dataset = Dataset.from_pandas(train_dev, preserve_index=False)\n",
    "\n",
    "tokenised_hugging_dataset = hugging_dataset.map(tokenise, batched=True)"
   ]
  },
  {
   "cell_type": "code",
   "execution_count": 58,
   "metadata": {
    "id": "DGrZyLKSjM8T"
   },
   "outputs": [
    {
     "name": "stdout",
     "output_type": "stream",
     "text": [
      "Max lengths: 236\n"
     ]
    }
   ],
   "source": [
    "# checking length after tokenisation\n",
    "\n",
    "length = []\n",
    "for i in range(tokenised_hugging_dataset.num_rows):\n",
    "  length.append(len(tokenised_hugging_dataset['input_ids'][i]))\n",
    "\n",
    "print(f\"Max length: {max(length)}\")"
   ]
  },
  {
   "cell_type": "code",
   "execution_count": 61,
   "metadata": {},
   "outputs": [
    {
     "data": {
      "text/plain": [
       "956"
      ]
     },
     "execution_count": 61,
     "metadata": {},
     "output_type": "execute_result"
    }
   ],
   "source": [
    "train_dev[\"demographic_essay\"].str.len().max()"
   ]
  },
  {
   "cell_type": "code",
   "execution_count": 63,
   "metadata": {},
   "outputs": [
    {
     "data": {
      "text/plain": [
       "284"
      ]
     },
     "execution_count": 63,
     "metadata": {},
     "output_type": "execute_result"
    }
   ],
   "source": [
    "train_dev[\"article\"].str.len().min()"
   ]
  },
  {
   "cell_type": "code",
   "execution_count": 10,
   "metadata": {},
   "outputs": [
    {
     "data": {
      "text/plain": [
       "20047"
      ]
     },
     "execution_count": 10,
     "metadata": {},
     "output_type": "execute_result"
    }
   ],
   "source": [
    "train_dev[\"article\"].str.len().max()"
   ]
  },
  {
   "cell_type": "code",
   "execution_count": 8,
   "metadata": {},
   "outputs": [
    {
     "data": {
      "text/plain": [
       "956"
      ]
     },
     "execution_count": 8,
     "metadata": {},
     "output_type": "execute_result"
    }
   ],
   "source": [
    "train_dev[\"demographic_essay\"].str.len().max()"
   ]
  },
  {
   "cell_type": "code",
   "execution_count": 14,
   "metadata": {},
   "outputs": [
    {
     "data": {
      "text/plain": [
       "987"
      ]
     },
     "execution_count": 14,
     "metadata": {},
     "output_type": "execute_result"
    }
   ],
   "source": [
    "train_dev_paraphrased[\"article\"].str.len().max()"
   ]
  },
  {
   "cell_type": "markdown",
   "metadata": {},
   "source": [
    "# Extra"
   ]
  },
  {
   "cell_type": "markdown",
   "metadata": {},
   "source": [
    "## Mapping to speaker demographic and essay"
   ]
  },
  {
   "cell_type": "code",
   "execution_count": 50,
   "metadata": {},
   "outputs": [],
   "source": [
    "essay_train_dev = pd.read_csv(\"./processed_data/preprocessed_train_dev.csv\", header=0, index_col=0)\n",
    "essay_train_dev.head(2)\n",
    "\n",
    "# first duplicate speaker_id is removed, then index set as 'speaker_id' as our target is to extract demographics of speaker\n",
    "essay_train_dev = essay_train_dev.drop_duplicates(subset='speaker_id', keep='first' ).set_index('speaker_id')\n",
    "\n",
    "# following speaker id was missing\n",
    "essay_train_dev.loc[31,'demographic'] = \"I am speaker 31.\"\n",
    "essay_train_dev.loc[26,'demographic'] = \"I am speaker 26.\"\n",
    "\n",
    "raw_train['demographic'] = raw_train['speaker_id'].apply(lambda x: essay_train_dev.loc[x, 'demographic'])"
   ]
  },
  {
   "cell_type": "code",
   "execution_count": 54,
   "metadata": {},
   "outputs": [],
   "source": [
    "essay_train_dev = essay_train_dev.set_index('essay_id')\n",
    "\n",
    "essay_train_dev.loc[501,'essay'] = \"I wrote essay 501\"\n",
    "essay_train_dev.loc[502,'essay'] = \"I wrote essay 502\"\n",
    "\n",
    "raw_train['essay'] = raw_train['essay_id'].apply(lambda x: essay_train_dev.loc[x, 'essay'])"
   ]
  }
 ],
 "metadata": {
  "kernelspec": {
   "display_name": "Python 3 (ipykernel)",
   "language": "python",
   "name": "python3"
  },
  "language_info": {
   "codemirror_mode": {
    "name": "ipython",
    "version": 3
   },
   "file_extension": ".py",
   "mimetype": "text/x-python",
   "name": "python",
   "nbconvert_exporter": "python",
   "pygments_lexer": "ipython3",
   "version": "3.10.10"
  }
 },
 "nbformat": 4,
 "nbformat_minor": 4
}
